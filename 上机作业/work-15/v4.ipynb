{
 "cells": [
  {
   "cell_type": "code",
   "execution_count": 17,
   "id": "initial_id",
   "metadata": {
    "collapsed": true,
    "ExecuteTime": {
     "end_time": "2024-05-21T12:09:32.400331400Z",
     "start_time": "2024-05-21T12:09:32.395770300Z"
    }
   },
   "outputs": [],
   "source": [
    "from IPython.core.interactiveshell import InteractiveShell\n",
    "InteractiveShell.ast_node_interactivity = 'all'\n",
    "\n",
    "# from sklearn.preprocessing import LabelEncoder\n",
    "import numpy as np\n",
    "import pandas as pd"
   ]
  },
  {
   "cell_type": "code",
   "outputs": [],
   "source": [
    "class LabelEncoder(object):\n",
    "    def __init__(self):\n",
    "        self.mapping = {}\n",
    "        self.inverse_mapping = {}\n",
    "\n",
    "    def fit(self, data):\n",
    "        unique_values = np.unique(data)\n",
    "        for i, value in enumerate(unique_values):\n",
    "            self.mapping[value] = i\n",
    "            self.inverse_mapping[i] = value\n",
    "\n",
    "    def transform(self, data):\n",
    "        return np.array([self.mapping[value] for value in data])\n",
    "\n",
    "    def fit_transform(self, data):\n",
    "        self.fit(data)\n",
    "        return self.transform(data)\n",
    "\n",
    "    def inverse_transform(self, data):\n",
    "        return np.array([self.inverse_mapping[value] for value in data])"
   ],
   "metadata": {
    "collapsed": false,
    "ExecuteTime": {
     "end_time": "2024-05-21T12:09:32.424204600Z",
     "start_time": "2024-05-21T12:09:32.402837200Z"
    }
   },
   "id": "7b8a04b20ec48773",
   "execution_count": 18
  },
  {
   "cell_type": "code",
   "outputs": [
    {
     "data": {
      "text/plain": "      0  tcp  http  SF  215  45076  0.1  0.2  0.3  0.4  ...  0.16  0.17   \n0     0    1     6   3  162   4528    0    0    0    0  ...     1     1  \\\n1     0    1     6   3  236   1228    0    0    0    0  ...     2     2   \n2     0    1     6   3  233   2032    0    0    0    0  ...     3     3   \n3     0    1     6   3  239    486    0    0    0    0  ...     4     4   \n4     0    1     6   3  238   1282    0    0    0    0  ...     5     5   \n...  ..  ...   ...  ..  ...    ...  ...  ...  ...  ...  ...   ...   ...   \n9995  0    1     6   3  184   7575    0    0    0    0  ...    57   255   \n9996  0    1     6   3  240    312    0    0    0    0  ...    58   255   \n9997  0    1     6   3  244   2194    0    0    0    0  ...    59   255   \n9998  0    1     6   3  239    691    0    0    0    0  ...    60   255   \n9999  0    1     6   3  242   3456    0    0    0    0  ...    61   255   \n\n      0.00.6  0.00.7  0.00.8  0.00.9  0.00.10  0.00.11  0.00.12  0.00.13  \n0        1.0     0.0    1.00    0.00      0.0      0.0      0.0      0.0  \n1        1.0     0.0    0.50    0.00      0.0      0.0      0.0      0.0  \n2        1.0     0.0    0.33    0.00      0.0      0.0      0.0      0.0  \n3        1.0     0.0    0.25    0.00      0.0      0.0      0.0      0.0  \n4        1.0     0.0    0.20    0.00      0.0      0.0      0.0      0.0  \n...      ...     ...     ...     ...      ...      ...      ...      ...  \n9995     1.0     0.0    0.02    0.07      0.0      0.0      0.0      0.0  \n9996     1.0     0.0    0.02    0.07      0.0      0.0      0.0      0.0  \n9997     1.0     0.0    0.02    0.07      0.0      0.0      0.0      0.0  \n9998     1.0     0.0    0.02    0.07      0.0      0.0      0.0      0.0  \n9999     1.0     0.0    0.02    0.07      0.0      0.0      0.0      0.0  \n\n[10000 rows x 41 columns]",
      "text/html": "<div>\n<style scoped>\n    .dataframe tbody tr th:only-of-type {\n        vertical-align: middle;\n    }\n\n    .dataframe tbody tr th {\n        vertical-align: top;\n    }\n\n    .dataframe thead th {\n        text-align: right;\n    }\n</style>\n<table border=\"1\" class=\"dataframe\">\n  <thead>\n    <tr style=\"text-align: right;\">\n      <th></th>\n      <th>0</th>\n      <th>tcp</th>\n      <th>http</th>\n      <th>SF</th>\n      <th>215</th>\n      <th>45076</th>\n      <th>0.1</th>\n      <th>0.2</th>\n      <th>0.3</th>\n      <th>0.4</th>\n      <th>...</th>\n      <th>0.16</th>\n      <th>0.17</th>\n      <th>0.00.6</th>\n      <th>0.00.7</th>\n      <th>0.00.8</th>\n      <th>0.00.9</th>\n      <th>0.00.10</th>\n      <th>0.00.11</th>\n      <th>0.00.12</th>\n      <th>0.00.13</th>\n    </tr>\n  </thead>\n  <tbody>\n    <tr>\n      <th>0</th>\n      <td>0</td>\n      <td>1</td>\n      <td>6</td>\n      <td>3</td>\n      <td>162</td>\n      <td>4528</td>\n      <td>0</td>\n      <td>0</td>\n      <td>0</td>\n      <td>0</td>\n      <td>...</td>\n      <td>1</td>\n      <td>1</td>\n      <td>1.0</td>\n      <td>0.0</td>\n      <td>1.00</td>\n      <td>0.00</td>\n      <td>0.0</td>\n      <td>0.0</td>\n      <td>0.0</td>\n      <td>0.0</td>\n    </tr>\n    <tr>\n      <th>1</th>\n      <td>0</td>\n      <td>1</td>\n      <td>6</td>\n      <td>3</td>\n      <td>236</td>\n      <td>1228</td>\n      <td>0</td>\n      <td>0</td>\n      <td>0</td>\n      <td>0</td>\n      <td>...</td>\n      <td>2</td>\n      <td>2</td>\n      <td>1.0</td>\n      <td>0.0</td>\n      <td>0.50</td>\n      <td>0.00</td>\n      <td>0.0</td>\n      <td>0.0</td>\n      <td>0.0</td>\n      <td>0.0</td>\n    </tr>\n    <tr>\n      <th>2</th>\n      <td>0</td>\n      <td>1</td>\n      <td>6</td>\n      <td>3</td>\n      <td>233</td>\n      <td>2032</td>\n      <td>0</td>\n      <td>0</td>\n      <td>0</td>\n      <td>0</td>\n      <td>...</td>\n      <td>3</td>\n      <td>3</td>\n      <td>1.0</td>\n      <td>0.0</td>\n      <td>0.33</td>\n      <td>0.00</td>\n      <td>0.0</td>\n      <td>0.0</td>\n      <td>0.0</td>\n      <td>0.0</td>\n    </tr>\n    <tr>\n      <th>3</th>\n      <td>0</td>\n      <td>1</td>\n      <td>6</td>\n      <td>3</td>\n      <td>239</td>\n      <td>486</td>\n      <td>0</td>\n      <td>0</td>\n      <td>0</td>\n      <td>0</td>\n      <td>...</td>\n      <td>4</td>\n      <td>4</td>\n      <td>1.0</td>\n      <td>0.0</td>\n      <td>0.25</td>\n      <td>0.00</td>\n      <td>0.0</td>\n      <td>0.0</td>\n      <td>0.0</td>\n      <td>0.0</td>\n    </tr>\n    <tr>\n      <th>4</th>\n      <td>0</td>\n      <td>1</td>\n      <td>6</td>\n      <td>3</td>\n      <td>238</td>\n      <td>1282</td>\n      <td>0</td>\n      <td>0</td>\n      <td>0</td>\n      <td>0</td>\n      <td>...</td>\n      <td>5</td>\n      <td>5</td>\n      <td>1.0</td>\n      <td>0.0</td>\n      <td>0.20</td>\n      <td>0.00</td>\n      <td>0.0</td>\n      <td>0.0</td>\n      <td>0.0</td>\n      <td>0.0</td>\n    </tr>\n    <tr>\n      <th>...</th>\n      <td>...</td>\n      <td>...</td>\n      <td>...</td>\n      <td>...</td>\n      <td>...</td>\n      <td>...</td>\n      <td>...</td>\n      <td>...</td>\n      <td>...</td>\n      <td>...</td>\n      <td>...</td>\n      <td>...</td>\n      <td>...</td>\n      <td>...</td>\n      <td>...</td>\n      <td>...</td>\n      <td>...</td>\n      <td>...</td>\n      <td>...</td>\n      <td>...</td>\n      <td>...</td>\n    </tr>\n    <tr>\n      <th>9995</th>\n      <td>0</td>\n      <td>1</td>\n      <td>6</td>\n      <td>3</td>\n      <td>184</td>\n      <td>7575</td>\n      <td>0</td>\n      <td>0</td>\n      <td>0</td>\n      <td>0</td>\n      <td>...</td>\n      <td>57</td>\n      <td>255</td>\n      <td>1.0</td>\n      <td>0.0</td>\n      <td>0.02</td>\n      <td>0.07</td>\n      <td>0.0</td>\n      <td>0.0</td>\n      <td>0.0</td>\n      <td>0.0</td>\n    </tr>\n    <tr>\n      <th>9996</th>\n      <td>0</td>\n      <td>1</td>\n      <td>6</td>\n      <td>3</td>\n      <td>240</td>\n      <td>312</td>\n      <td>0</td>\n      <td>0</td>\n      <td>0</td>\n      <td>0</td>\n      <td>...</td>\n      <td>58</td>\n      <td>255</td>\n      <td>1.0</td>\n      <td>0.0</td>\n      <td>0.02</td>\n      <td>0.07</td>\n      <td>0.0</td>\n      <td>0.0</td>\n      <td>0.0</td>\n      <td>0.0</td>\n    </tr>\n    <tr>\n      <th>9997</th>\n      <td>0</td>\n      <td>1</td>\n      <td>6</td>\n      <td>3</td>\n      <td>244</td>\n      <td>2194</td>\n      <td>0</td>\n      <td>0</td>\n      <td>0</td>\n      <td>0</td>\n      <td>...</td>\n      <td>59</td>\n      <td>255</td>\n      <td>1.0</td>\n      <td>0.0</td>\n      <td>0.02</td>\n      <td>0.07</td>\n      <td>0.0</td>\n      <td>0.0</td>\n      <td>0.0</td>\n      <td>0.0</td>\n    </tr>\n    <tr>\n      <th>9998</th>\n      <td>0</td>\n      <td>1</td>\n      <td>6</td>\n      <td>3</td>\n      <td>239</td>\n      <td>691</td>\n      <td>0</td>\n      <td>0</td>\n      <td>0</td>\n      <td>0</td>\n      <td>...</td>\n      <td>60</td>\n      <td>255</td>\n      <td>1.0</td>\n      <td>0.0</td>\n      <td>0.02</td>\n      <td>0.07</td>\n      <td>0.0</td>\n      <td>0.0</td>\n      <td>0.0</td>\n      <td>0.0</td>\n    </tr>\n    <tr>\n      <th>9999</th>\n      <td>0</td>\n      <td>1</td>\n      <td>6</td>\n      <td>3</td>\n      <td>242</td>\n      <td>3456</td>\n      <td>0</td>\n      <td>0</td>\n      <td>0</td>\n      <td>0</td>\n      <td>...</td>\n      <td>61</td>\n      <td>255</td>\n      <td>1.0</td>\n      <td>0.0</td>\n      <td>0.02</td>\n      <td>0.07</td>\n      <td>0.0</td>\n      <td>0.0</td>\n      <td>0.0</td>\n      <td>0.0</td>\n    </tr>\n  </tbody>\n</table>\n<p>10000 rows × 41 columns</p>\n</div>"
     },
     "execution_count": 19,
     "metadata": {},
     "output_type": "execute_result"
    }
   ],
   "source": [
    "# 读取数据集\n",
    "data = pd.read_csv('kddcup.data.gz').iloc[:10000, :]\n",
    "X = data.iloc[:, :-1]\n",
    "labels = data.iloc[:, -1]\n",
    "\n",
    "string_columns = X.select_dtypes(include=['object']).columns\n",
    "encoder = LabelEncoder()\n",
    "for col in string_columns:\n",
    "    X[col] = encoder.fit_transform(X[col])\n",
    "\n",
    "X"
   ],
   "metadata": {
    "collapsed": false,
    "ExecuteTime": {
     "end_time": "2024-05-21T12:09:41.632246800Z",
     "start_time": "2024-05-21T12:09:32.409137900Z"
    }
   },
   "id": "5c134d36157d0432",
   "execution_count": 19
  },
  {
   "cell_type": "code",
   "outputs": [],
   "source": [
    "def min_max_normalize(data):\n",
    "    min_val = data.min(axis=0)\n",
    "    max_val = data.max(axis=0)\n",
    "    return (data - min_val) / (max_val - min_val)\n",
    "\n",
    "def z_score_normalize(data):\n",
    "    mean = data.mean(axis=0)\n",
    "    std = data.std(axis=0)\n",
    "    return (data - mean) / std"
   ],
   "metadata": {
    "collapsed": false,
    "ExecuteTime": {
     "end_time": "2024-05-21T12:09:41.633246800Z",
     "start_time": "2024-05-21T12:09:41.628878300Z"
    }
   },
   "id": "504941e7982042c6",
   "execution_count": 20
  },
  {
   "cell_type": "code",
   "outputs": [
    {
     "data": {
      "text/plain": "        0  tcp      http   SF       215     45076  0.3  0.4    1  0.6  ...   \n0     0.0  0.5  0.666667  1.0  0.008215  0.017023  0.0  0.0  1.0  0.0  ...  \\\n1     0.0  0.5  0.666667  1.0  0.011967  0.004617  0.0  0.0  1.0  0.0  ...   \n2     0.0  0.5  0.666667  1.0  0.011815  0.007639  0.0  0.0  1.0  0.0  ...   \n3     0.0  0.5  0.666667  1.0  0.012119  0.001827  0.0  0.0  1.0  0.0  ...   \n4     0.0  0.5  0.666667  1.0  0.012068  0.004820  0.0  0.0  1.0  0.0  ...   \n...   ...  ...       ...  ...       ...       ...  ...  ...  ...  ...  ...   \n9995  0.0  0.5  0.666667  1.0  0.009330  0.028478  0.0  0.0  1.0  0.0  ...   \n9996  0.0  0.5  0.666667  1.0  0.012170  0.001173  0.0  0.0  1.0  0.0  ...   \n9997  0.0  0.5  0.666667  1.0  0.012373  0.008248  0.0  0.0  1.0  0.0  ...   \n9998  0.0  0.5  0.666667  1.0  0.012119  0.002598  0.0  0.0  1.0  0.0  ...   \n9999  0.0  0.5  0.666667  1.0  0.012271  0.012993  0.0  0.0  1.0  0.0  ...   \n\n      0.00.4  0.00.5      0.16      0.17  0.00.6  0.00.7  0.00.8  0.00.9   \n0        0.0     0.0  0.000000  0.000000     1.0     0.0    1.00    0.00  \\\n1        0.0     0.0  0.003937  0.003937     1.0     0.0    0.50    0.00   \n2        0.0     0.0  0.007874  0.007874     1.0     0.0    0.33    0.00   \n3        0.0     0.0  0.011811  0.011811     1.0     0.0    0.25    0.00   \n4        0.0     0.0  0.015748  0.015748     1.0     0.0    0.20    0.00   \n...      ...     ...       ...       ...     ...     ...     ...     ...   \n9995     0.0     0.0  0.220472  1.000000     1.0     0.0    0.02    0.07   \n9996     0.0     0.0  0.224409  1.000000     1.0     0.0    0.02    0.07   \n9997     0.0     0.0  0.228346  1.000000     1.0     0.0    0.02    0.07   \n9998     0.0     0.0  0.232283  1.000000     1.0     0.0    0.02    0.07   \n9999     0.0     0.0  0.236220  1.000000     1.0     0.0    0.02    0.07   \n\n      0.00.10  0.00.11  \n0         0.0      0.0  \n1         0.0      0.0  \n2         0.0      0.0  \n3         0.0      0.0  \n4         0.0      0.0  \n...       ...      ...  \n9995      0.0      0.0  \n9996      0.0      0.0  \n9997      0.0      0.0  \n9998      0.0      0.0  \n9999      0.0      0.0  \n\n[10000 rows x 32 columns]",
      "text/html": "<div>\n<style scoped>\n    .dataframe tbody tr th:only-of-type {\n        vertical-align: middle;\n    }\n\n    .dataframe tbody tr th {\n        vertical-align: top;\n    }\n\n    .dataframe thead th {\n        text-align: right;\n    }\n</style>\n<table border=\"1\" class=\"dataframe\">\n  <thead>\n    <tr style=\"text-align: right;\">\n      <th></th>\n      <th>0</th>\n      <th>tcp</th>\n      <th>http</th>\n      <th>SF</th>\n      <th>215</th>\n      <th>45076</th>\n      <th>0.3</th>\n      <th>0.4</th>\n      <th>1</th>\n      <th>0.6</th>\n      <th>...</th>\n      <th>0.00.4</th>\n      <th>0.00.5</th>\n      <th>0.16</th>\n      <th>0.17</th>\n      <th>0.00.6</th>\n      <th>0.00.7</th>\n      <th>0.00.8</th>\n      <th>0.00.9</th>\n      <th>0.00.10</th>\n      <th>0.00.11</th>\n    </tr>\n  </thead>\n  <tbody>\n    <tr>\n      <th>0</th>\n      <td>0.0</td>\n      <td>0.5</td>\n      <td>0.666667</td>\n      <td>1.0</td>\n      <td>0.008215</td>\n      <td>0.017023</td>\n      <td>0.0</td>\n      <td>0.0</td>\n      <td>1.0</td>\n      <td>0.0</td>\n      <td>...</td>\n      <td>0.0</td>\n      <td>0.0</td>\n      <td>0.000000</td>\n      <td>0.000000</td>\n      <td>1.0</td>\n      <td>0.0</td>\n      <td>1.00</td>\n      <td>0.00</td>\n      <td>0.0</td>\n      <td>0.0</td>\n    </tr>\n    <tr>\n      <th>1</th>\n      <td>0.0</td>\n      <td>0.5</td>\n      <td>0.666667</td>\n      <td>1.0</td>\n      <td>0.011967</td>\n      <td>0.004617</td>\n      <td>0.0</td>\n      <td>0.0</td>\n      <td>1.0</td>\n      <td>0.0</td>\n      <td>...</td>\n      <td>0.0</td>\n      <td>0.0</td>\n      <td>0.003937</td>\n      <td>0.003937</td>\n      <td>1.0</td>\n      <td>0.0</td>\n      <td>0.50</td>\n      <td>0.00</td>\n      <td>0.0</td>\n      <td>0.0</td>\n    </tr>\n    <tr>\n      <th>2</th>\n      <td>0.0</td>\n      <td>0.5</td>\n      <td>0.666667</td>\n      <td>1.0</td>\n      <td>0.011815</td>\n      <td>0.007639</td>\n      <td>0.0</td>\n      <td>0.0</td>\n      <td>1.0</td>\n      <td>0.0</td>\n      <td>...</td>\n      <td>0.0</td>\n      <td>0.0</td>\n      <td>0.007874</td>\n      <td>0.007874</td>\n      <td>1.0</td>\n      <td>0.0</td>\n      <td>0.33</td>\n      <td>0.00</td>\n      <td>0.0</td>\n      <td>0.0</td>\n    </tr>\n    <tr>\n      <th>3</th>\n      <td>0.0</td>\n      <td>0.5</td>\n      <td>0.666667</td>\n      <td>1.0</td>\n      <td>0.012119</td>\n      <td>0.001827</td>\n      <td>0.0</td>\n      <td>0.0</td>\n      <td>1.0</td>\n      <td>0.0</td>\n      <td>...</td>\n      <td>0.0</td>\n      <td>0.0</td>\n      <td>0.011811</td>\n      <td>0.011811</td>\n      <td>1.0</td>\n      <td>0.0</td>\n      <td>0.25</td>\n      <td>0.00</td>\n      <td>0.0</td>\n      <td>0.0</td>\n    </tr>\n    <tr>\n      <th>4</th>\n      <td>0.0</td>\n      <td>0.5</td>\n      <td>0.666667</td>\n      <td>1.0</td>\n      <td>0.012068</td>\n      <td>0.004820</td>\n      <td>0.0</td>\n      <td>0.0</td>\n      <td>1.0</td>\n      <td>0.0</td>\n      <td>...</td>\n      <td>0.0</td>\n      <td>0.0</td>\n      <td>0.015748</td>\n      <td>0.015748</td>\n      <td>1.0</td>\n      <td>0.0</td>\n      <td>0.20</td>\n      <td>0.00</td>\n      <td>0.0</td>\n      <td>0.0</td>\n    </tr>\n    <tr>\n      <th>...</th>\n      <td>...</td>\n      <td>...</td>\n      <td>...</td>\n      <td>...</td>\n      <td>...</td>\n      <td>...</td>\n      <td>...</td>\n      <td>...</td>\n      <td>...</td>\n      <td>...</td>\n      <td>...</td>\n      <td>...</td>\n      <td>...</td>\n      <td>...</td>\n      <td>...</td>\n      <td>...</td>\n      <td>...</td>\n      <td>...</td>\n      <td>...</td>\n      <td>...</td>\n      <td>...</td>\n    </tr>\n    <tr>\n      <th>9995</th>\n      <td>0.0</td>\n      <td>0.5</td>\n      <td>0.666667</td>\n      <td>1.0</td>\n      <td>0.009330</td>\n      <td>0.028478</td>\n      <td>0.0</td>\n      <td>0.0</td>\n      <td>1.0</td>\n      <td>0.0</td>\n      <td>...</td>\n      <td>0.0</td>\n      <td>0.0</td>\n      <td>0.220472</td>\n      <td>1.000000</td>\n      <td>1.0</td>\n      <td>0.0</td>\n      <td>0.02</td>\n      <td>0.07</td>\n      <td>0.0</td>\n      <td>0.0</td>\n    </tr>\n    <tr>\n      <th>9996</th>\n      <td>0.0</td>\n      <td>0.5</td>\n      <td>0.666667</td>\n      <td>1.0</td>\n      <td>0.012170</td>\n      <td>0.001173</td>\n      <td>0.0</td>\n      <td>0.0</td>\n      <td>1.0</td>\n      <td>0.0</td>\n      <td>...</td>\n      <td>0.0</td>\n      <td>0.0</td>\n      <td>0.224409</td>\n      <td>1.000000</td>\n      <td>1.0</td>\n      <td>0.0</td>\n      <td>0.02</td>\n      <td>0.07</td>\n      <td>0.0</td>\n      <td>0.0</td>\n    </tr>\n    <tr>\n      <th>9997</th>\n      <td>0.0</td>\n      <td>0.5</td>\n      <td>0.666667</td>\n      <td>1.0</td>\n      <td>0.012373</td>\n      <td>0.008248</td>\n      <td>0.0</td>\n      <td>0.0</td>\n      <td>1.0</td>\n      <td>0.0</td>\n      <td>...</td>\n      <td>0.0</td>\n      <td>0.0</td>\n      <td>0.228346</td>\n      <td>1.000000</td>\n      <td>1.0</td>\n      <td>0.0</td>\n      <td>0.02</td>\n      <td>0.07</td>\n      <td>0.0</td>\n      <td>0.0</td>\n    </tr>\n    <tr>\n      <th>9998</th>\n      <td>0.0</td>\n      <td>0.5</td>\n      <td>0.666667</td>\n      <td>1.0</td>\n      <td>0.012119</td>\n      <td>0.002598</td>\n      <td>0.0</td>\n      <td>0.0</td>\n      <td>1.0</td>\n      <td>0.0</td>\n      <td>...</td>\n      <td>0.0</td>\n      <td>0.0</td>\n      <td>0.232283</td>\n      <td>1.000000</td>\n      <td>1.0</td>\n      <td>0.0</td>\n      <td>0.02</td>\n      <td>0.07</td>\n      <td>0.0</td>\n      <td>0.0</td>\n    </tr>\n    <tr>\n      <th>9999</th>\n      <td>0.0</td>\n      <td>0.5</td>\n      <td>0.666667</td>\n      <td>1.0</td>\n      <td>0.012271</td>\n      <td>0.012993</td>\n      <td>0.0</td>\n      <td>0.0</td>\n      <td>1.0</td>\n      <td>0.0</td>\n      <td>...</td>\n      <td>0.0</td>\n      <td>0.0</td>\n      <td>0.236220</td>\n      <td>1.000000</td>\n      <td>1.0</td>\n      <td>0.0</td>\n      <td>0.02</td>\n      <td>0.07</td>\n      <td>0.0</td>\n      <td>0.0</td>\n    </tr>\n  </tbody>\n</table>\n<p>10000 rows × 32 columns</p>\n</div>"
     },
     "execution_count": 21,
     "metadata": {},
     "output_type": "execute_result"
    }
   ],
   "source": [
    "X = min_max_normalize(X).dropna(axis=1)\n",
    "X"
   ],
   "metadata": {
    "collapsed": false,
    "ExecuteTime": {
     "end_time": "2024-05-21T12:09:41.690227600Z",
     "start_time": "2024-05-21T12:09:41.633246800Z"
    }
   },
   "id": "d41223c970468bc2",
   "execution_count": 21
  },
  {
   "cell_type": "code",
   "outputs": [
    {
     "name": "stdout",
     "output_type": "stream",
     "text": [
      "聚类结果： [1 1 2 2 1 0]\n"
     ]
    }
   ],
   "source": [
    "import numpy as np\n",
    "\n",
    "class SemiSupervisedKMeans:\n",
    "    def __init__(self, n_clusters=8, max_iter=300, tol=1e-4):\n",
    "        self.n_clusters = n_clusters\n",
    "        self.max_iter = max_iter\n",
    "        self.tol = tol\n",
    "\n",
    "    def fit(self, X, y):\n",
    "        # 初始化聚类中心\n",
    "        labeled_centers = []\n",
    "        for label in np.unique(y):\n",
    "            labeled_centers.append(np.mean(X[y == label], axis=0))\n",
    "        unlabeled_centers = X[np.random.choice(len(X), self.n_clusters - len(labeled_centers), replace=False)]\n",
    "        centers = np.vstack((labeled_centers, unlabeled_centers))\n",
    "        \n",
    "        for _ in range(self.max_iter):\n",
    "            # 分配数据点到最近的聚类中心\n",
    "            distances = np.linalg.norm(X[:, np.newaxis] - centers, axis=2)\n",
    "            labels = np.argmin(distances, axis=1)\n",
    "            \n",
    "            # 更新聚类中心\n",
    "            new_centers = np.array([np.mean(X[labels == k], axis=0) for k in range(self.n_clusters)])\n",
    "            \n",
    "            # 计算聚类中心的变化量\n",
    "            center_shift = np.linalg.norm(new_centers - centers)\n",
    "            \n",
    "            # 更新聚类中心\n",
    "            centers = new_centers\n",
    "            \n",
    "            # 如果聚类中心的变化量小于阈值，停止迭代\n",
    "            if center_shift < self.tol:\n",
    "                break\n",
    "        \n",
    "        self.labels_ = labels\n",
    "        self.cluster_centers_ = centers\n",
    "\n",
    "# 示例数据\n",
    "X = np.array([[1, 2],\n",
    "              [1.5, 1.8],\n",
    "              [5, 8],\n",
    "              [8, 8],\n",
    "              [1, 0.6],\n",
    "              [9, 11]])\n",
    "\n",
    "# 示例数据：标签信息（部分数据点）\n",
    "y = np.array([0, 0, 1, 1, 0, -1])\n",
    "\n",
    "# 使用自定义的 SemiSupervisedKMeans 算法进行聚类\n",
    "kmeans = SemiSupervisedKMeans(n_clusters=3)\n",
    "kmeans.fit(X, y)\n",
    "\n",
    "# 获取聚类结果\n",
    "labels = kmeans.labels_\n",
    "\n",
    "print(\"聚类结果：\", labels)\n"
   ],
   "metadata": {
    "collapsed": false,
    "ExecuteTime": {
     "end_time": "2024-05-21T12:14:32.648712700Z",
     "start_time": "2024-05-21T12:14:32.642882800Z"
    }
   },
   "id": "294dbb35db47430e",
   "execution_count": 33
  },
  {
   "cell_type": "code",
   "outputs": [],
   "source": [
    "class Cluster(object):\n",
    "    def __init__(self):\n",
    "        ...\n",
    "    def fit(self, X):\n",
    "        ...\n",
    "    def predict(self, X):\n",
    "        ...\n",
    "    def fit_predict(self, X):\n",
    "        self.fit(X)\n",
    "        return self.predict(X)\n",
    "    def estimate(self, X, y):\n",
    "        y_pred = self.predict(X)\n",
    "        return np.mean(y_pred == y)"
   ],
   "metadata": {
    "collapsed": false,
    "ExecuteTime": {
     "end_time": "2024-05-21T12:09:41.724445300Z",
     "start_time": "2024-05-21T12:09:41.670935600Z"
    }
   },
   "id": "1bde717b04841c28",
   "execution_count": 22
  },
  {
   "cell_type": "code",
   "outputs": [],
   "source": [
    "class KMeans(Cluster):\n",
    "    def __init__(self, k=2, max_iter=100, tol=1e-4):\n",
    "        self.k = k\n",
    "        self.max_iter = max_iter\n",
    "        self.tol = tol\n",
    "        super(KMeans, self).__init__()\n",
    "\n",
    "    def fit(self, X):\n",
    "        n_samples, n_features = X.shape\n",
    "        self.centroids = np.zeros((self.k, n_features))\n",
    "        self.labels = np.zeros(n_samples)\n",
    "        self.inertia = 0\n",
    "\n",
    "        for i in range(self.max_iter):\n",
    "            # 计算每个样本到各个中心的距离\n",
    "            distances = np.linalg.norm(X - self.centroids, axis=1)\n",
    "            # 确定样本所属的簇\n",
    "            self.labels = np.argmin(distances, axis=1)\n",
    "            # 重新计算各个中心\n",
    "            for j in range(self.k):\n",
    "                self.centroids[j] = X[self.labels == j].mean(axis=0)\n",
    "            # 计算轮廓系数\n",
    "            new_inertia = np.sum(np.min(distances, axis=1))\n",
    "            if abs(new_inertia - self.inertia) < self.tol:\n",
    "                break\n",
    "            self.inertia = new_inertia\n",
    "\n",
    "    def predict(self, X):\n",
    "        distances = np.linalg.norm(X - self.centroids, axis=1)\n",
    "        return np.argmin(distances, axis=1)"
   ],
   "metadata": {
    "collapsed": false,
    "ExecuteTime": {
     "end_time": "2024-05-21T12:09:41.747337Z",
     "start_time": "2024-05-21T12:09:41.675919Z"
    }
   },
   "id": "3e59bbe1651ea9a0",
   "execution_count": 23
  },
  {
   "cell_type": "code",
   "outputs": [
    {
     "ename": "ValueError",
     "evalue": "Unable to coerce to DataFrame, shape must be (10000, 32): given (2, 32)",
     "output_type": "error",
     "traceback": [
      "\u001B[1;31m---------------------------------------------------------------------------\u001B[0m",
      "\u001B[1;31mValueError\u001B[0m                                Traceback (most recent call last)",
      "Cell \u001B[1;32mIn[24], line 2\u001B[0m\n\u001B[0;32m      1\u001B[0m kmeans \u001B[38;5;241m=\u001B[39m KMeans(k\u001B[38;5;241m=\u001B[39m\u001B[38;5;241m2\u001B[39m)\n\u001B[1;32m----> 2\u001B[0m \u001B[43mkmeans\u001B[49m\u001B[38;5;241;43m.\u001B[39;49m\u001B[43mfit\u001B[49m\u001B[43m(\u001B[49m\u001B[43mX\u001B[49m\u001B[43m)\u001B[49m\n\u001B[0;32m      3\u001B[0m kmeans\u001B[38;5;241m.\u001B[39mestimate(X, labels)\n",
      "Cell \u001B[1;32mIn[23], line 16\u001B[0m, in \u001B[0;36mKMeans.fit\u001B[1;34m(self, X)\u001B[0m\n\u001B[0;32m     12\u001B[0m \u001B[38;5;28mself\u001B[39m\u001B[38;5;241m.\u001B[39minertia \u001B[38;5;241m=\u001B[39m \u001B[38;5;241m0\u001B[39m\n\u001B[0;32m     14\u001B[0m \u001B[38;5;28;01mfor\u001B[39;00m i \u001B[38;5;129;01min\u001B[39;00m \u001B[38;5;28mrange\u001B[39m(\u001B[38;5;28mself\u001B[39m\u001B[38;5;241m.\u001B[39mmax_iter):\n\u001B[0;32m     15\u001B[0m     \u001B[38;5;66;03m# 计算每个样本到各个中心的距离\u001B[39;00m\n\u001B[1;32m---> 16\u001B[0m     distances \u001B[38;5;241m=\u001B[39m np\u001B[38;5;241m.\u001B[39mlinalg\u001B[38;5;241m.\u001B[39mnorm(\u001B[43mX\u001B[49m\u001B[43m \u001B[49m\u001B[38;5;241;43m-\u001B[39;49m\u001B[43m \u001B[49m\u001B[38;5;28;43mself\u001B[39;49m\u001B[38;5;241;43m.\u001B[39;49m\u001B[43mcentroids\u001B[49m, axis\u001B[38;5;241m=\u001B[39m\u001B[38;5;241m1\u001B[39m)\n\u001B[0;32m     17\u001B[0m     \u001B[38;5;66;03m# 确定样本所属的簇\u001B[39;00m\n\u001B[0;32m     18\u001B[0m     \u001B[38;5;28mself\u001B[39m\u001B[38;5;241m.\u001B[39mlabels \u001B[38;5;241m=\u001B[39m np\u001B[38;5;241m.\u001B[39margmin(distances, axis\u001B[38;5;241m=\u001B[39m\u001B[38;5;241m1\u001B[39m)\n",
      "File \u001B[1;32mD:\\Python\\Lib\\site-packages\\pandas\\core\\ops\\common.py:81\u001B[0m, in \u001B[0;36m_unpack_zerodim_and_defer.<locals>.new_method\u001B[1;34m(self, other)\u001B[0m\n\u001B[0;32m     77\u001B[0m             \u001B[38;5;28;01mreturn\u001B[39;00m \u001B[38;5;28mNotImplemented\u001B[39m\n\u001B[0;32m     79\u001B[0m other \u001B[38;5;241m=\u001B[39m item_from_zerodim(other)\n\u001B[1;32m---> 81\u001B[0m \u001B[38;5;28;01mreturn\u001B[39;00m \u001B[43mmethod\u001B[49m\u001B[43m(\u001B[49m\u001B[38;5;28;43mself\u001B[39;49m\u001B[43m,\u001B[49m\u001B[43m \u001B[49m\u001B[43mother\u001B[49m\u001B[43m)\u001B[49m\n",
      "File \u001B[1;32mD:\\Python\\Lib\\site-packages\\pandas\\core\\arraylike.py:194\u001B[0m, in \u001B[0;36mOpsMixin.__sub__\u001B[1;34m(self, other)\u001B[0m\n\u001B[0;32m    192\u001B[0m \u001B[38;5;129m@unpack_zerodim_and_defer\u001B[39m(\u001B[38;5;124m\"\u001B[39m\u001B[38;5;124m__sub__\u001B[39m\u001B[38;5;124m\"\u001B[39m)\n\u001B[0;32m    193\u001B[0m \u001B[38;5;28;01mdef\u001B[39;00m \u001B[38;5;21m__sub__\u001B[39m(\u001B[38;5;28mself\u001B[39m, other):\n\u001B[1;32m--> 194\u001B[0m     \u001B[38;5;28;01mreturn\u001B[39;00m \u001B[38;5;28;43mself\u001B[39;49m\u001B[38;5;241;43m.\u001B[39;49m\u001B[43m_arith_method\u001B[49m\u001B[43m(\u001B[49m\u001B[43mother\u001B[49m\u001B[43m,\u001B[49m\u001B[43m \u001B[49m\u001B[43moperator\u001B[49m\u001B[38;5;241;43m.\u001B[39;49m\u001B[43msub\u001B[49m\u001B[43m)\u001B[49m\n",
      "File \u001B[1;32mD:\\Python\\Lib\\site-packages\\pandas\\core\\frame.py:7459\u001B[0m, in \u001B[0;36mDataFrame._arith_method\u001B[1;34m(self, other, op)\u001B[0m\n\u001B[0;32m   7456\u001B[0m axis: Literal[\u001B[38;5;241m1\u001B[39m] \u001B[38;5;241m=\u001B[39m \u001B[38;5;241m1\u001B[39m  \u001B[38;5;66;03m# only relevant for Series other case\u001B[39;00m\n\u001B[0;32m   7457\u001B[0m other \u001B[38;5;241m=\u001B[39m ops\u001B[38;5;241m.\u001B[39mmaybe_prepare_scalar_for_op(other, (\u001B[38;5;28mself\u001B[39m\u001B[38;5;241m.\u001B[39mshape[axis],))\n\u001B[1;32m-> 7459\u001B[0m \u001B[38;5;28mself\u001B[39m, other \u001B[38;5;241m=\u001B[39m \u001B[43mops\u001B[49m\u001B[38;5;241;43m.\u001B[39;49m\u001B[43malign_method_FRAME\u001B[49m\u001B[43m(\u001B[49m\u001B[38;5;28;43mself\u001B[39;49m\u001B[43m,\u001B[49m\u001B[43m \u001B[49m\u001B[43mother\u001B[49m\u001B[43m,\u001B[49m\u001B[43m \u001B[49m\u001B[43maxis\u001B[49m\u001B[43m,\u001B[49m\u001B[43m \u001B[49m\u001B[43mflex\u001B[49m\u001B[38;5;241;43m=\u001B[39;49m\u001B[38;5;28;43;01mTrue\u001B[39;49;00m\u001B[43m,\u001B[49m\u001B[43m \u001B[49m\u001B[43mlevel\u001B[49m\u001B[38;5;241;43m=\u001B[39;49m\u001B[38;5;28;43;01mNone\u001B[39;49;00m\u001B[43m)\u001B[49m\n\u001B[0;32m   7461\u001B[0m new_data \u001B[38;5;241m=\u001B[39m \u001B[38;5;28mself\u001B[39m\u001B[38;5;241m.\u001B[39m_dispatch_frame_op(other, op, axis\u001B[38;5;241m=\u001B[39maxis)\n\u001B[0;32m   7462\u001B[0m \u001B[38;5;28;01mreturn\u001B[39;00m \u001B[38;5;28mself\u001B[39m\u001B[38;5;241m.\u001B[39m_construct_result(new_data)\n",
      "File \u001B[1;32mD:\\Python\\Lib\\site-packages\\pandas\\core\\ops\\__init__.py:288\u001B[0m, in \u001B[0;36malign_method_FRAME\u001B[1;34m(left, right, axis, flex, level)\u001B[0m\n\u001B[0;32m    285\u001B[0m         right \u001B[38;5;241m=\u001B[39m to_series(right[\u001B[38;5;241m0\u001B[39m, :])\n\u001B[0;32m    287\u001B[0m     \u001B[38;5;28;01melse\u001B[39;00m:\n\u001B[1;32m--> 288\u001B[0m         \u001B[38;5;28;01mraise\u001B[39;00m \u001B[38;5;167;01mValueError\u001B[39;00m(\n\u001B[0;32m    289\u001B[0m             \u001B[38;5;124m\"\u001B[39m\u001B[38;5;124mUnable to coerce to DataFrame, shape \u001B[39m\u001B[38;5;124m\"\u001B[39m\n\u001B[0;32m    290\u001B[0m             \u001B[38;5;124mf\u001B[39m\u001B[38;5;124m\"\u001B[39m\u001B[38;5;124mmust be \u001B[39m\u001B[38;5;132;01m{\u001B[39;00mleft\u001B[38;5;241m.\u001B[39mshape\u001B[38;5;132;01m}\u001B[39;00m\u001B[38;5;124m: given \u001B[39m\u001B[38;5;132;01m{\u001B[39;00mright\u001B[38;5;241m.\u001B[39mshape\u001B[38;5;132;01m}\u001B[39;00m\u001B[38;5;124m\"\u001B[39m\n\u001B[0;32m    291\u001B[0m         )\n\u001B[0;32m    293\u001B[0m \u001B[38;5;28;01melif\u001B[39;00m right\u001B[38;5;241m.\u001B[39mndim \u001B[38;5;241m>\u001B[39m \u001B[38;5;241m2\u001B[39m:\n\u001B[0;32m    294\u001B[0m     \u001B[38;5;28;01mraise\u001B[39;00m \u001B[38;5;167;01mValueError\u001B[39;00m(\n\u001B[0;32m    295\u001B[0m         \u001B[38;5;124m\"\u001B[39m\u001B[38;5;124mUnable to coerce to Series/DataFrame, \u001B[39m\u001B[38;5;124m\"\u001B[39m\n\u001B[0;32m    296\u001B[0m         \u001B[38;5;124mf\u001B[39m\u001B[38;5;124m\"\u001B[39m\u001B[38;5;124mdimension must be <= 2: \u001B[39m\u001B[38;5;132;01m{\u001B[39;00mright\u001B[38;5;241m.\u001B[39mshape\u001B[38;5;132;01m}\u001B[39;00m\u001B[38;5;124m\"\u001B[39m\n\u001B[0;32m    297\u001B[0m     )\n",
      "\u001B[1;31mValueError\u001B[0m: Unable to coerce to DataFrame, shape must be (10000, 32): given (2, 32)"
     ]
    }
   ],
   "source": [
    "kmeans = KMeans(k=2)\n",
    "kmeans.fit(X)\n",
    "kmeans.estimate(X, labels)"
   ],
   "metadata": {
    "collapsed": false,
    "ExecuteTime": {
     "end_time": "2024-05-21T12:09:42.056567200Z",
     "start_time": "2024-05-21T12:09:41.684051300Z"
    }
   },
   "id": "952dd3704a07f007",
   "execution_count": 24
  }
 ],
 "metadata": {
  "kernelspec": {
   "display_name": "Python 3",
   "language": "python",
   "name": "python3"
  },
  "language_info": {
   "codemirror_mode": {
    "name": "ipython",
    "version": 2
   },
   "file_extension": ".py",
   "mimetype": "text/x-python",
   "name": "python",
   "nbconvert_exporter": "python",
   "pygments_lexer": "ipython2",
   "version": "2.7.6"
  }
 },
 "nbformat": 4,
 "nbformat_minor": 5
}
