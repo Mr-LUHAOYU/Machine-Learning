{
 "cells": [
  {
   "cell_type": "code",
   "outputs": [],
   "source": [
    "from IPython.core.interactiveshell import InteractiveShell\n",
    "InteractiveShell.ast_node_interactivity = 'all'\n",
    "\n",
    "import numpy as np\n",
    "import pandas as pd\n"
   ],
   "metadata": {
    "collapsed": false,
    "ExecuteTime": {
     "end_time": "2024-05-23T14:54:42.769423500Z",
     "start_time": "2024-05-23T14:54:42.762820800Z"
    }
   },
   "id": "2460de542d03e100",
   "execution_count": 21
  },
  {
   "cell_type": "code",
   "outputs": [],
   "source": [
    "Y_LABELS = {\n",
    "    'normal.': 'Normal',\n",
    "    \n",
    "    'back.': 'DoS',\n",
    "    'land.': 'DoS',\n",
    "    'neptune.': 'DoS',\n",
    "    'pod.': 'DoS',\n",
    "    'smurf.': 'DoS',\n",
    "    'teardrop.': 'DoS',\n",
    "    \n",
    "    'ipsweep.': 'Probe',\n",
    "    'nmap.': 'Probe',\n",
    "    'portsweep.': 'Probe',\n",
    "    'satan.': 'Probe',\n",
    "    \n",
    "    'ftp_write.': 'R2L',\n",
    "    'guess_passwd.': 'R2L',\n",
    "    'imap.': 'R2L',\n",
    "    'multihop.': 'R2L',\n",
    "    'phf.': 'R2L',\n",
    "    'spy.': 'R2L',\n",
    "    'warezclient.': 'R2L',\n",
    "    'warezmaster.': 'R2L',\n",
    "    \n",
    "    'buffer_overflow.': 'U2R',\n",
    "    'loadmodule.': 'U2R',\n",
    "    'perl.': 'U2R',\n",
    "    'rootkit.': 'U2R'\n",
    "}"
   ],
   "metadata": {
    "collapsed": false,
    "ExecuteTime": {
     "end_time": "2024-05-23T14:54:42.781353300Z",
     "start_time": "2024-05-23T14:54:42.772438900Z"
    }
   },
   "id": "1a0ec181d63f9b27",
   "execution_count": 22
  },
  {
   "cell_type": "code",
   "outputs": [],
   "source": [
    "class LabelEncoder(object):\n",
    "    def __init__(self):\n",
    "        self.mapping = {}\n",
    "        self.inverse_mapping = {}\n",
    "\n",
    "    def fit(self, data):\n",
    "        unique_values = np.unique(data)\n",
    "        for i, value in enumerate(unique_values):\n",
    "            self.mapping[value] = i\n",
    "            self.inverse_mapping[i] = value\n",
    "\n",
    "    def transform(self, data):\n",
    "        return np.array([self.mapping[value] for value in data])\n",
    "\n",
    "    def fit_transform(self, data):\n",
    "        self.fit(data)\n",
    "        return self.transform(data)\n",
    "\n",
    "    def inverse_transform(self, data):\n",
    "        return np.array([self.inverse_mapping[value] for value in data])"
   ],
   "metadata": {
    "collapsed": false,
    "ExecuteTime": {
     "end_time": "2024-05-23T14:54:42.801427700Z",
     "start_time": "2024-05-23T14:54:42.775863400Z"
    }
   },
   "id": "23cf61a7cfd70dbb",
   "execution_count": 23
  },
  {
   "cell_type": "code",
   "outputs": [],
   "source": [
    "class Cluster(object):\n",
    "    def __init__(\n",
    "            self, \n",
    "            n_clusters=5, \n",
    "            max_iter=100, \n",
    "            eps=1e-6, \n",
    "            distance='euclidean',\n",
    "            random_state=None,\n",
    "            **kwargs\n",
    "    ):\n",
    "        self.n_clusters = n_clusters\n",
    "        self.max_iter = max_iter\n",
    "        self.eps = eps\n",
    "        self.distance = {\n",
    "            'euclidean': self.euclidean,\n",
    "        }[distance]\n",
    "        self.random_state = random_state\n",
    "        for k, v in kwargs.items():\n",
    "            # print(k, v)\n",
    "            if type(v) == str:\n",
    "                v = eval(v)\n",
    "            setattr(self, k, v)\n",
    "    \n",
    "    def to_DataFrame(self):\n",
    "        kv = self.__dict__.copy()\n",
    "        kv['distance'] = self.distance.__name__\n",
    "        kv['Mu'] = kv['Mu'].tolist()\n",
    "        kv['label'] = kv['label'].tolist()\n",
    "        return pd.DataFrame([kv])\n",
    "    \n",
    "    def fit(self, X, y):\n",
    "        np.random.seed(self.random_state)\n",
    "        Mu = X[np.random.choice(\n",
    "            X.shape[0], self.n_clusters, replace=False\n",
    "        )]\n",
    "        \n",
    "        for _ in range(self.max_iter):\n",
    "            Mu_copy = Mu.copy()\n",
    "            C = [[] for _ in range(self.n_clusters)]\n",
    "            label = np.array([set() for _ in range(self.n_clusters)])\n",
    "            for i in range(X.shape[0]):\n",
    "                dist = np.array([self.distance(X[i], mu) for mu in Mu])\n",
    "                for _ in range(self.n_clusters):\n",
    "                    r = np.argmin(dist)\n",
    "                    if not self.violated(y[i], r, label):\n",
    "                        C[r].append(i)\n",
    "                        label[r].add(y[i])\n",
    "                        break\n",
    "                    else:\n",
    "                        dist[r] = np.inf\n",
    "            print(label)\n",
    "            for j in range(self.n_clusters):\n",
    "                Mu[j] = np.mean(X[C[j]], axis=0)\n",
    "            if np.all(np.abs(Mu_copy - Mu) < self.eps):\n",
    "                break\n",
    "        self.label = np.array([list(y)[0] for y in label])\n",
    "        self.Mu = Mu\n",
    "    \n",
    "    def predict(self, X):\n",
    "        y_pred = np.array([\n",
    "            self.label[np.argmin(\n",
    "                [self.distance(X[i], mu) for mu in self.Mu]\n",
    "            )] for i in range(X.shape[0])\n",
    "        ])\n",
    "        return y_pred\n",
    "    \n",
    "    def fit_predict(self, X, y):\n",
    "        self.fit(X, y)\n",
    "        return self.predict(X)\n",
    "    \n",
    "    def score(self, X, y):\n",
    "        y_pred = self.predict(X)\n",
    "        self.accuracy = np.mean(y_pred == y)\n",
    "        return self.accuracy\n",
    "        \n",
    "    @staticmethod\n",
    "    def euclidean(a, b):\n",
    "        return np.linalg.norm(a - b)\n",
    "    \n",
    "    def violated(self, i_label, r, labels):\n",
    "        if labels[r]:\n",
    "            if i_label not in labels[r]:\n",
    "                return True\n",
    "            else:\n",
    "                ...\n",
    "        else:\n",
    "            for j in range(self.n_clusters):\n",
    "                if i_label in labels[j]:\n",
    "                    return True\n",
    "        return False\n",
    "    \n",
    "    def saveModel(self):\n",
    "        with open('Models/version_C', 'r') as f:\n",
    "            version = int(f.read())\n",
    "        version += 1\n",
    "        with open('Models/version_C', 'w') as f:\n",
    "            f.write(str(version))\n",
    "        self.to_DataFrame().to_csv(f'Models/cluster_{version}.csv', index=False)\n",
    "    \n",
    "    def loadModel(self, version):\n",
    "        with open(f'Models/cluster_{version}.csv', 'r') as f:\n",
    "            kv = pd.read_csv(f).iloc[0].to_dict()\n",
    "        self.__init__(**kv)\n",
    "    \n",
    "    def loadFromDataFrame(self, df):\n",
    "        kv = df.iloc[0].to_dict()\n",
    "        self.__init__(**kv)"
   ],
   "metadata": {
    "collapsed": false,
    "ExecuteTime": {
     "end_time": "2024-05-23T15:19:13.848783500Z",
     "start_time": "2024-05-23T15:19:13.841289100Z"
    }
   },
   "id": "initial_id",
   "execution_count": 37
  },
  {
   "cell_type": "code",
   "outputs": [],
   "source": [
    "def min_max_normalize(data):\n",
    "    min_val = data.min(axis=0)\n",
    "    max_val = data.max(axis=0)\n",
    "    return (data - min_val) / (max_val - min_val)\n",
    "\n",
    "def z_score_normalize(data):\n",
    "    mean = data.mean(axis=0)\n",
    "    std = data.std(axis=0)\n",
    "    return (data - mean) / std"
   ],
   "metadata": {
    "collapsed": false,
    "ExecuteTime": {
     "end_time": "2024-05-23T14:54:42.803428100Z",
     "start_time": "2024-05-23T14:54:42.791613300Z"
    }
   },
   "id": "f14639fdef6b4520",
   "execution_count": 25
  },
  {
   "cell_type": "code",
   "outputs": [],
   "source": [
    "df = pd.read_csv('kddcup.data.gz')\n",
    "X = df.iloc[:, :-1]\n",
    "y = df.iloc[:, -1]\n",
    "\n",
    "encoder = LabelEncoder()\n",
    "for col in X.select_dtypes(include=['object']).columns:\n",
    "    X[col] = encoder.fit_transform(X[col])\n",
    "\n",
    "X = min_max_normalize(X).dropna(axis=1)\n",
    "y = y.map(Y_LABELS)"
   ],
   "metadata": {
    "collapsed": false,
    "ExecuteTime": {
     "end_time": "2024-05-23T14:55:01.941263100Z",
     "start_time": "2024-05-23T14:54:42.795426800Z"
    }
   },
   "id": "293d561002644295",
   "execution_count": 26
  },
  {
   "cell_type": "code",
   "outputs": [],
   "source": [
    "X_train = X.iloc[:X.shape[0] * 2 // 7, :].reset_index(drop=True)\n",
    "y_train = y.iloc[:y.shape[0] * 2 // 7].reset_index(drop=True)"
   ],
   "metadata": {
    "collapsed": false,
    "ExecuteTime": {
     "end_time": "2024-05-23T14:55:02.184965600Z",
     "start_time": "2024-05-23T14:55:01.942263200Z"
    }
   },
   "id": "7b1c7b234e605217",
   "execution_count": 27
  },
  {
   "cell_type": "code",
   "outputs": [
    {
     "name": "stdout",
     "output_type": "stream",
     "text": [
      "[{'Normal'} {'DoS'} {'R2L'} {'Probe'} {'U2R'}]\n",
      "[{'R2L'} {'DoS'} {'Normal'} {'Probe'} {'U2R'}]\n",
      "[{'Normal'} {'DoS'} {'R2L'} {'Probe'} {'U2R'}]\n",
      "[{'R2L'} {'DoS'} {'Normal'} {'Probe'} {'U2R'}]\n",
      "[{'Normal'} {'DoS'} {'R2L'} {'Probe'} {'U2R'}]\n",
      "[{'R2L'} {'DoS'} {'Normal'} {'Probe'} {'U2R'}]\n",
      "[{'Normal'} {'DoS'} {'R2L'} {'Probe'} {'U2R'}]\n",
      "[{'R2L'} {'DoS'} {'Normal'} {'Probe'} {'U2R'}]\n",
      "[{'Normal'} {'DoS'} {'R2L'} {'Probe'} {'U2R'}]\n",
      "[{'R2L'} {'DoS'} {'Normal'} {'Probe'} {'U2R'}]\n"
     ]
    }
   ],
   "source": [
    "model = Cluster(\n",
    "    n_clusters=5, max_iter=10, \n",
    "    eps=1e-6, distance='euclidean', \n",
    "    random_state=42,\n",
    ")\n",
    "model.fit(X_train.to_numpy(), y_train)"
   ],
   "metadata": {
    "collapsed": false,
    "ExecuteTime": {
     "end_time": "2024-05-23T15:00:12.895072500Z",
     "start_time": "2024-05-23T14:55:02.186970200Z"
    }
   },
   "id": "5bef22b51d7a025f",
   "execution_count": 28
  },
  {
   "cell_type": "code",
   "outputs": [],
   "source": [
    "X_test = X.iloc[X.shape[0] * 5 // 7:, :].reset_index(drop=True)\n",
    "y_test = y.iloc[y.shape[0] * 5 // 7:].reset_index(drop=True)"
   ],
   "metadata": {
    "collapsed": false,
    "ExecuteTime": {
     "end_time": "2024-05-23T15:00:13.194063Z",
     "start_time": "2024-05-23T15:00:12.896076Z"
    }
   },
   "id": "fff46012b0ba7931",
   "execution_count": 29
  },
  {
   "cell_type": "code",
   "outputs": [
    {
     "name": "stdout",
     "output_type": "stream",
     "text": [
      "0.7992057458386683\n"
     ]
    }
   ],
   "source": [
    "score = model.score(X_test.to_numpy(), y_test)\n",
    "print(score)\n",
    "model.saveModel()\n",
    "# print(X_test.shape[0])\n",
    "# pred"
   ],
   "metadata": {
    "collapsed": false,
    "ExecuteTime": {
     "end_time": "2024-05-23T15:00:39.410837700Z",
     "start_time": "2024-05-23T15:00:13.196068100Z"
    }
   },
   "id": "5a229f6701cc6b83",
   "execution_count": 30
  },
  {
   "cell_type": "code",
   "outputs": [
    {
     "data": {
      "text/plain": "0.7992057458386683"
     },
     "execution_count": 38,
     "metadata": {},
     "output_type": "execute_result"
    },
    {
     "data": {
      "text/plain": "array(['DoS', 'DoS', 'DoS', ..., 'Normal', 'Normal', 'Normal'],\n      dtype='<U6')"
     },
     "execution_count": 38,
     "metadata": {},
     "output_type": "execute_result"
    }
   ],
   "source": [
    "model_test = Cluster()\n",
    "model_test.loadModel(version=11)\n",
    "model_test.score(X_test.to_numpy(), y_test)\n",
    "pred = model_test.predict(X_test.to_numpy())\n",
    "pred"
   ],
   "metadata": {
    "collapsed": false,
    "ExecuteTime": {
     "end_time": "2024-05-23T15:20:39.005313300Z",
     "start_time": "2024-05-23T15:19:19.517929300Z"
    }
   },
   "id": "927a9a5da3c6e9a3",
   "execution_count": 38
  }
 ],
 "metadata": {
  "kernelspec": {
   "display_name": "Python 3",
   "language": "python",
   "name": "python3"
  },
  "language_info": {
   "codemirror_mode": {
    "name": "ipython",
    "version": 2
   },
   "file_extension": ".py",
   "mimetype": "text/x-python",
   "name": "python",
   "nbconvert_exporter": "python",
   "pygments_lexer": "ipython2",
   "version": "2.7.6"
  }
 },
 "nbformat": 4,
 "nbformat_minor": 5
}
