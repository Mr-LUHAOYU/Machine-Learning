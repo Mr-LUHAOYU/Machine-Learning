{
 "cells": [
  {
   "cell_type": "code",
   "outputs": [],
   "source": [
    "from IPython.core.interactiveshell import InteractiveShell\n",
    "InteractiveShell.ast_node_interactivity = 'all'\n",
    "\n",
    "import numpy as np\n",
    "import pandas as pd\n"
   ],
   "metadata": {
    "collapsed": false,
    "ExecuteTime": {
     "end_time": "2024-05-22T08:34:53.002349400Z",
     "start_time": "2024-05-22T08:34:51.980071800Z"
    }
   },
   "id": "2460de542d03e100",
   "execution_count": 3
  },
  {
   "cell_type": "code",
   "outputs": [],
   "source": [
    "Y_LABELS = {\n",
    "    'normal.': 'Normal',\n",
    "    \n",
    "    'back.': 'DoS',\n",
    "    'land.': 'DoS',\n",
    "    'neptune.': 'DoS',\n",
    "    'pod.': 'DoS',\n",
    "    'smurf.': 'DoS',\n",
    "    'teardrop.': 'DoS',\n",
    "    \n",
    "    'ipsweep.': 'Probe',\n",
    "    'nmap.': 'Probe',\n",
    "    'portsweep.': 'Probe',\n",
    "    'satan.': 'Probe',\n",
    "    \n",
    "    'ftp_write.': 'R2L',\n",
    "    'guess_passwd.': 'R2L',\n",
    "    'imap.': 'R2L',\n",
    "    'multihop.': 'R2L',\n",
    "    'phf.': 'R2L',\n",
    "    'spy.': 'R2L',\n",
    "    'warezclient.': 'R2L',\n",
    "    'warezmaster.': 'R2L',\n",
    "    \n",
    "    'buffer_overflow.': 'U2R',\n",
    "    'loadmodule.': 'U2R',\n",
    "    'perl.': 'U2R',\n",
    "    'rootkit.': 'U2R'\n",
    "}"
   ],
   "metadata": {
    "collapsed": false,
    "ExecuteTime": {
     "end_time": "2024-05-22T08:34:53.012908400Z",
     "start_time": "2024-05-22T08:34:53.007564500Z"
    }
   },
   "id": "1a0ec181d63f9b27",
   "execution_count": 4
  },
  {
   "cell_type": "code",
   "outputs": [],
   "source": [
    "class LabelEncoder(object):\n",
    "    def __init__(self):\n",
    "        self.mapping = {}\n",
    "        self.inverse_mapping = {}\n",
    "\n",
    "    def fit(self, data):\n",
    "        unique_values = np.unique(data)\n",
    "        for i, value in enumerate(unique_values):\n",
    "            self.mapping[value] = i\n",
    "            self.inverse_mapping[i] = value\n",
    "\n",
    "    def transform(self, data):\n",
    "        return np.array([self.mapping[value] for value in data])\n",
    "\n",
    "    def fit_transform(self, data):\n",
    "        self.fit(data)\n",
    "        return self.transform(data)\n",
    "\n",
    "    def inverse_transform(self, data):\n",
    "        return np.array([self.inverse_mapping[value] for value in data])"
   ],
   "metadata": {
    "collapsed": false,
    "ExecuteTime": {
     "end_time": "2024-05-22T08:34:53.030436700Z",
     "start_time": "2024-05-22T08:34:53.018093700Z"
    }
   },
   "id": "23cf61a7cfd70dbb",
   "execution_count": 5
  },
  {
   "cell_type": "code",
   "outputs": [],
   "source": [
    "class Cluster(object):\n",
    "    def __init__(\n",
    "            self, \n",
    "            n_clusters=4, \n",
    "            max_iter=100, \n",
    "            eps=1e-6, \n",
    "            distance='euclidean'\n",
    "    ):\n",
    "        self.n_clusters = n_clusters\n",
    "        self.max_iter = max_iter\n",
    "        self.eps = eps\n",
    "        self.distance = {\n",
    "            'euclidean': self.euclidean,\n",
    "        }[distance]\n",
    "    \n",
    "    def fit(self, X, y):\n",
    "        # print(y)\n",
    "        self.Mu = X[np.random.choice(\n",
    "            X.shape[0], self.n_clusters, replace=False\n",
    "        )]\n",
    "        for _ in range(self.max_iter):\n",
    "            Mu_copy = self.Mu.copy()\n",
    "            C = [[] for _ in range(self.n_clusters)]\n",
    "            label = np.array([set() for _ in range(self.n_clusters)])\n",
    "            for i in range(X.shape[0]):\n",
    "                dist = np.array([self.distance(X[i], mu) for mu in self.Mu])\n",
    "                for _ in range(self.n_clusters):\n",
    "                    r = np.argmin(dist)\n",
    "                    if not self.violated(y[i], r, label):\n",
    "                        C[r].append(i)\n",
    "                        label[r].add(y[i])\n",
    "                        break\n",
    "                    else:\n",
    "                        dist[r] = np.inf\n",
    "            # print(C)\n",
    "            print(label)\n",
    "            for j in range(self.n_clusters):\n",
    "                self.Mu[j] = np.mean(X[C[j]], axis=0)\n",
    "            if np.all(np.abs(Mu_copy - self.Mu) < self.eps):\n",
    "                break\n",
    "    \n",
    "    def predict(self, X):\n",
    "        y_pred = np.array([np.argmin([self.distance(X[i], mu) for mu in self.Mu]) for i in range(X.shape[0])])\n",
    "        return y_pred\n",
    "    \n",
    "    def fit_predict(self, X, y):\n",
    "        self.fit(X, y)\n",
    "        return self.predict(X)\n",
    "    \n",
    "    def score(self, X, y):\n",
    "        y_pred = self.predict(X)\n",
    "        return np.mean(y_pred == y)\n",
    "    \n",
    "    def get_cluster_centers(self):\n",
    "        return self.Mu\n",
    "        \n",
    "    @staticmethod\n",
    "    def euclidean(a, b):\n",
    "        return np.linalg.norm(a - b)\n",
    "    \n",
    "    def violated(self, i_label, r, labels):\n",
    "        if labels[r]:\n",
    "            if i_label not in labels[r]:\n",
    "                return True\n",
    "            else:\n",
    "                ...\n",
    "        else:\n",
    "            for j in range(self.n_clusters):\n",
    "                if i_label in labels[j]:\n",
    "                    # print(i_label, labels[j], j)\n",
    "                    return True\n",
    "        return False\n"
   ],
   "metadata": {
    "collapsed": false,
    "ExecuteTime": {
     "end_time": "2024-05-22T08:34:53.058006300Z",
     "start_time": "2024-05-22T08:34:53.026098900Z"
    }
   },
   "id": "initial_id",
   "execution_count": 6
  },
  {
   "cell_type": "code",
   "outputs": [],
   "source": [
    "def min_max_normalize(data):\n",
    "    min_val = data.min(axis=0)\n",
    "    max_val = data.max(axis=0)\n",
    "    return (data - min_val) / (max_val - min_val)\n",
    "\n",
    "def z_score_normalize(data):\n",
    "    mean = data.mean(axis=0)\n",
    "    std = data.std(axis=0)\n",
    "    return (data - mean) / std"
   ],
   "metadata": {
    "collapsed": false,
    "ExecuteTime": {
     "end_time": "2024-05-22T08:34:53.058006300Z",
     "start_time": "2024-05-22T08:34:53.048810700Z"
    }
   },
   "id": "f14639fdef6b4520",
   "execution_count": 7
  },
  {
   "cell_type": "code",
   "outputs": [],
   "source": [
    "df = pd.read_csv('kddcup.data.gz')\n",
    "X = df.iloc[:, :-1]\n",
    "y = df.iloc[:, -1]\n",
    "\n",
    "string_columns = X.select_dtypes(include=['object']).columns\n",
    "encoder = LabelEncoder()\n",
    "for col in string_columns:\n",
    "    X[col] = encoder.fit_transform(X[col])\n",
    "\n",
    "X = min_max_normalize(X).dropna(axis=1)\n",
    "y = y.map(Y_LABELS)"
   ],
   "metadata": {
    "collapsed": false,
    "ExecuteTime": {
     "end_time": "2024-05-22T08:35:16.233404Z",
     "start_time": "2024-05-22T08:34:53.057006400Z"
    }
   },
   "id": "293d561002644295",
   "execution_count": 8
  },
  {
   "cell_type": "code",
   "outputs": [
    {
     "data": {
      "text/plain": "        0  tcp      http   SF           215     45076  0.1  0.2  0.3  0.4   \n0     0.0  0.5  0.710145  0.5  0.000000e+00  0.000000  0.0  0.0  0.0  0.0  \\\n1     0.0  0.0  0.217391  0.9  7.478457e-07  0.000000  0.0  0.0  0.0  0.0   \n2     0.0  0.0  0.217391  0.9  7.478457e-07  0.000000  0.0  0.0  0.0  0.0   \n3     0.0  0.5  0.710145  0.5  0.000000e+00  0.000000  0.0  0.0  0.0  0.0   \n4     0.0  0.0  0.217391  0.9  7.478457e-07  0.000000  0.0  0.0  0.0  0.0   \n...   ...  ...       ...  ...           ...       ...  ...  ...  ...  ...   \n9995  0.0  0.0  0.217391  0.9  7.478457e-07  0.000000  0.0  0.0  0.0  0.0   \n9996  0.0  0.5  0.347826  0.9  1.768162e-07  0.000006  0.0  0.0  0.0  0.0   \n9997  0.0  0.5  0.347826  0.9  2.405860e-07  0.000002  0.0  0.0  0.0  0.0   \n9998  0.0  0.0  0.217391  0.9  7.478457e-07  0.000000  0.0  0.0  0.0  0.0   \n9999  0.0  0.5  0.710145  0.5  0.000000e+00  0.000000  0.0  0.0  0.0  0.0   \n\n      ...      0.16      0.17  0.00.6  0.00.7  0.00.8  0.00.9  0.00.10   \n0     ...  1.000000  0.023529    0.02    0.07    0.00    0.00     1.00  \\\n1     ...  1.000000  1.000000    1.00    0.00    1.00    0.00     0.00   \n2     ...  1.000000  1.000000    1.00    0.00    1.00    0.00     0.00   \n3     ...  1.000000  0.011765    0.01    0.07    0.00    0.00     1.00   \n4     ...  1.000000  1.000000    1.00    0.00    1.00    0.00     0.00   \n...   ...       ...       ...     ...     ...     ...     ...      ...   \n9995  ...  1.000000  1.000000    1.00    0.00    1.00    0.00     0.00   \n9996  ...  1.000000  1.000000    1.00    0.00    0.00    0.00     0.00   \n9997  ...  0.494118  1.000000    1.00    0.00    0.01    0.01     0.01   \n9998  ...  1.000000  1.000000    1.00    0.00    1.00    0.00     0.00   \n9999  ...  1.000000  0.062745    0.06    0.06    0.00    0.00     1.00   \n\n      0.00.11  0.00.12  0.00.13  \n0         1.0      0.0     0.00  \n1         0.0      0.0     0.00  \n2         0.0      0.0     0.00  \n3         1.0      0.0     0.00  \n4         0.0      0.0     0.00  \n...       ...      ...      ...  \n9995      0.0      0.0     0.00  \n9996      0.0      0.0     0.00  \n9997      0.0      0.0     0.01  \n9998      0.0      0.0     0.00  \n9999      1.0      0.0     0.00  \n\n[10000 rows x 40 columns]",
      "text/html": "<div>\n<style scoped>\n    .dataframe tbody tr th:only-of-type {\n        vertical-align: middle;\n    }\n\n    .dataframe tbody tr th {\n        vertical-align: top;\n    }\n\n    .dataframe thead th {\n        text-align: right;\n    }\n</style>\n<table border=\"1\" class=\"dataframe\">\n  <thead>\n    <tr style=\"text-align: right;\">\n      <th></th>\n      <th>0</th>\n      <th>tcp</th>\n      <th>http</th>\n      <th>SF</th>\n      <th>215</th>\n      <th>45076</th>\n      <th>0.1</th>\n      <th>0.2</th>\n      <th>0.3</th>\n      <th>0.4</th>\n      <th>...</th>\n      <th>0.16</th>\n      <th>0.17</th>\n      <th>0.00.6</th>\n      <th>0.00.7</th>\n      <th>0.00.8</th>\n      <th>0.00.9</th>\n      <th>0.00.10</th>\n      <th>0.00.11</th>\n      <th>0.00.12</th>\n      <th>0.00.13</th>\n    </tr>\n  </thead>\n  <tbody>\n    <tr>\n      <th>0</th>\n      <td>0.0</td>\n      <td>0.5</td>\n      <td>0.710145</td>\n      <td>0.5</td>\n      <td>0.000000e+00</td>\n      <td>0.000000</td>\n      <td>0.0</td>\n      <td>0.0</td>\n      <td>0.0</td>\n      <td>0.0</td>\n      <td>...</td>\n      <td>1.000000</td>\n      <td>0.023529</td>\n      <td>0.02</td>\n      <td>0.07</td>\n      <td>0.00</td>\n      <td>0.00</td>\n      <td>1.00</td>\n      <td>1.0</td>\n      <td>0.0</td>\n      <td>0.00</td>\n    </tr>\n    <tr>\n      <th>1</th>\n      <td>0.0</td>\n      <td>0.0</td>\n      <td>0.217391</td>\n      <td>0.9</td>\n      <td>7.478457e-07</td>\n      <td>0.000000</td>\n      <td>0.0</td>\n      <td>0.0</td>\n      <td>0.0</td>\n      <td>0.0</td>\n      <td>...</td>\n      <td>1.000000</td>\n      <td>1.000000</td>\n      <td>1.00</td>\n      <td>0.00</td>\n      <td>1.00</td>\n      <td>0.00</td>\n      <td>0.00</td>\n      <td>0.0</td>\n      <td>0.0</td>\n      <td>0.00</td>\n    </tr>\n    <tr>\n      <th>2</th>\n      <td>0.0</td>\n      <td>0.0</td>\n      <td>0.217391</td>\n      <td>0.9</td>\n      <td>7.478457e-07</td>\n      <td>0.000000</td>\n      <td>0.0</td>\n      <td>0.0</td>\n      <td>0.0</td>\n      <td>0.0</td>\n      <td>...</td>\n      <td>1.000000</td>\n      <td>1.000000</td>\n      <td>1.00</td>\n      <td>0.00</td>\n      <td>1.00</td>\n      <td>0.00</td>\n      <td>0.00</td>\n      <td>0.0</td>\n      <td>0.0</td>\n      <td>0.00</td>\n    </tr>\n    <tr>\n      <th>3</th>\n      <td>0.0</td>\n      <td>0.5</td>\n      <td>0.710145</td>\n      <td>0.5</td>\n      <td>0.000000e+00</td>\n      <td>0.000000</td>\n      <td>0.0</td>\n      <td>0.0</td>\n      <td>0.0</td>\n      <td>0.0</td>\n      <td>...</td>\n      <td>1.000000</td>\n      <td>0.011765</td>\n      <td>0.01</td>\n      <td>0.07</td>\n      <td>0.00</td>\n      <td>0.00</td>\n      <td>1.00</td>\n      <td>1.0</td>\n      <td>0.0</td>\n      <td>0.00</td>\n    </tr>\n    <tr>\n      <th>4</th>\n      <td>0.0</td>\n      <td>0.0</td>\n      <td>0.217391</td>\n      <td>0.9</td>\n      <td>7.478457e-07</td>\n      <td>0.000000</td>\n      <td>0.0</td>\n      <td>0.0</td>\n      <td>0.0</td>\n      <td>0.0</td>\n      <td>...</td>\n      <td>1.000000</td>\n      <td>1.000000</td>\n      <td>1.00</td>\n      <td>0.00</td>\n      <td>1.00</td>\n      <td>0.00</td>\n      <td>0.00</td>\n      <td>0.0</td>\n      <td>0.0</td>\n      <td>0.00</td>\n    </tr>\n    <tr>\n      <th>...</th>\n      <td>...</td>\n      <td>...</td>\n      <td>...</td>\n      <td>...</td>\n      <td>...</td>\n      <td>...</td>\n      <td>...</td>\n      <td>...</td>\n      <td>...</td>\n      <td>...</td>\n      <td>...</td>\n      <td>...</td>\n      <td>...</td>\n      <td>...</td>\n      <td>...</td>\n      <td>...</td>\n      <td>...</td>\n      <td>...</td>\n      <td>...</td>\n      <td>...</td>\n      <td>...</td>\n    </tr>\n    <tr>\n      <th>9995</th>\n      <td>0.0</td>\n      <td>0.0</td>\n      <td>0.217391</td>\n      <td>0.9</td>\n      <td>7.478457e-07</td>\n      <td>0.000000</td>\n      <td>0.0</td>\n      <td>0.0</td>\n      <td>0.0</td>\n      <td>0.0</td>\n      <td>...</td>\n      <td>1.000000</td>\n      <td>1.000000</td>\n      <td>1.00</td>\n      <td>0.00</td>\n      <td>1.00</td>\n      <td>0.00</td>\n      <td>0.00</td>\n      <td>0.0</td>\n      <td>0.0</td>\n      <td>0.00</td>\n    </tr>\n    <tr>\n      <th>9996</th>\n      <td>0.0</td>\n      <td>0.5</td>\n      <td>0.347826</td>\n      <td>0.9</td>\n      <td>1.768162e-07</td>\n      <td>0.000006</td>\n      <td>0.0</td>\n      <td>0.0</td>\n      <td>0.0</td>\n      <td>0.0</td>\n      <td>...</td>\n      <td>1.000000</td>\n      <td>1.000000</td>\n      <td>1.00</td>\n      <td>0.00</td>\n      <td>0.00</td>\n      <td>0.00</td>\n      <td>0.00</td>\n      <td>0.0</td>\n      <td>0.0</td>\n      <td>0.00</td>\n    </tr>\n    <tr>\n      <th>9997</th>\n      <td>0.0</td>\n      <td>0.5</td>\n      <td>0.347826</td>\n      <td>0.9</td>\n      <td>2.405860e-07</td>\n      <td>0.000002</td>\n      <td>0.0</td>\n      <td>0.0</td>\n      <td>0.0</td>\n      <td>0.0</td>\n      <td>...</td>\n      <td>0.494118</td>\n      <td>1.000000</td>\n      <td>1.00</td>\n      <td>0.00</td>\n      <td>0.01</td>\n      <td>0.01</td>\n      <td>0.01</td>\n      <td>0.0</td>\n      <td>0.0</td>\n      <td>0.01</td>\n    </tr>\n    <tr>\n      <th>9998</th>\n      <td>0.0</td>\n      <td>0.0</td>\n      <td>0.217391</td>\n      <td>0.9</td>\n      <td>7.478457e-07</td>\n      <td>0.000000</td>\n      <td>0.0</td>\n      <td>0.0</td>\n      <td>0.0</td>\n      <td>0.0</td>\n      <td>...</td>\n      <td>1.000000</td>\n      <td>1.000000</td>\n      <td>1.00</td>\n      <td>0.00</td>\n      <td>1.00</td>\n      <td>0.00</td>\n      <td>0.00</td>\n      <td>0.0</td>\n      <td>0.0</td>\n      <td>0.00</td>\n    </tr>\n    <tr>\n      <th>9999</th>\n      <td>0.0</td>\n      <td>0.5</td>\n      <td>0.710145</td>\n      <td>0.5</td>\n      <td>0.000000e+00</td>\n      <td>0.000000</td>\n      <td>0.0</td>\n      <td>0.0</td>\n      <td>0.0</td>\n      <td>0.0</td>\n      <td>...</td>\n      <td>1.000000</td>\n      <td>0.062745</td>\n      <td>0.06</td>\n      <td>0.06</td>\n      <td>0.00</td>\n      <td>0.00</td>\n      <td>1.00</td>\n      <td>1.0</td>\n      <td>0.0</td>\n      <td>0.00</td>\n    </tr>\n  </tbody>\n</table>\n<p>10000 rows × 40 columns</p>\n</div>"
     },
     "execution_count": 9,
     "metadata": {},
     "output_type": "execute_result"
    },
    {
     "data": {
      "text/plain": "     normal.\n0        DoS\n1        DoS\n2        DoS\n3        DoS\n4        DoS\n...      ...\n9995     DoS\n9996  Normal\n9997  Normal\n9998     DoS\n9999     DoS\n\n[10000 rows x 1 columns]",
      "text/html": "<div>\n<style scoped>\n    .dataframe tbody tr th:only-of-type {\n        vertical-align: middle;\n    }\n\n    .dataframe tbody tr th {\n        vertical-align: top;\n    }\n\n    .dataframe thead th {\n        text-align: right;\n    }\n</style>\n<table border=\"1\" class=\"dataframe\">\n  <thead>\n    <tr style=\"text-align: right;\">\n      <th></th>\n      <th>normal.</th>\n    </tr>\n  </thead>\n  <tbody>\n    <tr>\n      <th>0</th>\n      <td>DoS</td>\n    </tr>\n    <tr>\n      <th>1</th>\n      <td>DoS</td>\n    </tr>\n    <tr>\n      <th>2</th>\n      <td>DoS</td>\n    </tr>\n    <tr>\n      <th>3</th>\n      <td>DoS</td>\n    </tr>\n    <tr>\n      <th>4</th>\n      <td>DoS</td>\n    </tr>\n    <tr>\n      <th>...</th>\n      <td>...</td>\n    </tr>\n    <tr>\n      <th>9995</th>\n      <td>DoS</td>\n    </tr>\n    <tr>\n      <th>9996</th>\n      <td>Normal</td>\n    </tr>\n    <tr>\n      <th>9997</th>\n      <td>Normal</td>\n    </tr>\n    <tr>\n      <th>9998</th>\n      <td>DoS</td>\n    </tr>\n    <tr>\n      <th>9999</th>\n      <td>DoS</td>\n    </tr>\n  </tbody>\n</table>\n<p>10000 rows × 1 columns</p>\n</div>"
     },
     "execution_count": 9,
     "metadata": {},
     "output_type": "execute_result"
    },
    {
     "data": {
      "text/plain": "normal.\nDoS        7896\nNormal     2006\nProbe        95\nR2L           3\nName: count, dtype: int64"
     },
     "execution_count": 9,
     "metadata": {},
     "output_type": "execute_result"
    }
   ],
   "source": [
    "train_slice = np.random.choice(X.shape[0], 10000, replace=False)\n",
    "X_train = X.iloc[train_slice, :].reset_index(drop=True)\n",
    "y_train = pd.DataFrame(y.iloc[train_slice].reset_index(drop=True))\n",
    "# X_test = X.iloc[~train_slice, :]\n",
    "# y_test = y.iloc[8000:]\n",
    "X_train\n",
    "y_train\n",
    "y_train.value_counts()"
   ],
   "metadata": {
    "collapsed": false,
    "ExecuteTime": {
     "end_time": "2024-05-22T08:35:16.463276Z",
     "start_time": "2024-05-22T08:35:16.235404900Z"
    }
   },
   "id": "7b1c7b234e605217",
   "execution_count": 9
  },
  {
   "cell_type": "code",
   "outputs": [
    {
     "name": "stdout",
     "output_type": "stream",
     "text": [
      "[{'Probe'} {'R2L'} {'DoS'} {'Normal'}]\n",
      "[{'Probe'} {'R2L'} {'DoS'} {'Normal'}]\n"
     ]
    }
   ],
   "source": [
    "model = Cluster(n_clusters=4, max_iter=100, eps=1e-6, distance='euclidean')\n",
    "model.fit(X_train.to_numpy(), y_train.iloc[:, 0].to_numpy())\n",
    "# y_pred = model.predict(X_train)\n",
    "# model.score(X_train, y_train)"
   ],
   "metadata": {
    "collapsed": false,
    "ExecuteTime": {
     "end_time": "2024-05-22T08:35:17.227871600Z",
     "start_time": "2024-05-22T08:35:16.461943100Z"
    }
   },
   "id": "5bef22b51d7a025f",
   "execution_count": 10
  },
  {
   "cell_type": "code",
   "outputs": [
    {
     "data": {
      "text/plain": "        0  tcp      http   SF           215     45076  0.1  0.2  0.3  0.4   \n0     0.0  0.5  0.710145  0.5  0.000000e+00  0.000000  0.0  0.0  0.0  0.0  \\\n1     0.0  0.0  0.217391  0.9  7.478457e-07  0.000000  0.0  0.0  0.0  0.0   \n2     0.0  0.0  0.217391  0.9  7.478457e-07  0.000000  0.0  0.0  0.0  0.0   \n3     0.0  0.5  0.710145  0.5  0.000000e+00  0.000000  0.0  0.0  0.0  0.0   \n4     0.0  0.0  0.217391  0.9  7.478457e-07  0.000000  0.0  0.0  0.0  0.0   \n...   ...  ...       ...  ...           ...       ...  ...  ...  ...  ...   \n9995  0.0  0.0  0.217391  0.9  7.478457e-07  0.000000  0.0  0.0  0.0  0.0   \n9996  0.0  0.5  0.347826  0.9  1.768162e-07  0.000006  0.0  0.0  0.0  0.0   \n9997  0.0  0.5  0.347826  0.9  2.405860e-07  0.000002  0.0  0.0  0.0  0.0   \n9998  0.0  0.0  0.217391  0.9  7.478457e-07  0.000000  0.0  0.0  0.0  0.0   \n9999  0.0  0.5  0.710145  0.5  0.000000e+00  0.000000  0.0  0.0  0.0  0.0   \n\n      ...      0.16      0.17  0.00.6  0.00.7  0.00.8  0.00.9  0.00.10   \n0     ...  1.000000  0.023529    0.02    0.07    0.00    0.00     1.00  \\\n1     ...  1.000000  1.000000    1.00    0.00    1.00    0.00     0.00   \n2     ...  1.000000  1.000000    1.00    0.00    1.00    0.00     0.00   \n3     ...  1.000000  0.011765    0.01    0.07    0.00    0.00     1.00   \n4     ...  1.000000  1.000000    1.00    0.00    1.00    0.00     0.00   \n...   ...       ...       ...     ...     ...     ...     ...      ...   \n9995  ...  1.000000  1.000000    1.00    0.00    1.00    0.00     0.00   \n9996  ...  1.000000  1.000000    1.00    0.00    0.00    0.00     0.00   \n9997  ...  0.494118  1.000000    1.00    0.00    0.01    0.01     0.01   \n9998  ...  1.000000  1.000000    1.00    0.00    1.00    0.00     0.00   \n9999  ...  1.000000  0.062745    0.06    0.06    0.00    0.00     1.00   \n\n      0.00.11  0.00.12  0.00.13  \n0         1.0      0.0     0.00  \n1         0.0      0.0     0.00  \n2         0.0      0.0     0.00  \n3         1.0      0.0     0.00  \n4         0.0      0.0     0.00  \n...       ...      ...      ...  \n9995      0.0      0.0     0.00  \n9996      0.0      0.0     0.00  \n9997      0.0      0.0     0.01  \n9998      0.0      0.0     0.00  \n9999      1.0      0.0     0.00  \n\n[10000 rows x 40 columns]",
      "text/html": "<div>\n<style scoped>\n    .dataframe tbody tr th:only-of-type {\n        vertical-align: middle;\n    }\n\n    .dataframe tbody tr th {\n        vertical-align: top;\n    }\n\n    .dataframe thead th {\n        text-align: right;\n    }\n</style>\n<table border=\"1\" class=\"dataframe\">\n  <thead>\n    <tr style=\"text-align: right;\">\n      <th></th>\n      <th>0</th>\n      <th>tcp</th>\n      <th>http</th>\n      <th>SF</th>\n      <th>215</th>\n      <th>45076</th>\n      <th>0.1</th>\n      <th>0.2</th>\n      <th>0.3</th>\n      <th>0.4</th>\n      <th>...</th>\n      <th>0.16</th>\n      <th>0.17</th>\n      <th>0.00.6</th>\n      <th>0.00.7</th>\n      <th>0.00.8</th>\n      <th>0.00.9</th>\n      <th>0.00.10</th>\n      <th>0.00.11</th>\n      <th>0.00.12</th>\n      <th>0.00.13</th>\n    </tr>\n  </thead>\n  <tbody>\n    <tr>\n      <th>0</th>\n      <td>0.0</td>\n      <td>0.5</td>\n      <td>0.710145</td>\n      <td>0.5</td>\n      <td>0.000000e+00</td>\n      <td>0.000000</td>\n      <td>0.0</td>\n      <td>0.0</td>\n      <td>0.0</td>\n      <td>0.0</td>\n      <td>...</td>\n      <td>1.000000</td>\n      <td>0.023529</td>\n      <td>0.02</td>\n      <td>0.07</td>\n      <td>0.00</td>\n      <td>0.00</td>\n      <td>1.00</td>\n      <td>1.0</td>\n      <td>0.0</td>\n      <td>0.00</td>\n    </tr>\n    <tr>\n      <th>1</th>\n      <td>0.0</td>\n      <td>0.0</td>\n      <td>0.217391</td>\n      <td>0.9</td>\n      <td>7.478457e-07</td>\n      <td>0.000000</td>\n      <td>0.0</td>\n      <td>0.0</td>\n      <td>0.0</td>\n      <td>0.0</td>\n      <td>...</td>\n      <td>1.000000</td>\n      <td>1.000000</td>\n      <td>1.00</td>\n      <td>0.00</td>\n      <td>1.00</td>\n      <td>0.00</td>\n      <td>0.00</td>\n      <td>0.0</td>\n      <td>0.0</td>\n      <td>0.00</td>\n    </tr>\n    <tr>\n      <th>2</th>\n      <td>0.0</td>\n      <td>0.0</td>\n      <td>0.217391</td>\n      <td>0.9</td>\n      <td>7.478457e-07</td>\n      <td>0.000000</td>\n      <td>0.0</td>\n      <td>0.0</td>\n      <td>0.0</td>\n      <td>0.0</td>\n      <td>...</td>\n      <td>1.000000</td>\n      <td>1.000000</td>\n      <td>1.00</td>\n      <td>0.00</td>\n      <td>1.00</td>\n      <td>0.00</td>\n      <td>0.00</td>\n      <td>0.0</td>\n      <td>0.0</td>\n      <td>0.00</td>\n    </tr>\n    <tr>\n      <th>3</th>\n      <td>0.0</td>\n      <td>0.5</td>\n      <td>0.710145</td>\n      <td>0.5</td>\n      <td>0.000000e+00</td>\n      <td>0.000000</td>\n      <td>0.0</td>\n      <td>0.0</td>\n      <td>0.0</td>\n      <td>0.0</td>\n      <td>...</td>\n      <td>1.000000</td>\n      <td>0.011765</td>\n      <td>0.01</td>\n      <td>0.07</td>\n      <td>0.00</td>\n      <td>0.00</td>\n      <td>1.00</td>\n      <td>1.0</td>\n      <td>0.0</td>\n      <td>0.00</td>\n    </tr>\n    <tr>\n      <th>4</th>\n      <td>0.0</td>\n      <td>0.0</td>\n      <td>0.217391</td>\n      <td>0.9</td>\n      <td>7.478457e-07</td>\n      <td>0.000000</td>\n      <td>0.0</td>\n      <td>0.0</td>\n      <td>0.0</td>\n      <td>0.0</td>\n      <td>...</td>\n      <td>1.000000</td>\n      <td>1.000000</td>\n      <td>1.00</td>\n      <td>0.00</td>\n      <td>1.00</td>\n      <td>0.00</td>\n      <td>0.00</td>\n      <td>0.0</td>\n      <td>0.0</td>\n      <td>0.00</td>\n    </tr>\n    <tr>\n      <th>...</th>\n      <td>...</td>\n      <td>...</td>\n      <td>...</td>\n      <td>...</td>\n      <td>...</td>\n      <td>...</td>\n      <td>...</td>\n      <td>...</td>\n      <td>...</td>\n      <td>...</td>\n      <td>...</td>\n      <td>...</td>\n      <td>...</td>\n      <td>...</td>\n      <td>...</td>\n      <td>...</td>\n      <td>...</td>\n      <td>...</td>\n      <td>...</td>\n      <td>...</td>\n      <td>...</td>\n    </tr>\n    <tr>\n      <th>9995</th>\n      <td>0.0</td>\n      <td>0.0</td>\n      <td>0.217391</td>\n      <td>0.9</td>\n      <td>7.478457e-07</td>\n      <td>0.000000</td>\n      <td>0.0</td>\n      <td>0.0</td>\n      <td>0.0</td>\n      <td>0.0</td>\n      <td>...</td>\n      <td>1.000000</td>\n      <td>1.000000</td>\n      <td>1.00</td>\n      <td>0.00</td>\n      <td>1.00</td>\n      <td>0.00</td>\n      <td>0.00</td>\n      <td>0.0</td>\n      <td>0.0</td>\n      <td>0.00</td>\n    </tr>\n    <tr>\n      <th>9996</th>\n      <td>0.0</td>\n      <td>0.5</td>\n      <td>0.347826</td>\n      <td>0.9</td>\n      <td>1.768162e-07</td>\n      <td>0.000006</td>\n      <td>0.0</td>\n      <td>0.0</td>\n      <td>0.0</td>\n      <td>0.0</td>\n      <td>...</td>\n      <td>1.000000</td>\n      <td>1.000000</td>\n      <td>1.00</td>\n      <td>0.00</td>\n      <td>0.00</td>\n      <td>0.00</td>\n      <td>0.00</td>\n      <td>0.0</td>\n      <td>0.0</td>\n      <td>0.00</td>\n    </tr>\n    <tr>\n      <th>9997</th>\n      <td>0.0</td>\n      <td>0.5</td>\n      <td>0.347826</td>\n      <td>0.9</td>\n      <td>2.405860e-07</td>\n      <td>0.000002</td>\n      <td>0.0</td>\n      <td>0.0</td>\n      <td>0.0</td>\n      <td>0.0</td>\n      <td>...</td>\n      <td>0.494118</td>\n      <td>1.000000</td>\n      <td>1.00</td>\n      <td>0.00</td>\n      <td>0.01</td>\n      <td>0.01</td>\n      <td>0.01</td>\n      <td>0.0</td>\n      <td>0.0</td>\n      <td>0.01</td>\n    </tr>\n    <tr>\n      <th>9998</th>\n      <td>0.0</td>\n      <td>0.0</td>\n      <td>0.217391</td>\n      <td>0.9</td>\n      <td>7.478457e-07</td>\n      <td>0.000000</td>\n      <td>0.0</td>\n      <td>0.0</td>\n      <td>0.0</td>\n      <td>0.0</td>\n      <td>...</td>\n      <td>1.000000</td>\n      <td>1.000000</td>\n      <td>1.00</td>\n      <td>0.00</td>\n      <td>1.00</td>\n      <td>0.00</td>\n      <td>0.00</td>\n      <td>0.0</td>\n      <td>0.0</td>\n      <td>0.00</td>\n    </tr>\n    <tr>\n      <th>9999</th>\n      <td>0.0</td>\n      <td>0.5</td>\n      <td>0.710145</td>\n      <td>0.5</td>\n      <td>0.000000e+00</td>\n      <td>0.000000</td>\n      <td>0.0</td>\n      <td>0.0</td>\n      <td>0.0</td>\n      <td>0.0</td>\n      <td>...</td>\n      <td>1.000000</td>\n      <td>0.062745</td>\n      <td>0.06</td>\n      <td>0.06</td>\n      <td>0.00</td>\n      <td>0.00</td>\n      <td>1.00</td>\n      <td>1.0</td>\n      <td>0.0</td>\n      <td>0.00</td>\n    </tr>\n  </tbody>\n</table>\n<p>10000 rows × 40 columns</p>\n</div>"
     },
     "execution_count": 12,
     "metadata": {},
     "output_type": "execute_result"
    },
    {
     "data": {
      "text/plain": "     normal.\n0        DoS\n1        DoS\n2        DoS\n3        DoS\n4        DoS\n...      ...\n9995     DoS\n9996  Normal\n9997  Normal\n9998     DoS\n9999     DoS\n\n[10000 rows x 1 columns]",
      "text/html": "<div>\n<style scoped>\n    .dataframe tbody tr th:only-of-type {\n        vertical-align: middle;\n    }\n\n    .dataframe tbody tr th {\n        vertical-align: top;\n    }\n\n    .dataframe thead th {\n        text-align: right;\n    }\n</style>\n<table border=\"1\" class=\"dataframe\">\n  <thead>\n    <tr style=\"text-align: right;\">\n      <th></th>\n      <th>normal.</th>\n    </tr>\n  </thead>\n  <tbody>\n    <tr>\n      <th>0</th>\n      <td>DoS</td>\n    </tr>\n    <tr>\n      <th>1</th>\n      <td>DoS</td>\n    </tr>\n    <tr>\n      <th>2</th>\n      <td>DoS</td>\n    </tr>\n    <tr>\n      <th>3</th>\n      <td>DoS</td>\n    </tr>\n    <tr>\n      <th>4</th>\n      <td>DoS</td>\n    </tr>\n    <tr>\n      <th>...</th>\n      <td>...</td>\n    </tr>\n    <tr>\n      <th>9995</th>\n      <td>DoS</td>\n    </tr>\n    <tr>\n      <th>9996</th>\n      <td>Normal</td>\n    </tr>\n    <tr>\n      <th>9997</th>\n      <td>Normal</td>\n    </tr>\n    <tr>\n      <th>9998</th>\n      <td>DoS</td>\n    </tr>\n    <tr>\n      <th>9999</th>\n      <td>DoS</td>\n    </tr>\n  </tbody>\n</table>\n<p>10000 rows × 1 columns</p>\n</div>"
     },
     "execution_count": 12,
     "metadata": {},
     "output_type": "execute_result"
    },
    {
     "data": {
      "text/plain": "normal.\nDoS        7896\nNormal     2006\nProbe        95\nR2L           3\nName: count, dtype: int64"
     },
     "execution_count": 12,
     "metadata": {},
     "output_type": "execute_result"
    }
   ],
   "source": [
    "test_slice = np.random.choice(X.shape[0], 10000, replace=False)\n",
    "X_test = X.iloc[train_slice, :].reset_index(drop=True)\n",
    "y_test = pd.DataFrame(y.iloc[train_slice].reset_index(drop=True))\n",
    "# X_test = X.iloc[~train_slice, :]\n",
    "# y_test = y.iloc[8000:]\n",
    "X_test\n",
    "y_test\n",
    "y_test.value_counts()"
   ],
   "metadata": {
    "collapsed": false,
    "ExecuteTime": {
     "end_time": "2024-05-22T08:37:33.722917100Z",
     "start_time": "2024-05-22T08:37:33.466377800Z"
    }
   },
   "id": "fff46012b0ba7931",
   "execution_count": 12
  },
  {
   "cell_type": "code",
   "outputs": [
    {
     "data": {
      "text/plain": "array([2, 2, 2, ..., 3, 2, 2], dtype=int64)"
     },
     "execution_count": 14,
     "metadata": {},
     "output_type": "execute_result"
    }
   ],
   "source": [
    "pred = model.predict(X_test.to_numpy())\n",
    "pred"
   ],
   "metadata": {
    "collapsed": false,
    "ExecuteTime": {
     "end_time": "2024-05-22T08:40:07.026795700Z",
     "start_time": "2024-05-22T08:40:06.747344100Z"
    }
   },
   "id": "5a229f6701cc6b83",
   "execution_count": 14
  },
  {
   "cell_type": "code",
   "outputs": [
    {
     "name": "stdout",
     "output_type": "stream",
     "text": [
      "9227\n"
     ]
    }
   ],
   "source": [
    "YY_test = y_test.iloc[:, 0].map({\n",
    "    'Probe': 0,\n",
    "    'R2L': 1,\n",
    "    'DoS': 2,\n",
    "    'Normal': 3\n",
    "})\n",
    "print(sum(pred == YY_test))"
   ],
   "metadata": {
    "collapsed": false,
    "ExecuteTime": {
     "end_time": "2024-05-22T08:43:17.334292500Z",
     "start_time": "2024-05-22T08:43:17.326643500Z"
    }
   },
   "id": "4808e609545693c3",
   "execution_count": 16
  },
  {
   "cell_type": "code",
   "outputs": [],
   "source": [
    "    # def fit(self, X, y):\n",
    "    #     self.Mu = X.sample(n=self.n_clusters, replace=False)\n",
    "    #     for _ in range(self.max_iter):\n",
    "    #         Mu_copy = self.Mu.copy()\n",
    "    #         self.C = {cluster: [] for cluster in range(self.n_clusters)}\n",
    "    #         for i in X.index:\n",
    "    #             dist = np.array([self.distance(X.loc[i], mu) for mu in self.Mu.itertuples(index=False)])\n",
    "    #             for _ in range(self.n_clusters):\n",
    "    #                 r = np.argmin(dist)\n",
    "    #                 if not self.violated(i, r):\n",
    "    #                     self.C[r].append(i)\n",
    "    #                     break\n",
    "    #                 else:\n",
    "    #                     dist[r] = np.inf\n",
    "    #         for j in range(self.n_clusters):\n",
    "    #             self.Mu.iloc[j] = X.loc[self.C[j]].mean()\n",
    "    #         if np.all(np.abs(Mu_copy.values - self.Mu.values) < self.eps):\n",
    "    #             break"
   ],
   "metadata": {
    "collapsed": false,
    "ExecuteTime": {
     "end_time": "2024-05-22T08:35:17.227871600Z",
     "start_time": "2024-05-22T08:35:17.213599300Z"
    }
   },
   "id": "121c2496dd52dcd",
   "execution_count": 11
  }
 ],
 "metadata": {
  "kernelspec": {
   "display_name": "Python 3",
   "language": "python",
   "name": "python3"
  },
  "language_info": {
   "codemirror_mode": {
    "name": "ipython",
    "version": 2
   },
   "file_extension": ".py",
   "mimetype": "text/x-python",
   "name": "python",
   "nbconvert_exporter": "python",
   "pygments_lexer": "ipython2",
   "version": "2.7.6"
  }
 },
 "nbformat": 4,
 "nbformat_minor": 5
}
