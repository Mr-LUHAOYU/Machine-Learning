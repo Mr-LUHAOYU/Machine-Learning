{
 "cells": [
  {
   "cell_type": "code",
   "outputs": [],
   "source": [
    "from IPython.core.interactiveshell import InteractiveShell\n",
    "InteractiveShell.ast_node_interactivity = 'all'\n",
    "\n",
    "import numpy as np\n",
    "import pandas as pd\n"
   ],
   "metadata": {
    "collapsed": false,
    "ExecuteTime": {
     "end_time": "2024-05-22T15:06:35.020166600Z",
     "start_time": "2024-05-22T15:06:34.406821Z"
    }
   },
   "id": "2460de542d03e100",
   "execution_count": 1
  },
  {
   "cell_type": "code",
   "outputs": [],
   "source": [
    "Y_LABELS = {\n",
    "    'normal.': 'Normal',\n",
    "    \n",
    "    'back.': 'DoS',\n",
    "    'land.': 'DoS',\n",
    "    'neptune.': 'DoS',\n",
    "    'pod.': 'DoS',\n",
    "    'smurf.': 'DoS',\n",
    "    'teardrop.': 'DoS',\n",
    "    'ipsweep.': 'Probe',\n",
    "    'nmap.': 'Probe',\n",
    "    'portsweep.': 'Probe',\n",
    "    'satan.': 'Probe',\n",
    "    \n",
    "    'ftp_write.': 'R2L',\n",
    "    'guess_passwd.': 'R2L',\n",
    "    'imap.': 'R2L',\n",
    "    'multihop.': 'R2L',\n",
    "    'phf.': 'R2L',\n",
    "    'spy.': 'R2L',\n",
    "    'warezclient.': 'R2L',\n",
    "    'warezmaster.': 'R2L',\n",
    "    \n",
    "    'buffer_overflow.': 'U2R',\n",
    "    'loadmodule.': 'U2R',\n",
    "    'perl.': 'U2R',\n",
    "    'rootkit.': 'U2R'\n",
    "}"
   ],
   "metadata": {
    "collapsed": false,
    "ExecuteTime": {
     "end_time": "2024-05-22T15:06:35.028141Z",
     "start_time": "2024-05-22T15:06:35.021167400Z"
    }
   },
   "id": "1a0ec181d63f9b27",
   "execution_count": 2
  },
  {
   "cell_type": "code",
   "outputs": [],
   "source": [
    "class LabelEncoder(object):\n",
    "    def __init__(self):\n",
    "        self.mapping = {}\n",
    "        self.inverse_mapping = {}\n",
    "\n",
    "    def fit(self, data):\n",
    "        unique_values = np.unique(data)\n",
    "        for i, value in enumerate(unique_values):\n",
    "            self.mapping[value] = i\n",
    "            self.inverse_mapping[i] = value\n",
    "\n",
    "    def transform(self, data):\n",
    "        return np.array([self.mapping[value] for value in data])\n",
    "\n",
    "    def fit_transform(self, data):\n",
    "        self.fit(data)\n",
    "        return self.transform(data)\n",
    "\n",
    "    def inverse_transform(self, data):\n",
    "        return np.array([self.inverse_mapping[value] for value in data])"
   ],
   "metadata": {
    "collapsed": false,
    "ExecuteTime": {
     "end_time": "2024-05-22T15:06:35.037075Z",
     "start_time": "2024-05-22T15:06:35.026138900Z"
    }
   },
   "id": "23cf61a7cfd70dbb",
   "execution_count": 3
  },
  {
   "cell_type": "code",
   "outputs": [],
   "source": [
    "class Cluster(object):\n",
    "    def __init__(\n",
    "            self, \n",
    "            n_clusters=4, \n",
    "            max_iter=10, \n",
    "            eps=1e-6, \n",
    "            distance='euclidean'\n",
    "    ):\n",
    "        self.n_clusters = n_clusters\n",
    "        self.max_iter = max_iter\n",
    "        self.eps = eps\n",
    "        self.distance = {\n",
    "            'euclidean': self.euclidean,\n",
    "        }[distance]\n",
    "    \n",
    "    def fit(self, X, y):\n",
    "        # print(y)\n",
    "        Mu = X[np.random.choice(\n",
    "            X.shape[0], self.n_clusters, replace=False\n",
    "        )]\n",
    "        for _ in range(self.max_iter):\n",
    "            Mu_copy = Mu.copy()\n",
    "            C = [[] for _ in range(self.n_clusters)]\n",
    "            label = np.array([set() for _ in range(self.n_clusters)])\n",
    "            for i in range(X.shape[0]):\n",
    "                dist = np.array([self.distance(X[i], mu) for mu in Mu])\n",
    "                for _ in range(self.n_clusters):\n",
    "                    r = np.argmin(dist)\n",
    "                    if not self.violated(y[i], r, label):\n",
    "                        C[r].append(i)\n",
    "                        label[r].add(y[i])\n",
    "                        break\n",
    "                    else:\n",
    "                        dist[r] = np.inf\n",
    "            print(label)\n",
    "            for j in range(self.n_clusters):\n",
    "                Mu[j] = np.mean(X[C[j]], axis=0)\n",
    "            if np.all(np.abs(Mu_copy - Mu) < self.eps):\n",
    "                break\n",
    "        self.label = np.array([list(y)[0] for y in label])\n",
    "        self.Mu = Mu\n",
    "    \n",
    "    def predict(self, X):\n",
    "        y_pred = np.array([\n",
    "            self.label[np.argmin(\n",
    "                [self.distance(X[i], mu) for mu in self.Mu]\n",
    "            )] for i in range(X.shape[0])\n",
    "        ])\n",
    "        return y_pred\n",
    "    \n",
    "    def fit_predict(self, X, y):\n",
    "        self.fit(X, y)\n",
    "        return self.predict(X)\n",
    "    \n",
    "    def score(self, X, y):\n",
    "        y_pred = self.predict(X)\n",
    "        return np.mean(y_pred == y)\n",
    "        \n",
    "    @staticmethod\n",
    "    def euclidean(a, b):\n",
    "        return np.linalg.norm(a - b)\n",
    "    \n",
    "    def violated(self, i_label, r, labels):\n",
    "        if labels[r]:\n",
    "            if i_label not in labels[r]:\n",
    "                return True\n",
    "            else:\n",
    "                ...\n",
    "        else:\n",
    "            for j in range(self.n_clusters):\n",
    "                if i_label in labels[j]:\n",
    "                    # print(i_label, labels[j], j)\n",
    "                    return True\n",
    "        return False\n",
    "    \n",
    "    def saveModel(self):\n",
    "        with open('Models/verison', 'r') as f:\n",
    "            version = int(f.read())\n",
    "        with open(f'Models/cluster_{version}.csv', 'w') as f:\n",
    "            f.write(f'{self.n_clusters}\\n')\n",
    "            f.write(f'{self.max_iter}\\n')\n",
    "            f.write(f'{self.eps}\\n')\n",
    "            f.write(f'{self.distance}\\n')\n",
    "            f.write(f'{self.label}\\n')\n",
    "            f.write(f'{self.Mu}\\n')\n",
    "            "
   ],
   "metadata": {
    "collapsed": false,
    "ExecuteTime": {
     "end_time": "2024-05-22T15:06:35.045583100Z",
     "start_time": "2024-05-22T15:06:35.030550300Z"
    }
   },
   "id": "initial_id",
   "execution_count": 4
  },
  {
   "cell_type": "code",
   "outputs": [],
   "source": [
    "def min_max_normalize(data):\n",
    "    min_val = data.min(axis=0)\n",
    "    max_val = data.max(axis=0)\n",
    "    return (data - min_val) / (max_val - min_val)\n",
    "\n",
    "def z_score_normalize(data):\n",
    "    mean = data.mean(axis=0)\n",
    "    std = data.std(axis=0)\n",
    "    return (data - mean) / std"
   ],
   "metadata": {
    "collapsed": false,
    "ExecuteTime": {
     "end_time": "2024-05-22T15:06:35.064337800Z",
     "start_time": "2024-05-22T15:06:35.041311900Z"
    }
   },
   "id": "f14639fdef6b4520",
   "execution_count": 5
  },
  {
   "cell_type": "code",
   "outputs": [],
   "source": [
    "df = pd.read_csv('kddcup.data.gz')\n",
    "X = df.iloc[:, :-1]\n",
    "y = df.iloc[:, -1]\n",
    "\n",
    "string_columns = X.select_dtypes(include=['object']).columns\n",
    "encoder = LabelEncoder()\n",
    "for col in string_columns:\n",
    "    X[col] = encoder.fit_transform(X[col])\n",
    "\n",
    "X = min_max_normalize(X).dropna(axis=1)\n",
    "y = y.map(Y_LABELS)"
   ],
   "metadata": {
    "collapsed": false,
    "ExecuteTime": {
     "end_time": "2024-05-22T15:06:53.690643Z",
     "start_time": "2024-05-22T15:06:35.047659Z"
    }
   },
   "id": "293d561002644295",
   "execution_count": 6
  },
  {
   "cell_type": "code",
   "outputs": [],
   "source": [
    "X_train = X.iloc[:X.shape[0] * 5 // 7, :].reset_index(drop=True)\n",
    "y_train = y.iloc[:y.shape[0] * 5 // 7].reset_index(drop=True)"
   ],
   "metadata": {
    "collapsed": false,
    "ExecuteTime": {
     "end_time": "2024-05-22T15:06:53.864158600Z",
     "start_time": "2024-05-22T15:06:53.697194500Z"
    }
   },
   "id": "7b1c7b234e605217",
   "execution_count": 7
  },
  {
   "cell_type": "code",
   "outputs": [
    {
     "name": "stdout",
     "output_type": "stream",
     "text": [
      "[{'R2L'} {'Normal'} {'DoS'} {'U2R'}]\n",
      "[{'Normal'} {'R2L'} {'DoS'} {'U2R'}]\n",
      "[{'R2L'} {'Normal'} {'DoS'} {'U2R'}]\n",
      "[{'Normal'} {'R2L'} {'DoS'} {'U2R'}]\n",
      "[{'R2L'} {'Normal'} {'DoS'} {'U2R'}]\n",
      "[{'Normal'} {'R2L'} {'DoS'} {'U2R'}]\n",
      "[{'R2L'} {'Normal'} {'DoS'} {'U2R'}]\n",
      "[{'Normal'} {'R2L'} {'DoS'} {'U2R'}]\n",
      "[{'R2L'} {'Normal'} {'DoS'} {'U2R'}]\n",
      "[{'Normal'} {'R2L'} {'DoS'} {'U2R'}]\n"
     ]
    }
   ],
   "source": [
    "model = Cluster(n_clusters=4, max_iter=10, eps=1e-6, distance='euclidean')\n",
    "model.fit(X_train.to_numpy(), y_train)"
   ],
   "metadata": {
    "collapsed": false,
    "ExecuteTime": {
     "end_time": "2024-05-22T15:11:12.549352900Z",
     "start_time": "2024-05-22T15:06:53.865160500Z"
    }
   },
   "id": "5bef22b51d7a025f",
   "execution_count": 8
  },
  {
   "cell_type": "code",
   "outputs": [],
   "source": [
    "X_test = X.iloc[X.shape[0] * 5 // 7:, :].reset_index(drop=True)\n",
    "y_test = y.iloc[y.shape[0] * 5 // 7:].reset_index(drop=True)"
   ],
   "metadata": {
    "collapsed": false,
    "ExecuteTime": {
     "end_time": "2024-05-22T15:11:12.765916600Z",
     "start_time": "2024-05-22T15:11:12.550545Z"
    }
   },
   "id": "fff46012b0ba7931",
   "execution_count": 9
  },
  {
   "cell_type": "code",
   "outputs": [
    {
     "name": "stdout",
     "output_type": "stream",
     "text": [
      "1326576\n",
      "1399552\n"
     ]
    },
    {
     "data": {
      "text/plain": "array(['DoS', 'DoS', 'DoS', ..., 'Normal', 'Normal', 'Normal'],\n      dtype='<U6')"
     },
     "execution_count": 10,
     "metadata": {},
     "output_type": "execute_result"
    }
   ],
   "source": [
    "pred = model.predict(X_test.to_numpy())\n",
    "print(sum(pred == y_test))\n",
    "print(X_test.shape[0])\n",
    "pred"
   ],
   "metadata": {
    "collapsed": false,
    "ExecuteTime": {
     "end_time": "2024-05-22T15:11:34.697326600Z",
     "start_time": "2024-05-22T15:11:12.764784900Z"
    }
   },
   "id": "5a229f6701cc6b83",
   "execution_count": 10
  },
  {
   "cell_type": "code",
   "outputs": [
    {
     "name": "stdout",
     "output_type": "stream",
     "text": [
      "['Normal' 'R2L' 'DoS' 'U2R']\n",
      "[[1.37211822e-04 5.29773605e-01 3.74176851e-01 8.73407478e-01\n",
      "  8.60111466e-07 3.02006365e-06 0.00000000e+00 0.00000000e+00\n",
      "  1.85023864e-06 6.29951837e-04 2.04179275e-05 8.76674194e-01\n",
      "  3.15767192e-06 3.96168744e-04 7.54244339e-05 5.91494576e-06\n",
      "  1.17007978e-04 1.34849745e-04 5.73090255e-04 1.52372594e-06\n",
      "  3.71179638e-03 1.94200511e-02 2.59357089e-02 1.56773114e-03\n",
      "  1.90665350e-03 3.30300357e-02 3.32114048e-02 9.95535285e-01\n",
      "  6.92853421e-03 1.39722941e-01 5.28982940e-01 8.73399683e-01\n",
      "  9.22416492e-01 1.13133146e-02 8.21265729e-02 2.40095934e-02\n",
      "  1.94287247e-03 9.37289535e-04 3.44659798e-02 3.26716401e-02]\n",
      " [1.69653573e-02 5.00000000e-01 3.43314192e-01 8.44182390e-01\n",
      "  3.48578258e-04 9.72041697e-05 0.00000000e+00 0.00000000e+00\n",
      "  3.36927224e-04 7.63701707e-02 1.76100629e-02 8.63207547e-01\n",
      "  8.19905799e-06 6.28930818e-03 7.86163522e-04 1.20008893e-05\n",
      "  1.13353810e-03 2.35849057e-03 1.22292103e-03 0.00000000e+00\n",
      "  2.37421384e-01 2.54464670e-03 6.08315179e-03 2.01886792e-02\n",
      "  1.88522013e-02 8.01886792e-02 8.14150943e-02 9.96336478e-01\n",
      "  7.34276730e-03 2.14622642e-02 3.11320755e-01 1.62122333e-01\n",
      "  7.73113208e-01 2.63207547e-02 6.35125786e-01 7.14150943e-02\n",
      "  3.69496855e-02 2.57547170e-02 7.53459119e-02 7.41037736e-02]\n",
      " [6.78247192e-09 2.88304986e-01 4.93673191e-01 6.70795269e-01\n",
      "  4.31912961e-07 1.84036756e-08 2.36811679e-05 4.40191121e-04\n",
      "  0.00000000e+00 7.46617112e-05 0.00000000e+00 2.92949977e-03\n",
      "  3.78286276e-07 0.00000000e+00 0.00000000e+00 0.00000000e+00\n",
      "  0.00000000e+00 0.00000000e+00 0.00000000e+00 0.00000000e+00\n",
      "  0.00000000e+00 6.29516394e-01 4.34043618e-01 5.72836558e-01\n",
      "  5.72776575e-01 1.25719141e-04 3.04456239e-04 4.63609525e-01\n",
      "  3.71858136e-02 4.37892655e-04 9.98806469e-01 4.49323787e-01\n",
      "  4.49922354e-01 3.94979592e-02 4.23257010e-01 5.61243679e-05\n",
      "  5.72895789e-01 5.72784864e-01 1.55557413e-04 1.48857035e-04]\n",
      " [2.36017533e-03 5.00000000e-01 7.91304348e-01 9.00000000e-01\n",
      "  6.01609946e-07 3.76883149e-06 0.00000000e+00 0.00000000e+00\n",
      "  4.76190476e-03 1.64502165e-02 1.33333333e-02 8.66666667e-01\n",
      "  2.67415430e-04 6.00000000e-01 0.00000000e+00 2.76736297e-04\n",
      "  2.79069767e-02 2.00000000e-01 7.40740741e-03 0.00000000e+00\n",
      "  0.00000000e+00 1.95694716e-03 1.95694716e-03 0.00000000e+00\n",
      "  0.00000000e+00 0.00000000e+00 0.00000000e+00 1.00000000e+00\n",
      "  0.00000000e+00 0.00000000e+00 4.20653595e-01 2.01307190e-02\n",
      "  5.38000000e-01 1.13333333e-02 4.67333333e-01 1.04666667e-01\n",
      "  0.00000000e+00 0.00000000e+00 0.00000000e+00 6.66666667e-03]]\n"
     ]
    }
   ],
   "source": [
    "print(model.label)\n",
    "print(model.Mu)"
   ],
   "metadata": {
    "collapsed": false,
    "ExecuteTime": {
     "end_time": "2024-05-22T15:11:34.698670200Z",
     "start_time": "2024-05-22T15:11:34.695448200Z"
    }
   },
   "id": "c53cc984506208d5",
   "execution_count": 11
  },
  {
   "cell_type": "code",
   "outputs": [],
   "source": [
    "# pred\n",
    "# # pred = np.array(list(p) for p in pred)\n",
    "# pred = np.array([list(p)[0] if len(p) == 1 else 'DoS' for p in pred])\n",
    "# print(sum(pred == y_test.to_numpy()))"
   ],
   "metadata": {
    "collapsed": false,
    "ExecuteTime": {
     "end_time": "2024-05-22T15:11:34.704726400Z",
     "start_time": "2024-05-22T15:11:34.698670200Z"
    }
   },
   "id": "7beab47e2fdb7c7",
   "execution_count": 12
  },
  {
   "cell_type": "code",
   "outputs": [],
   "source": [
    "# YY_test = y_test.iloc[:, 0].map({\n",
    "#     'Probe': 0,\n",
    "#     'R2L': 1,\n",
    "#     'DoS': 2,\n",
    "#     'Normal': 3\n",
    "# })\n",
    "# print(sum(pred == YY_test))"
   ],
   "metadata": {
    "collapsed": false,
    "ExecuteTime": {
     "end_time": "2024-05-22T15:11:34.705726800Z",
     "start_time": "2024-05-22T15:11:34.701974600Z"
    }
   },
   "id": "4808e609545693c3",
   "execution_count": 13
  },
  {
   "cell_type": "code",
   "outputs": [],
   "source": [
    "    # def fit(self, X, y):\n",
    "    #     self.Mu = X.sample(n=self.n_clusters, replace=False)\n",
    "    #     for _ in range(self.max_iter):\n",
    "    #         Mu_copy = self.Mu.copy()\n",
    "    #         self.C = {cluster: [] for cluster in range(self.n_clusters)}\n",
    "    #         for i in X.index:\n",
    "    #             dist = np.array([self.distance(X.loc[i], mu) for mu in self.Mu.itertuples(index=False)])\n",
    "    #             for _ in range(self.n_clusters):\n",
    "    #                 r = np.argmin(dist)\n",
    "    #                 if not self.violated(i, r):\n",
    "    #                     self.C[r].append(i)\n",
    "    #                     break\n",
    "    #                 else:\n",
    "    #                     dist[r] = np.inf\n",
    "    #         for j in range(self.n_clusters):\n",
    "    #             self.Mu.iloc[j] = X.loc[self.C[j]].mean()\n",
    "    #         if np.all(np.abs(Mu_copy.values - self.Mu.values) < self.eps):\n",
    "    #             break"
   ],
   "metadata": {
    "collapsed": false,
    "ExecuteTime": {
     "end_time": "2024-05-22T15:11:34.711130400Z",
     "start_time": "2024-05-22T15:11:34.705726800Z"
    }
   },
   "id": "121c2496dd52dcd",
   "execution_count": 14
  }
 ],
 "metadata": {
  "kernelspec": {
   "display_name": "Python 3",
   "language": "python",
   "name": "python3"
  },
  "language_info": {
   "codemirror_mode": {
    "name": "ipython",
    "version": 2
   },
   "file_extension": ".py",
   "mimetype": "text/x-python",
   "name": "python",
   "nbconvert_exporter": "python",
   "pygments_lexer": "ipython2",
   "version": "2.7.6"
  }
 },
 "nbformat": 4,
 "nbformat_minor": 5
}
