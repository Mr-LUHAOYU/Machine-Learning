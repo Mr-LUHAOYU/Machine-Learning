{
 "cells": [
  {
   "cell_type": "code",
   "outputs": [],
   "source": [
    "from IPython.core.interactiveshell import InteractiveShell\n",
    "InteractiveShell.ast_node_interactivity = 'all'"
   ],
   "metadata": {
    "collapsed": false,
    "ExecuteTime": {
     "end_time": "2024-05-21T10:54:37.914106400Z",
     "start_time": "2024-05-21T10:54:37.909097100Z"
    }
   },
   "id": "66c936363c1e7634",
   "execution_count": 1
  },
  {
   "cell_type": "code",
   "outputs": [
    {
     "data": {
      "text/plain": "array([[-1.67156125e+03,  3.43490248e+03, -2.16528083e+01, ...,\n        -1.43493231e+01,  3.84828437e-01, -2.87973739e+00],\n       [-1.59858114e+03,  1.34879703e+02, -2.15261101e+01, ...,\n        -1.43437158e+01,  3.86083336e-01, -2.86667639e+00],\n       [-1.60133266e+03,  9.38880590e+02, -2.16371934e+01, ...,\n        -1.42802909e+01,  3.84498107e-01, -2.85377415e+00],\n       ...,\n       [-1.61584503e+03,  2.51688508e+03, -2.78747570e+01, ...,\n         2.61571878e+00, -2.28538228e-01, -2.83539228e-01],\n       [-1.61557935e+03,  1.40884881e+02, -2.78935287e+01, ...,\n         2.61705736e+00, -2.27933528e-01, -2.80452610e-01],\n       [-1.61562137e+03,  4.88491755e+00, -2.64969078e+01, ...,\n         1.10584698e+00, -1.58767300e-01, -6.05828036e-01]])"
     },
     "execution_count": 4,
     "metadata": {},
     "output_type": "execute_result"
    }
   ],
   "source": [
    "from sklearn.decomposition import PCA\n",
    "from sklearn.preprocessing import LabelEncoder\n",
    "import numpy as np\n",
    "import pandas as pd\n",
    "\n",
    "# 读取数据集\n",
    "data = pd.read_csv('kddcup.data.gz')\n",
    "\n",
    "# 标识出所有的字符串列\n",
    "string_columns = data.select_dtypes(include=['object']).columns\n",
    "\n",
    "# 对每一列进行标签编码\n",
    "encoder = LabelEncoder()\n",
    "for col in string_columns:\n",
    "    data[col] = encoder.fit_transform(data[col])\n",
    "# pca = PCA(n_components=10)\n",
    "# data = pca.fit_transform(data)\n",
    "# data"
   ],
   "metadata": {
    "collapsed": false,
    "ExecuteTime": {
     "end_time": "2024-05-21T10:48:59.414397800Z",
     "start_time": "2024-05-21T10:48:28.008868600Z"
    }
   },
   "id": "2fb1d1f83d52495e",
   "execution_count": 4
  },
  {
   "cell_type": "code",
   "outputs": [],
   "source": [],
   "metadata": {
    "collapsed": false
   },
   "id": "4f25b630b6683adc"
  },
  {
   "cell_type": "code",
   "outputs": [],
   "source": [],
   "metadata": {
    "collapsed": false
   },
   "id": "a96169cd834bd2d"
  },
  {
   "cell_type": "code",
   "outputs": [],
   "source": [
    "from sklearn.neighbors._base import (\n",
    "    KNeighborsMixin, \n",
    "    RadiusNeighborsMixin, \n",
    "    NeighborsBase\n",
    ")\n",
    "\n",
    "\n",
    "class NearestNeighbors(KNeighborsMixin, RadiusNeighborsMixin, NeighborsBase):\n",
    "    def __init__(\n",
    "        self,\n",
    "        *,\n",
    "        n_neighbors=5,\n",
    "        radius=1.0,\n",
    "        algorithm=\"auto\",\n",
    "        leaf_size=30,\n",
    "        metric=\"minkowski\",\n",
    "        p=2,\n",
    "        metric_params=None,\n",
    "        n_jobs=None,\n",
    "    ):\n",
    "        super().__init__(\n",
    "            n_neighbors=n_neighbors,\n",
    "            radius=radius,\n",
    "            algorithm=algorithm,\n",
    "            leaf_size=leaf_size,\n",
    "            metric=metric,\n",
    "            p=p,\n",
    "            metric_params=metric_params,\n",
    "            n_jobs=n_jobs,\n",
    "        )\n",
    "\n",
    "    def fit(self, X, y=None):\n",
    "        return self._fit(X)\n"
   ],
   "metadata": {
    "collapsed": false
   },
   "id": "bcd23d8e053f21f5"
  },
  {
   "cell_type": "code",
   "outputs": [],
   "source": [
    "from sklearn.cluster._dbscan_inner import dbscan_inner\n",
    "import numpy as np\n",
    "import numbers\n",
    "import warnings\n",
    "from scipy import sparse\n",
    "from sklearn.utils import check_scalar\n",
    "# \n",
    "# from ..utils import check_scalar\n",
    "# from ..base import BaseEstimator, ClusterMixin\n",
    "# from ..utils.validation import _check_sample_weight\n",
    "# from ..neighbors import NearestNeighbors\n",
    "# \n",
    "# from ._dbscan_inner import dbscan_inner\n",
    "\n",
    "class DBSCAN(object):\n",
    "    _estimator_type = \"clusterer\"\n",
    "\n",
    "    def __init__(\n",
    "        self,\n",
    "        eps=0.5,\n",
    "        *,\n",
    "        min_samples=5,\n",
    "        metric=\"euclidean\",\n",
    "        metric_params=None,\n",
    "        algorithm=\"auto\",\n",
    "        leaf_size=30,\n",
    "        p=None,\n",
    "        n_jobs=None,\n",
    "    ):\n",
    "        self.eps = eps\n",
    "        self.min_samples = min_samples\n",
    "        self.metric = metric\n",
    "        self.metric_params = metric_params\n",
    "        self.algorithm = algorithm\n",
    "        self.leaf_size = leaf_size\n",
    "        self.p = p\n",
    "        self.n_jobs = n_jobs\n",
    "\n",
    "    def fit(self, X, y=None, sample_weight=None):\n",
    "        if self.metric == \"precomputed\" and sparse.issparse(X):\n",
    "            with warnings.catch_warnings():\n",
    "                warnings.simplefilter(\"ignore\", sparse.SparseEfficiencyWarning)\n",
    "                X.setdiag(X.diagonal())  # XXX: modifies X's internals in-place\n",
    "        \n",
    "        neighbors_model = NearestNeighbors(\n",
    "            radius=self.eps,\n",
    "            algorithm=self.algorithm,\n",
    "            leaf_size=self.leaf_size,\n",
    "            metric=self.metric,\n",
    "            metric_params=self.metric_params,\n",
    "            p=self.p,\n",
    "            n_jobs=self.n_jobs,\n",
    "        )\n",
    "        neighbors_model.fit(X)\n",
    "        neighborhoods = neighbors_model.radius_neighbors(X, return_distance=False)\n",
    "\n",
    "        if sample_weight is None:\n",
    "            n_neighbors = np.array([len(neighbors) for neighbors in neighborhoods])\n",
    "        else:\n",
    "            n_neighbors = np.array(\n",
    "                [np.sum(sample_weight[neighbors]) for neighbors in neighborhoods]\n",
    "            )\n",
    "\n",
    "        labels = np.full(X.shape[0], -1, dtype=np.intp)\n",
    "\n",
    "        core_samples = np.asarray(n_neighbors >= self.min_samples, dtype=np.uint8)\n",
    "        dbscan_inner(core_samples, neighborhoods, labels)\n",
    "\n",
    "        self.core_sample_indices_ = np.where(core_samples)[0]\n",
    "        self.labels_ = labels\n",
    "\n",
    "        if len(self.core_sample_indices_):\n",
    "            self.components_ = X[self.core_sample_indices_].copy()\n",
    "        else:\n",
    "            self.components_ = np.empty((0, X.shape[1]))\n",
    "        return self\n",
    "\n",
    "    def fit_predict(self, X, y=None, sample_weight=None):\n",
    "        self.fit(X, sample_weight=sample_weight)\n",
    "        return self.labels_\n",
    "\n",
    "    def _more_tags(self):\n",
    "        return {\"pairwise\": self.metric == \"precomputed\"}\n"
   ],
   "metadata": {
    "collapsed": false
   },
   "id": "ddef74622680fd8b"
  },
  {
   "cell_type": "code",
   "outputs": [
    {
     "name": "stderr",
     "output_type": "stream",
     "text": [
      "D:\\Python\\Lib\\site-packages\\sklearn\\cluster\\_kmeans.py:870: FutureWarning: The default value of `n_init` will change from 10 to 'auto' in 1.4. Set the value of `n_init` explicitly to suppress the warning\n",
      "  warnings.warn(\n"
     ]
    },
    {
     "data": {
      "text/plain": "KMeans(n_clusters=10)",
      "text/html": "<style>#sk-container-id-3 {color: black;background-color: white;}#sk-container-id-3 pre{padding: 0;}#sk-container-id-3 div.sk-toggleable {background-color: white;}#sk-container-id-3 label.sk-toggleable__label {cursor: pointer;display: block;width: 100%;margin-bottom: 0;padding: 0.3em;box-sizing: border-box;text-align: center;}#sk-container-id-3 label.sk-toggleable__label-arrow:before {content: \"▸\";float: left;margin-right: 0.25em;color: #696969;}#sk-container-id-3 label.sk-toggleable__label-arrow:hover:before {color: black;}#sk-container-id-3 div.sk-estimator:hover label.sk-toggleable__label-arrow:before {color: black;}#sk-container-id-3 div.sk-toggleable__content {max-height: 0;max-width: 0;overflow: hidden;text-align: left;background-color: #f0f8ff;}#sk-container-id-3 div.sk-toggleable__content pre {margin: 0.2em;color: black;border-radius: 0.25em;background-color: #f0f8ff;}#sk-container-id-3 input.sk-toggleable__control:checked~div.sk-toggleable__content {max-height: 200px;max-width: 100%;overflow: auto;}#sk-container-id-3 input.sk-toggleable__control:checked~label.sk-toggleable__label-arrow:before {content: \"▾\";}#sk-container-id-3 div.sk-estimator input.sk-toggleable__control:checked~label.sk-toggleable__label {background-color: #d4ebff;}#sk-container-id-3 div.sk-label input.sk-toggleable__control:checked~label.sk-toggleable__label {background-color: #d4ebff;}#sk-container-id-3 input.sk-hidden--visually {border: 0;clip: rect(1px 1px 1px 1px);clip: rect(1px, 1px, 1px, 1px);height: 1px;margin: -1px;overflow: hidden;padding: 0;position: absolute;width: 1px;}#sk-container-id-3 div.sk-estimator {font-family: monospace;background-color: #f0f8ff;border: 1px dotted black;border-radius: 0.25em;box-sizing: border-box;margin-bottom: 0.5em;}#sk-container-id-3 div.sk-estimator:hover {background-color: #d4ebff;}#sk-container-id-3 div.sk-parallel-item::after {content: \"\";width: 100%;border-bottom: 1px solid gray;flex-grow: 1;}#sk-container-id-3 div.sk-label:hover label.sk-toggleable__label {background-color: #d4ebff;}#sk-container-id-3 div.sk-serial::before {content: \"\";position: absolute;border-left: 1px solid gray;box-sizing: border-box;top: 0;bottom: 0;left: 50%;z-index: 0;}#sk-container-id-3 div.sk-serial {display: flex;flex-direction: column;align-items: center;background-color: white;padding-right: 0.2em;padding-left: 0.2em;position: relative;}#sk-container-id-3 div.sk-item {position: relative;z-index: 1;}#sk-container-id-3 div.sk-parallel {display: flex;align-items: stretch;justify-content: center;background-color: white;position: relative;}#sk-container-id-3 div.sk-item::before, #sk-container-id-3 div.sk-parallel-item::before {content: \"\";position: absolute;border-left: 1px solid gray;box-sizing: border-box;top: 0;bottom: 0;left: 50%;z-index: -1;}#sk-container-id-3 div.sk-parallel-item {display: flex;flex-direction: column;z-index: 1;position: relative;background-color: white;}#sk-container-id-3 div.sk-parallel-item:first-child::after {align-self: flex-end;width: 50%;}#sk-container-id-3 div.sk-parallel-item:last-child::after {align-self: flex-start;width: 50%;}#sk-container-id-3 div.sk-parallel-item:only-child::after {width: 0;}#sk-container-id-3 div.sk-dashed-wrapped {border: 1px dashed gray;margin: 0 0.4em 0.5em 0.4em;box-sizing: border-box;padding-bottom: 0.4em;background-color: white;}#sk-container-id-3 div.sk-label label {font-family: monospace;font-weight: bold;display: inline-block;line-height: 1.2em;}#sk-container-id-3 div.sk-label-container {text-align: center;}#sk-container-id-3 div.sk-container {/* jupyter's `normalize.less` sets `[hidden] { display: none; }` but bootstrap.min.css set `[hidden] { display: none !important; }` so we also need the `!important` here to be able to override the default hidden behavior on the sphinx rendered scikit-learn.org. See: https://github.com/scikit-learn/scikit-learn/issues/21755 */display: inline-block !important;position: relative;}#sk-container-id-3 div.sk-text-repr-fallback {display: none;}</style><div id=\"sk-container-id-3\" class=\"sk-top-container\"><div class=\"sk-text-repr-fallback\"><pre>KMeans(n_clusters=10)</pre><b>In a Jupyter environment, please rerun this cell to show the HTML representation or trust the notebook. <br />On GitHub, the HTML representation is unable to render, please try loading this page with nbviewer.org.</b></div><div class=\"sk-container\" hidden><div class=\"sk-item\"><div class=\"sk-estimator sk-toggleable\"><input class=\"sk-toggleable__control sk-hidden--visually\" id=\"sk-estimator-id-3\" type=\"checkbox\" checked><label for=\"sk-estimator-id-3\" class=\"sk-toggleable__label sk-toggleable__label-arrow\">KMeans</label><div class=\"sk-toggleable__content\"><pre>KMeans(n_clusters=10)</pre></div></div></div></div></div>"
     },
     "execution_count": 6,
     "metadata": {},
     "output_type": "execute_result"
    },
    {
     "data": {
      "text/plain": "<matplotlib.collections.PathCollection at 0x275fcc4f890>"
     },
     "execution_count": 6,
     "metadata": {},
     "output_type": "execute_result"
    },
    {
     "data": {
      "text/plain": "<matplotlib.collections.PathCollection at 0x275fcc88810>"
     },
     "execution_count": 6,
     "metadata": {},
     "output_type": "execute_result"
    },
    {
     "data": {
      "text/plain": "<Figure size 640x480 with 1 Axes>",
      "image/png": "[encoded data removed]"
     },
     "metadata": {},
     "output_type": "display_data"
    }
   ],
   "source": [
    "from sklearn.cluster import KMeans, DBSCAN\n",
    "import pandas as pd\n",
    "import numpy as np\n",
    "from sklearn.preprocessing import LabelEncoder\n",
    "\n",
    "data = pd.read_csv('kddcup.data.gz', nrows=100)\n",
    "# 标识出所有的字符串列\n",
    "string_columns = data.select_dtypes(include=['object']).columns\n",
    "\n",
    "# 对每一列进行标签编码\n",
    "encoder = LabelEncoder()\n",
    "for col in string_columns:\n",
    "    data[col] = encoder.fit_transform(data[col])\n",
    "data = data.values\n",
    "\n",
    "# 聚类\n",
    "kmeans = KMeans(n_clusters=10)\n",
    "kmeans.fit(data)\n",
    "y_kmeans = kmeans.predict(data)\n",
    "\n",
    "# 结果展示\n",
    "import matplotlib.pyplot as plt\n",
    "plt.scatter(data[:, 0], data[:, 1], c=y_kmeans, s=50, cmap='viridis')\n",
    "plt.scatter(kmeans.cluster_centers_[:, 0], kmeans.cluster_centers_[:, 1], c='red', s=50, alpha=0.5)\n",
    "plt.show()"
   ],
   "metadata": {
    "collapsed": false,
    "ExecuteTime": {
     "end_time": "2024-05-21T10:56:12.600904700Z",
     "start_time": "2024-05-21T10:56:12.472981Z"
    }
   },
   "id": "3cf176d08a1eb272",
   "execution_count": 6
  }
 ],
 "metadata": {
  "kernelspec": {
   "display_name": "Python 3",
   "language": "python",
   "name": "python3"
  },
  "language_info": {
   "codemirror_mode": {
    "name": "ipython",
    "version": 2
   },
   "file_extension": ".py",
   "mimetype": "text/x-python",
   "name": "python",
   "nbconvert_exporter": "python",
   "pygments_lexer": "ipython2",
   "version": "2.7.6"
  }
 },
 "nbformat": 4,
 "nbformat_minor": 5
}
