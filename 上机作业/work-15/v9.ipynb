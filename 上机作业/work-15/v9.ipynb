{
 "cells": [
  {
   "cell_type": "code",
   "outputs": [],
   "source": [
    "from IPython.core.interactiveshell import InteractiveShell\n",
    "InteractiveShell.ast_node_interactivity = 'all'\n",
    "\n",
    "import numpy as np\n",
    "import pandas as pd"
   ],
   "metadata": {
    "collapsed": false,
    "ExecuteTime": {
     "end_time": "2024-05-25T12:04:05.239236300Z",
     "start_time": "2024-05-25T12:04:04.498784700Z"
    }
   },
   "id": "2460de542d03e100",
   "execution_count": 2
  },
  {
   "cell_type": "code",
   "outputs": [],
   "source": [
    "Y_LABELS = {\n",
    "    'normal.': 'Normal',\n",
    "    \n",
    "    'back.': 'DoS',\n",
    "    'land.': 'DoS',\n",
    "    'neptune.': 'DoS',\n",
    "    'pod.': 'DoS',\n",
    "    'smurf.': 'DoS',\n",
    "    'teardrop.': 'DoS',\n",
    "    \n",
    "    'ipsweep.': 'Probe',\n",
    "    'nmap.': 'Probe',\n",
    "    'portsweep.': 'Probe',\n",
    "    'satan.': 'Probe',\n",
    "    \n",
    "    'ftp_write.': 'R2L',\n",
    "    'guess_passwd.': 'R2L',\n",
    "    'imap.': 'R2L',\n",
    "    'multihop.': 'R2L',\n",
    "    'phf.': 'R2L',\n",
    "    'spy.': 'R2L',\n",
    "    'warezclient.': 'R2L',\n",
    "    'warezmaster.': 'R2L',\n",
    "    \n",
    "    'buffer_overflow.': 'U2R',\n",
    "    'loadmodule.': 'U2R',\n",
    "    'perl.': 'U2R',\n",
    "    'rootkit.': 'U2R'\n",
    "}"
   ],
   "metadata": {
    "collapsed": false,
    "ExecuteTime": {
     "end_time": "2024-05-24T15:25:37.667510900Z",
     "start_time": "2024-05-24T15:25:37.659275500Z"
    }
   },
   "id": "1a0ec181d63f9b27",
   "execution_count": 107
  },
  {
   "cell_type": "code",
   "outputs": [],
   "source": [
    "class LabelEncoder(object):\n",
    "    def __init__(self):\n",
    "        self.mapping = {}\n",
    "        self.inverse_mapping = {}\n",
    "\n",
    "    def fit(self, data):\n",
    "        unique_values = np.unique(data)\n",
    "        for i, value in enumerate(unique_values):\n",
    "            self.mapping[value] = i\n",
    "            self.inverse_mapping[i] = value\n",
    "\n",
    "    def transform(self, data):\n",
    "        return np.array([self.mapping[value] for value in data])\n",
    "\n",
    "    def fit_transform(self, data):\n",
    "        self.fit(data)\n",
    "        return self.transform(data)\n",
    "\n",
    "    def inverse_transform(self, data):\n",
    "        return np.array([self.inverse_mapping[value] for value in data])"
   ],
   "metadata": {
    "collapsed": false,
    "ExecuteTime": {
     "end_time": "2024-05-25T12:04:18.462307900Z",
     "start_time": "2024-05-25T12:04:18.452402800Z"
    }
   },
   "id": "23cf61a7cfd70dbb",
   "execution_count": 3
  },
  {
   "cell_type": "code",
   "outputs": [],
   "source": [
    "class Cluster(object):\n",
    "    def __init__(\n",
    "            self, \n",
    "            n_clusters=5, \n",
    "            max_iter=100, \n",
    "            eps=1e-6, \n",
    "            distance='euclidean',\n",
    "            random_state=None,\n",
    "            **kwargs\n",
    "    ):\n",
    "        self.n_clusters = n_clusters\n",
    "        self.max_iter = max_iter\n",
    "        self.eps = eps\n",
    "        self.distance = {\n",
    "            'euclidean': self.euclidean,\n",
    "        }[distance]\n",
    "        self.random_state = random_state\n",
    "        for k, v in kwargs.items():\n",
    "            # print(k, v)\n",
    "            if type(v) == str:\n",
    "                v = eval(v)\n",
    "            setattr(self, k, v)\n",
    "    \n",
    "    def to_DataFrame(self):\n",
    "        kv = self.__dict__.copy()\n",
    "        kv['distance'] = self.distance.__name__\n",
    "        kv['Mu'] = kv['Mu'].tolist()\n",
    "        kv['label'] = kv['label'].tolist()\n",
    "        return pd.DataFrame([kv])\n",
    "    \n",
    "    def fit(self, X, y):\n",
    "        np.random.seed(self.random_state)\n",
    "        Mu = X[np.random.choice(\n",
    "            X.shape[0], self.n_clusters, replace=False\n",
    "        )]\n",
    "        \n",
    "        mp = {\n",
    "            y.unique()[i]: i\n",
    "            for i in range(y.unique().shape[0])\n",
    "        }\n",
    "        mp.update({\n",
    "            i: y.unique()[i]\n",
    "            for i in range(y.unique().shape[0])\n",
    "        })\n",
    "        label_ = np.array([\n",
    "            np.array([0] * y.unique().shape[0])\n",
    "            for _ in range(self.n_clusters)\n",
    "        ])\n",
    "        \n",
    "        # label_ = {\n",
    "        #     i : [0] * self.n_clusters\n",
    "        #     for i in range(y.unique().shape[0])\n",
    "        # }\n",
    "        # label_ = pd.DataFrame(label_, index=y.unique())\n",
    "        \n",
    "        # print(y.values)\n",
    "        for _ in range(self.max_iter):\n",
    "            Mu_copy = Mu.copy()\n",
    "            C = [[] for _ in range(self.n_clusters)]\n",
    "            label = label_.copy()\n",
    "            # print(label)\n",
    "            for i in range(X.shape[0]):\n",
    "                dist = np.array([self.distance(X[i], mu) for mu in Mu])\n",
    "                for _ in range(self.n_clusters):\n",
    "                    r = np.argmin(dist)\n",
    "                    if not self.violated(mp[y[i]], r, label):\n",
    "                        C[r].append(i)\n",
    "                        # label[r].add(y[i])\n",
    "                        label[r][mp[y[i]]] += 1\n",
    "                        break\n",
    "                    else:\n",
    "                        dist[r] = np.inf\n",
    "            print(label)\n",
    "            for j in range(self.n_clusters):\n",
    "                Mu[j] = np.mean(X[C[j]], axis=0)\n",
    "            if np.all(np.abs(Mu_copy - Mu) < self.eps):\n",
    "                break\n",
    "            \n",
    "        self.label = np.array(\n",
    "            [mp[np.random.choice(np.where(s == s.max())[0], 1)[0]] for s in label]\n",
    "        )\n",
    "        self.Mu = Mu\n",
    "    \n",
    "    def predict(self, X):\n",
    "        y_pred = np.array([\n",
    "            self.label[np.argmin(\n",
    "                [self.distance(X[i], mu) for mu in self.Mu]\n",
    "            )] for i in range(X.shape[0])\n",
    "        ])\n",
    "        return y_pred\n",
    "    \n",
    "    def fit_predict(self, X, y):\n",
    "        self.fit(X, y)\n",
    "        return self.predict(X)\n",
    "    \n",
    "    def score(self, X, y):\n",
    "        y_pred = self.predict(X)\n",
    "        self.accuracy = np.mean(y_pred == y)\n",
    "        return self.accuracy\n",
    "        \n",
    "    @staticmethod\n",
    "    def euclidean(a, b):\n",
    "        return np.linalg.norm(a - b)\n",
    "    \n",
    "    def violated(self, i_label, r, labels):\n",
    "        if not labels[r].sum():\n",
    "            return False\n",
    "        return not labels[r][i_label] and np.sum(labels[:, i_label])\n",
    "    \n",
    "    def saveModel(self):\n",
    "        with open('Models/version_C', 'r') as f:\n",
    "            version = int(f.read())\n",
    "        version += 1\n",
    "        with open('Models/version_C', 'w') as f:\n",
    "            f.write(str(version))\n",
    "        self.to_DataFrame().to_csv(f'Models/cluster_{version}.csv', index=False)\n",
    "    \n",
    "    def loadModel(self, version):\n",
    "        with open(f'Models/cluster_{version}.csv', 'r') as f:\n",
    "            kv = pd.read_csv(f).iloc[0].to_dict()\n",
    "        self.__init__(**kv)\n",
    "    \n",
    "    def loadFromDataFrame(self, df):\n",
    "        kv = df.iloc[0].to_dict()\n",
    "        self.__init__(**kv)"
   ],
   "metadata": {
    "collapsed": false,
    "ExecuteTime": {
     "end_time": "2024-05-24T15:25:37.683053400Z",
     "start_time": "2024-05-24T15:25:37.670022400Z"
    }
   },
   "id": "initial_id",
   "execution_count": 109
  },
  {
   "cell_type": "code",
   "outputs": [],
   "source": [
    "def min_max_normalize(data):\n",
    "    min_val = data.min(axis=0)\n",
    "    max_val = data.max(axis=0)\n",
    "    return (data - min_val) * 1_000_000 / (max_val - min_val)\n",
    "\n",
    "def z_score_normalize(data):\n",
    "    mean = data.mean(axis=0)\n",
    "    std = data.std(axis=0)\n",
    "    return (data - mean) / std"
   ],
   "metadata": {
    "collapsed": false,
    "ExecuteTime": {
     "end_time": "2024-05-25T12:04:49.778251900Z",
     "start_time": "2024-05-25T12:04:49.768530500Z"
    }
   },
   "id": "f14639fdef6b4520",
   "execution_count": 5
  },
  {
   "cell_type": "code",
   "outputs": [
    {
     "data": {
      "text/plain": "normal.\nsmurf.              2807886\nneptune.            1072017\nnormal.              972780\nsatan.                15892\nipsweep.              12481\nportsweep.            10413\nnmap.                  2316\nback.                  2203\nwarezclient.           1020\nteardrop.               979\npod.                    264\nguess_passwd.            53\nbuffer_overflow.         30\nland.                    21\nwarezmaster.             20\nimap.                    12\nrootkit.                 10\nloadmodule.               9\nftp_write.                8\nmultihop.                 7\nphf.                      4\nperl.                     3\nspy.                      2\nName: count, dtype: int64"
     },
     "execution_count": 6,
     "metadata": {},
     "output_type": "execute_result"
    }
   ],
   "source": [
    "df = pd.read_csv('kddcup.data.gz')\n",
    "X = df.iloc[:, :-1]\n",
    "y = df.iloc[:, -1]\n",
    "\n",
    "encoder = LabelEncoder()\n",
    "for col in X.select_dtypes(include=['object']).columns:\n",
    "    X[col] = encoder.fit_transform(X[col])\n",
    "\n",
    "X = min_max_normalize(X).dropna(axis=1)\n",
    "# y = y.map(Y_LABELS)\n",
    "y.value_counts()"
   ],
   "metadata": {
    "collapsed": false,
    "ExecuteTime": {
     "end_time": "2024-05-25T12:05:12.550095500Z",
     "start_time": "2024-05-25T12:04:51.372435500Z"
    }
   },
   "id": "293d561002644295",
   "execution_count": 6
  },
  {
   "cell_type": "code",
   "outputs": [],
   "source": [
    "X_train = X.iloc[:X.shape[0] * 4 // 5, :].reset_index(drop=True)\n",
    "y_train = y.iloc[:y.shape[0] * 4 // 5].reset_index(drop=True)"
   ],
   "metadata": {
    "collapsed": false,
    "ExecuteTime": {
     "end_time": "2024-05-24T15:25:57.326506100Z",
     "start_time": "2024-05-24T15:25:56.442229300Z"
    }
   },
   "id": "7b1c7b234e605217",
   "execution_count": 112
  },
  {
   "cell_type": "code",
   "outputs": [
    {
     "name": "stdout",
     "output_type": "stream",
     "text": [
      "[[ 766475      27       0    1101   19600]\n",
      " [      0       0 1901937       0       0]\n",
      " [      0       0       0       0   18368]\n",
      " [  13098       0       0       0       0]\n",
      " [      0       0  344595       0       0]\n",
      " [      0       8       0       0       0]\n",
      " [    537       0  852974       0       0]\n",
      " [      0       0       0      24       0]]\n",
      "[[ 701947      17       0       0       0]\n",
      " [      0       0 2236285       0       0]\n",
      " [   6696       0       0       0       0]\n",
      " [  64917       0       0       0   34918]\n",
      " [      0       0    7294       0       0]\n",
      " [      0      18       0       0       0]\n",
      " [      0       0       0       0    3050]\n",
      " [   6550       0  855927    1125       0]]\n",
      "[[ 660329       0       0       0       0]\n",
      " [      0       0 2246400       0       0]\n",
      " [  45362       0       0       0   37968]\n",
      " [  58353       0       0    1125       0]\n",
      " [   3461       0       0       0       0]\n",
      " [  12511      35       0       0       0]\n",
      " [      0       0     433       0       0]\n",
      " [     94       0  852673       0       0]]\n",
      "[[ 602824       0       0       0       0]\n",
      " [      0       0 2243746       0       0]\n",
      " [  45548       0       0       0   37968]\n",
      " [  46442       0       0       0       0]\n",
      " [  10277       0       0    1125       0]\n",
      " [  74949      35       0       0       0]\n",
      " [      0       0    3112       0       0]\n",
      " [     70       0  852648       0       0]]\n",
      "[[ 495996       0       0       0       0]\n",
      " [      0       0 2242612       0       0]\n",
      " [  45546       0       0       0   37968]\n",
      " [  42138       0       0       0       0]\n",
      " [  18631       0  856894    1125       0]\n",
      " [ 101164      35       0       0       0]\n",
      " [  76567       0       0       0       0]\n",
      " [     68       0       0       0       0]]\n",
      "[[ 495094       0       0       0       0]\n",
      " [      0       0 2243806       0       0]\n",
      " [  45548       0       0       0   37968]\n",
      " [  47870       0       0    1119       0]\n",
      " [      0       0       0       6       0]\n",
      " [ 114554      35       0       0       0]\n",
      " [  76762       0       0       0       0]\n",
      " [    282       0  855700       0       0]]\n",
      "[[ 492898       0       0       0       0]\n",
      " [      0       0 2245952       0       0]\n",
      " [  45548       0       0       0   37968]\n",
      " [  48697       0       0    1119       0]\n",
      " [    167       0  853554       0       0]\n",
      " [ 116596      35       0       0       0]\n",
      " [  76204       0       0       0       0]\n",
      " [      0       0       0       6       0]]\n",
      "[[ 492462       0       0       0       0]\n",
      " [      0       0 2245956       0       0]\n",
      " [  45551       0       0       0   37968]\n",
      " [  49052       0       0    1119       0]\n",
      " [      0       0       0       6       0]\n",
      " [ 117030      35       0       0       0]\n",
      " [  75848       0       0       0       0]\n",
      " [    167       0  853550       0       0]]\n",
      "[[ 492357       0       0       0       0]\n",
      " [      0       0 2245956       0       0]\n",
      " [  45551       0       0       0   37968]\n",
      " [  49265       0       0    1119       0]\n",
      " [    166       0  853550       0       0]\n",
      " [ 117135      35       0       0       0]\n",
      " [  75636       0       0       0       0]\n",
      " [      0       0       0       6       0]]\n",
      "[[ 492330       0       0       0       0]\n",
      " [      0       0 2245956       0       0]\n",
      " [  45552       0       0       0   37968]\n",
      " [  49402       0       0    1119       0]\n",
      " [      0       0       0       6       0]\n",
      " [ 117162      35       0       0       0]\n",
      " [  75498       0       0       0       0]\n",
      " [    166       0  853550       0       0]]\n"
     ]
    }
   ],
   "source": [
    "model = Cluster(\n",
    "    n_clusters=12, max_iter=10, \n",
    "    eps=1e-6, distance='euclidean', \n",
    "    random_state=36,\n",
    ")\n",
    "model.fit(X_train.to_numpy(), y_train)"
   ],
   "metadata": {
    "collapsed": false,
    "ExecuteTime": {
     "end_time": "2024-05-24T15:47:40.654370600Z",
     "start_time": "2024-05-24T15:25:57.325498600Z"
    }
   },
   "id": "5bef22b51d7a025f",
   "execution_count": 113
  },
  {
   "cell_type": "code",
   "outputs": [],
   "source": [
    "X_test = X.iloc[X.shape[0] * 4 // 5:, :].reset_index(drop=True)\n",
    "y_test = y.iloc[y.shape[0] * 4 // 5:].reset_index(drop=True)"
   ],
   "metadata": {
    "collapsed": false,
    "ExecuteTime": {
     "end_time": "2024-05-24T15:47:40.808045500Z",
     "start_time": "2024-05-24T15:47:40.655408Z"
    }
   },
   "id": "fff46012b0ba7931",
   "execution_count": 114
  },
  {
   "cell_type": "code",
   "outputs": [],
   "source": [
    "# pred = model.predict(X_test.to_numpy())\n",
    "# print(np.mean(pred == y_test.to_numpy()))\n",
    "# pred"
   ],
   "metadata": {
    "collapsed": false,
    "ExecuteTime": {
     "end_time": "2024-05-24T15:47:40.814325500Z",
     "start_time": "2024-05-24T15:47:40.809092100Z"
    }
   },
   "id": "f98981fe19b5d3e8",
   "execution_count": 115
  },
  {
   "cell_type": "code",
   "outputs": [
    {
     "name": "stdout",
     "output_type": "stream",
     "text": [
      "0.7871328160247263\n"
     ]
    }
   ],
   "source": [
    "score = model.score(X_test.to_numpy(), y_test)\n",
    "print(score)\n",
    "model.saveModel()\n",
    "# print(X_test.shape[0])\n",
    "# pred"
   ],
   "metadata": {
    "collapsed": false,
    "ExecuteTime": {
     "end_time": "2024-05-24T15:48:06.572134700Z",
     "start_time": "2024-05-24T15:47:40.812260500Z"
    }
   },
   "id": "5a229f6701cc6b83",
   "execution_count": 116
  },
  {
   "cell_type": "code",
   "outputs": [],
   "source": [
    "# model_test = Cluster()\n",
    "# model_test.loadModel(version=11)\n",
    "# model_test.score(X_test.to_numpy(), y_test)\n",
    "# pred = model_test.predict(X_test.to_numpy())\n",
    "# pred"
   ],
   "metadata": {
    "collapsed": false,
    "ExecuteTime": {
     "end_time": "2024-05-24T15:48:06.575742500Z",
     "start_time": "2024-05-24T15:48:06.573165Z"
    }
   },
   "id": "927a9a5da3c6e9a3",
   "execution_count": 117
  }
 ],
 "metadata": {
  "kernelspec": {
   "display_name": "Python 3",
   "language": "python",
   "name": "python3"
  },
  "language_info": {
   "codemirror_mode": {
    "name": "ipython",
    "version": 2
   },
   "file_extension": ".py",
   "mimetype": "text/x-python",
   "name": "python",
   "nbconvert_exporter": "python",
   "pygments_lexer": "ipython2",
   "version": "2.7.6"
  }
 },
 "nbformat": 4,
 "nbformat_minor": 5
}
