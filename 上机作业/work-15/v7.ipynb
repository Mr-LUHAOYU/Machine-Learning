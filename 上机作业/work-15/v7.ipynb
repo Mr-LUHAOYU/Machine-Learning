{
 "cells": [
  {
   "cell_type": "code",
   "outputs": [],
   "source": [
    "from IPython.core.interactiveshell import InteractiveShell\n",
    "InteractiveShell.ast_node_interactivity = 'all'\n",
    "\n",
    "import numpy as np\n",
    "import pandas as pd\n"
   ],
   "metadata": {
    "collapsed": false,
    "ExecuteTime": {
     "end_time": "2024-05-23T03:38:28.973578100Z",
     "start_time": "2024-05-23T03:38:28.911981500Z"
    }
   },
   "id": "2460de542d03e100",
   "execution_count": 12
  },
  {
   "cell_type": "code",
   "outputs": [],
   "source": [
    "Y_LABELS = {\n",
    "    'normal.': 'Normal',\n",
    "    \n",
    "    'back.': 'DoS',\n",
    "    'land.': 'DoS',\n",
    "    'neptune.': 'DoS',\n",
    "    'pod.': 'DoS',\n",
    "    'smurf.': 'DoS',\n",
    "    'teardrop.': 'DoS',\n",
    "    \n",
    "    'ipsweep.': 'Probe',\n",
    "    'nmap.': 'Probe',\n",
    "    'portsweep.': 'Probe',\n",
    "    'satan.': 'Probe',\n",
    "    \n",
    "    'ftp_write.': 'R2L',\n",
    "    'guess_passwd.': 'R2L',\n",
    "    'imap.': 'R2L',\n",
    "    'multihop.': 'R2L',\n",
    "    'phf.': 'R2L',\n",
    "    'spy.': 'R2L',\n",
    "    'warezclient.': 'R2L',\n",
    "    'warezmaster.': 'R2L',\n",
    "    \n",
    "    'buffer_overflow.': 'U2R',\n",
    "    'loadmodule.': 'U2R',\n",
    "    'perl.': 'U2R',\n",
    "    'rootkit.': 'U2R'\n",
    "}"
   ],
   "metadata": {
    "collapsed": false,
    "ExecuteTime": {
     "end_time": "2024-05-23T03:38:29.009491900Z",
     "start_time": "2024-05-23T03:38:28.979298600Z"
    }
   },
   "id": "1a0ec181d63f9b27",
   "execution_count": 13
  },
  {
   "cell_type": "code",
   "outputs": [],
   "source": [
    "class LabelEncoder(object):\n",
    "    def __init__(self):\n",
    "        self.mapping = {}\n",
    "        self.inverse_mapping = {}\n",
    "\n",
    "    def fit(self, data):\n",
    "        unique_values = np.unique(data)\n",
    "        for i, value in enumerate(unique_values):\n",
    "            self.mapping[value] = i\n",
    "            self.inverse_mapping[i] = value\n",
    "\n",
    "    def transform(self, data):\n",
    "        return np.array([self.mapping[value] for value in data])\n",
    "\n",
    "    def fit_transform(self, data):\n",
    "        self.fit(data)\n",
    "        return self.transform(data)\n",
    "\n",
    "    def inverse_transform(self, data):\n",
    "        return np.array([self.inverse_mapping[value] for value in data])"
   ],
   "metadata": {
    "collapsed": false,
    "ExecuteTime": {
     "end_time": "2024-05-23T03:38:29.024322200Z",
     "start_time": "2024-05-23T03:38:29.013205400Z"
    }
   },
   "id": "23cf61a7cfd70dbb",
   "execution_count": 14
  },
  {
   "cell_type": "code",
   "outputs": [],
   "source": [
    "class Cluster(object):\n",
    "    def __init__(\n",
    "            self, \n",
    "            n_clusters=4, \n",
    "            max_iter=10, \n",
    "            eps=1e-6, \n",
    "            distance='euclidean'\n",
    "    ):\n",
    "        self.n_clusters = n_clusters\n",
    "        self.max_iter = max_iter\n",
    "        self.eps = eps\n",
    "        self.distance = {\n",
    "            'euclidean': self.euclidean,\n",
    "        }[distance]\n",
    "    \n",
    "    def fit(self, X: pd.DataFrame, y):\n",
    "        Mu = X.sample(n=self.n_clusters, replace=False)\n",
    "        for _ in range(self.max_iter):\n",
    "            Mu_copy = Mu.copy()\n",
    "            \n",
    "            C = pd.DataFrame({\n",
    "                'index': [np.array([]) for _ in range(self.n_clusters)], \n",
    "                'label': [set() for _ in range(self.n_clusters)]\n",
    "            })\n",
    "            \n",
    "            for i in X.index:\n",
    "                dist = np.array([\n",
    "                    self.distance(X.iloc[i], mu) for mu in Mu.values\n",
    "                ])\n",
    "                for _ in range(self.n_clusters):\n",
    "                    r = np.argmin(dist)\n",
    "                    if not self.violated(y.iloc[i], r, C['label']):\n",
    "                        C['index'][r] = np.append(C['index'][r], i)\n",
    "                        C['label'][r].add(y.iloc[i])\n",
    "                        break\n",
    "                    else:\n",
    "                        dist[r] = np.inf\n",
    "            for j in range(self.n_clusters):\n",
    "                Mu.iloc[j] = X.iloc[C['index'][j]].mean()\n",
    "            if np.all(np.abs(Mu_copy.values - Mu.values) < self.eps):\n",
    "                break\n",
    "            C['label']\n",
    "        \n",
    "        self.C = pd.DataFrame({\n",
    "            'Mu': Mu, \n",
    "            'label': [list(label)[0] for label in C['label']]\n",
    "        })\n",
    "        \n",
    "        \n",
    "    def predict(self, X: pd.DataFrame):\n",
    "        y_pred = np.array([\n",
    "            self.C.at[[\n",
    "                np.argmin(\n",
    "                    [self.distance(x, mu) \n",
    "                    for mu in self.C['Mu'].itertuples(index=False)]\n",
    "                )\n",
    "            ],'label']\n",
    "            for x in X.itertuples(index=False)\n",
    "        ])\n",
    "        return y_pred\n",
    "    \n",
    "    def fit_predict(self, X, y):\n",
    "        self.fit(X, y)\n",
    "        return self.predict(X)\n",
    "    \n",
    "    def score(self, X, y):\n",
    "        y_pred = self.predict(X)\n",
    "        return np.mean(y_pred == y)\n",
    "        \n",
    "    @staticmethod\n",
    "    def euclidean(a, b):\n",
    "        return np.linalg.norm(a - b)\n",
    "    \n",
    "    def violated(self, i_label, r, labels):\n",
    "        if labels[r]:\n",
    "            if i_label not in labels[r]:\n",
    "                return True\n",
    "            else:\n",
    "                ...\n",
    "        else:\n",
    "            for j in range(self.n_clusters):\n",
    "                if i_label in labels[j]:\n",
    "                    return True\n",
    "        return False\n",
    "    \n",
    "    def saveModel(self):\n",
    "        with open('Models/version', 'r') as f:\n",
    "            version = int(f.read())\n",
    "        with open(f'Models/cluster_{version}.csv', 'w') as f:\n",
    "            f.write(f'{self.n_clusters}\\n')\n",
    "            f.write(f'{self.max_iter}\\n')\n",
    "            f.write(f'{self.eps}\\n')\n",
    "            f.write(f'{self.distance}\\n')\n",
    "            "
   ],
   "metadata": {
    "collapsed": false,
    "ExecuteTime": {
     "end_time": "2024-05-23T03:38:29.038129200Z",
     "start_time": "2024-05-23T03:38:29.026403400Z"
    }
   },
   "id": "initial_id",
   "execution_count": 15
  },
  {
   "cell_type": "code",
   "outputs": [],
   "source": [
    "def min_max_normalize(data):\n",
    "    min_val = data.min(axis=0)\n",
    "    max_val = data.max(axis=0)\n",
    "    return (data - min_val) / (max_val - min_val)\n",
    "\n",
    "def z_score_normalize(data):\n",
    "    mean = data.mean(axis=0)\n",
    "    std = data.std(axis=0)\n",
    "    return (data - mean) / std"
   ],
   "metadata": {
    "collapsed": false,
    "ExecuteTime": {
     "end_time": "2024-05-23T03:38:29.060908Z",
     "start_time": "2024-05-23T03:38:29.035409600Z"
    }
   },
   "id": "f14639fdef6b4520",
   "execution_count": 16
  },
  {
   "cell_type": "code",
   "outputs": [],
   "source": [
    "df = pd.read_csv('kddcup.data.gz')\n",
    "X = df.iloc[:, :-1]\n",
    "y = df.iloc[:, -1]\n",
    "\n",
    "string_columns = X.select_dtypes(include=['object']).columns\n",
    "encoder = LabelEncoder()\n",
    "for col in string_columns:\n",
    "    X[col] = encoder.fit_transform(X[col])\n",
    "\n",
    "X = min_max_normalize(X).dropna(axis=1)\n",
    "y = y.map(Y_LABELS)"
   ],
   "metadata": {
    "collapsed": false,
    "ExecuteTime": {
     "end_time": "2024-05-23T03:38:47.372358Z",
     "start_time": "2024-05-23T03:38:29.040706200Z"
    }
   },
   "id": "293d561002644295",
   "execution_count": 17
  },
  {
   "cell_type": "code",
   "outputs": [
    {
     "data": {
      "text/plain": "normal.\nDoS       2689737\nNormal     771198\nProbe       36785\nR2L          1125\nU2R            33\nName: count, dtype: int64"
     },
     "execution_count": 18,
     "metadata": {},
     "output_type": "execute_result"
    }
   ],
   "source": [
    "X_train = X.iloc[:X.shape[0] * 5 // 7, :].reset_index(drop=True)\n",
    "y_train = y.iloc[:y.shape[0] * 5 // 7].reset_index(drop=True)\n",
    "y_train.value_counts()"
   ],
   "metadata": {
    "collapsed": false,
    "ExecuteTime": {
     "end_time": "2024-05-23T03:38:48.037534200Z",
     "start_time": "2024-05-23T03:38:47.373398500Z"
    }
   },
   "id": "7b1c7b234e605217",
   "execution_count": 18
  },
  {
   "cell_type": "code",
   "outputs": [
    {
     "data": {
      "text/plain": "RangeIndex(start=0, stop=3498878, step=1)"
     },
     "execution_count": 19,
     "metadata": {},
     "output_type": "execute_result"
    },
    {
     "data": {
      "text/plain": "(3498878, 40)"
     },
     "execution_count": 19,
     "metadata": {},
     "output_type": "execute_result"
    }
   ],
   "source": [
    "X_train.index\n",
    "X_train.shape"
   ],
   "metadata": {
    "collapsed": false,
    "ExecuteTime": {
     "end_time": "2024-05-23T03:38:48.038541200Z",
     "start_time": "2024-05-23T03:38:48.033736400Z"
    }
   },
   "id": "243c7b8fb6e24ee0",
   "execution_count": 19
  },
  {
   "cell_type": "code",
   "outputs": [
    {
     "name": "stderr",
     "output_type": "stream",
     "text": [
      "\n",
      "KeyboardInterrupt\n",
      "\n"
     ]
    }
   ],
   "source": [
    "model = Cluster(n_clusters=2, max_iter=10, eps=1e-6, distance='euclidean')\n",
    "model.fit(X_train, y_train)"
   ],
   "metadata": {
    "collapsed": false,
    "ExecuteTime": {
     "end_time": "2024-05-23T03:51:22.208230300Z",
     "start_time": "2024-05-23T03:38:48.037534200Z"
    }
   },
   "id": "5bef22b51d7a025f",
   "execution_count": 20
  },
  {
   "cell_type": "code",
   "outputs": [],
   "source": [
    "X_test = X.iloc[X.shape[0] * 5 // 7:, :].reset_index(drop=True)\n",
    "y_test = y.iloc[y.shape[0] * 5 // 7:].reset_index(drop=True)"
   ],
   "metadata": {
    "collapsed": false,
    "ExecuteTime": {
     "end_time": "2024-05-23T03:51:22.211599400Z",
     "start_time": "2024-05-23T03:51:22.210599200Z"
    }
   },
   "id": "fff46012b0ba7931",
   "execution_count": null
  },
  {
   "cell_type": "code",
   "outputs": [],
   "source": [
    "pred = model.predict(X_test)\n",
    "print(sum(pred == y_test))\n",
    "print(X_test.shape[0])\n",
    "pred"
   ],
   "metadata": {
    "collapsed": false,
    "ExecuteTime": {
     "end_time": "2024-05-23T03:51:22.212599400Z",
     "start_time": "2024-05-23T03:51:22.211599400Z"
    }
   },
   "id": "5a229f6701cc6b83",
   "execution_count": null
  },
  {
   "cell_type": "code",
   "outputs": [],
   "source": [
    "print(model.label)\n",
    "print(model.Mu)"
   ],
   "metadata": {
    "collapsed": false,
    "ExecuteTime": {
     "start_time": "2024-05-23T03:51:22.212599400Z"
    }
   },
   "id": "c53cc984506208d5",
   "execution_count": null
  },
  {
   "cell_type": "code",
   "outputs": [],
   "source": [
    "# pred\n",
    "# # pred = np.array(list(p) for p in pred)\n",
    "# pred = np.array([list(p)[0] if len(p) == 1 else 'DoS' for p in pred])\n",
    "# print(sum(pred == y_test.to_numpy()))"
   ],
   "metadata": {
    "collapsed": false,
    "ExecuteTime": {
     "end_time": "2024-05-23T03:51:22.217943500Z",
     "start_time": "2024-05-23T03:51:22.214600Z"
    }
   },
   "id": "7beab47e2fdb7c7",
   "execution_count": null
  },
  {
   "cell_type": "code",
   "outputs": [],
   "source": [
    "# YY_test = y_test.iloc[:, 0].map({\n",
    "#     'Probe': 0,\n",
    "#     'R2L': 1,\n",
    "#     'DoS': 2,\n",
    "#     'Normal': 3\n",
    "# })\n",
    "# print(sum(pred == YY_test))"
   ],
   "metadata": {
    "collapsed": false,
    "ExecuteTime": {
     "start_time": "2024-05-23T03:51:22.215600400Z"
    }
   },
   "id": "4808e609545693c3",
   "execution_count": null
  },
  {
   "cell_type": "code",
   "outputs": [],
   "source": [],
   "metadata": {
    "collapsed": false,
    "ExecuteTime": {
     "start_time": "2024-05-23T03:51:22.216600600Z"
    }
   },
   "id": "2d08d95356dbb41a",
   "execution_count": null
  }
 ],
 "metadata": {
  "kernelspec": {
   "display_name": "Python 3",
   "language": "python",
   "name": "python3"
  },
  "language_info": {
   "codemirror_mode": {
    "name": "ipython",
    "version": 2
   },
   "file_extension": ".py",
   "mimetype": "text/x-python",
   "name": "python",
   "nbconvert_exporter": "python",
   "pygments_lexer": "ipython2",
   "version": "2.7.6"
  }
 },
 "nbformat": 4,
 "nbformat_minor": 5
}
