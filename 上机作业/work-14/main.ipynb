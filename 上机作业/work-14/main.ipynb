{
 "cells": [
  {
   "cell_type": "markdown",
   "metadata": {},
   "source": [
    "# 上机实验12：贝叶斯分类"
   ]
  },
  {
   "cell_type": "markdown",
   "metadata": {},
   "source": [
    "## 任务1：贝叶斯定理"
   ]
  },
  {
   "cell_type": "markdown",
   "metadata": {},
   "source": [
    "给定如下的队伍信息\n",
    "- 队0获胜的概率prob_win_0 = 0.65\n",
    "- 队1获胜时队1是主场的概率prob_win_1_home_1 = 0.75\n",
    "- 队0获胜时队1是主场的概率prob_win_0_home_1 = 0.3\n",
    ">  请计算：队1在客场取胜的概率p(Y=1|X=0)，即prob_win_1_home_0，小数点保留三位。"
   ]
  },
  {
   "cell_type": "markdown",
   "metadata": {},
   "source": [
    "> 待完善代码"
   ]
  },
  {
   "cell_type": "code",
   "execution_count": null,
   "metadata": {
    "collapsed": false,
    "jupyter": {
     "outputs_hidden": false
    },
    "scrolled": true
   },
   "outputs": [],
   "source": [
    "## 变量默认值代码\n",
    "prob_win_0 = 0.65\n",
    "prob_win_1_home_1 = 0.75\n",
    "prob_win_0_home_1 = 0.3\n",
    "\n",
    "## 计算队1获胜的概率prob_win_1\n",
    "prob_win_1 = ___________\n",
    "\n",
    "## 计算队1取胜时队0是东道主的概率\n",
    "prob_win_1_home_0 = ___________\n",
    "\n",
    "## 计算队0取胜时队0是东道主的概率\n",
    "prob_win_0_home_0 = ___________\n",
    "\n",
    "## 计算队0是东道主的概率\n",
    "prob_home_0 = ___________\n",
    "    \n",
    "## 队1在客场取胜的概率\n",
    "prob_win_1_home_0 = ___________\n",
    "print(prob_win_1_home_0)"
   ]
  },
  {
   "cell_type": "markdown",
   "metadata": {},
   "source": [
    "> 预期输出\n",
    "\n",
    "0.161"
   ]
  },
  {
   "cell_type": "markdown",
   "metadata": {},
   "source": [
    "## 使用朴素贝叶斯进行文本分类\n",
    "\n",
    "下面三个任务是使用朴素贝叶斯分类器进行垃圾邮件的预测，在此之前需要了解使用朴素贝叶斯进行文本分类要考虑的三个问题：\n",
    "\n",
    "![](https://ai-studio-static-online.cdn.bcebos.com/78572efcb8cf4f06b760c8dc7c4bb62327030b4f4fc5487bb324964916e8da30)\n"
   ]
  },
  {
   "cell_type": "markdown",
   "metadata": {},
   "source": [
    "## 任务2：邮件文本向量化"
   ]
  },
  {
   "cell_type": "markdown",
   "metadata": {},
   "source": [
    "给定经过分词处理后的正常邮件和垃圾邮件各25封，对邮件内容分词后形成了词库列表vocab，存储到vocab_list.txt中。\n",
    "- 请自定义函数createVec(vocab, mail_text)，输入词库列表vocab和单个分词后的邮件内容列表mail_text，输出参数为向量化文本列表mail_vec和邮件单词在词库列表vocab中的位置列表matchIndex。该自定义函数的作用是，将mail_text向量化，维度为vocab中的单词总和。比如，mail_text中含有vocab中的单词b，mail_vec的维度b的取值即为1，而matchIndex中记录单词b在vocab中的位置。\n",
    "- 给定测试邮件内容列表test_mail，使用自定义函数createVec(vocab, mail_text)返回向量化文本列表test_mail_vec。\n",
    "\n",
    "> 给定数据的格式如下：vocab = ['am', 'hacker', 'machine',...]"
   ]
  },
  {
   "cell_type": "markdown",
   "metadata": {},
   "source": [
    "> 待补全代码"
   ]
  },
  {
   "cell_type": "code",
   "execution_count": null,
   "metadata": {
    "collapsed": false,
    "jupyter": {
     "outputs_hidden": false
    },
    "scrolled": true
   },
   "outputs": [],
   "source": [
    "import pandas as pd\n",
    "import numpy as np\n",
    "from numpy import linalg as LA\n",
    "\n",
    "# 读取数据\n",
    "vocab = pd.read_csv('vocab_list.txt', header=None).values.tolist()\n",
    "li = []\n",
    "for i in vocab:\n",
    "    li.append(i[0])\n",
    "vocab = li\n",
    "\n",
    "test_mail = ['hi','peter','jose','town','want','meet','keep','things','going','interesting','stuff','let','know','eugene']\n",
    "\n",
    "\n",
    "def createVector(vocab, mail_text): \n",
    "    \n",
    "    ## 获取vocab的长度\n",
    "    len_vocab = _____________\n",
    "    \n",
    "    ## 零值初始化向量，长度为len_vocab\n",
    "    mail_vec = ______________\n",
    "    \n",
    "    ## 定义一个用来存储匹配单词位置的变量\n",
    "    matchIndex = []\n",
    "\n",
    "    ## 遍历mail_text中的元素\n",
    "    for value in mail_text:\n",
    "        \n",
    "        ## 判断value在vocab中的位置，将mail_vec对应位置上的元素值加1\n",
    "        if value in vocab:\n",
    "            \n",
    "            ## 获取value在vocab中的索引value_index\n",
    "            ______________\n",
    "            \n",
    "            ## mail_vec中value_index位置上的元素赋值为1\n",
    "            ______________\n",
    "\n",
    "            ## matchIndex记录下匹配单词的位置索引index \n",
    "            ______________________\n",
    "        else:\n",
    "            continue\n",
    "    \n",
    "    ## 返回结果\n",
    "    _____________________\n",
    "## 获取test_mail_vec\n",
    "test_mail_vec, matchIndex = _____________________\n",
    "print('该邮件内容的向量化文本为')\n",
    "print(test_mail_vec)\n",
    "print('该邮件内容在词库列表vocab中的位置索引向量为')\n",
    "print(matchIndex)"
   ]
  },
  {
   "cell_type": "markdown",
   "metadata": {},
   "source": [
    "> 预期输出\n",
    "\n",
    "![](https://ai-studio-static-online.cdn.bcebos.com/814761ab3ea9455ba6908f62ec927e6d22715d4ddd8f4e59894de13a9fe4ced2)\n"
   ]
  },
  {
   "cell_type": "markdown",
   "metadata": {},
   "source": [
    "## 任务3：朴素贝叶斯分类器的参数估计\n",
    "\n",
    "从50封邮件中选取各20封正常邮件和垃圾邮件，经过分词处理后，组成邮件训练集列表train_data。已知训练集的标签列表为train_label，词库列表为vocab，令垃圾邮件标记为1，正常邮件标记为0：\n",
    "- 使用createVector函数将train_data中的记录向量化，生成train_matrix；\n",
    "- 自定义函数createNBClassifier(train_matrix, train_label)函数，输出判定所需要的p(xi|c)，以及p(c)；\n",
    "\n",
    "给定数据的格式如下：\n",
    "\n",
    "> train_data = [['I', 'am', 'data', 'hacker'...], ['data', 'mining','machine'],...]\n",
    "> \n",
    "> train_label = [1,0,1,1,...]\n",
    "> \n",
    "> vocab = ['am', 'hacker', 'machine',...]"
   ]
  },
  {
   "cell_type": "markdown",
   "metadata": {},
   "source": [
    "> 待补全代码"
   ]
  },
  {
   "cell_type": "code",
   "execution_count": null,
   "metadata": {
    "collapsed": false,
    "jupyter": {
     "outputs_hidden": false
    },
    "scrolled": true
   },
   "outputs": [],
   "source": [
    "import pandas as pd\n",
    "import numpy as np\n",
    "from numpy import linalg as LA\n",
    "\n",
    "# 数据处理与读取\n",
    "train_data = pd.read_csv('train_data.txt', header=None).values.tolist()\n",
    "#print(train_data)\n",
    "li = []\n",
    "for i in train_data:\n",
    "    li.append(i[0].split(\" \"))\n",
    "train_data = li\n",
    "\n",
    "train_label = pd.read_csv('train_label.txt', header=None).values.tolist()\n",
    "li = []\n",
    "for i in train_label:\n",
    "    li.append(i[0])\n",
    "train_label = li\n",
    "\n",
    "\n",
    "# 使用createVector函数将train_data向量化，结果保存在train_matrix\n",
    "# 请在下方完成代码\n",
    "\n",
    "\n",
    "\n",
    "def createNBClassifier(train_matrix, train_label):\n",
    "    ## 获取训练集的数量num\n",
    "    num = __________\n",
    "\n",
    "    ## 获取train_matrix的维度num_col\n",
    "    num_col = __________\n",
    "\n",
    "    ## 统计c=1下x_{i}出现的频次列表p1_num，形如[num(x_1|c=1), num(x_2|c=1),...]; 同理 c=0\n",
    "    ## 为了防止出现概率为零的情况，我们将所有词出现的频次初始化为1\n",
    "    p1_num = np.ones(num_col)\n",
    "    p0_num = np.ones(num_col)\n",
    "\n",
    "    ## 垃圾邮件和正常邮件分别出现的单词的数量，初始化为0.0  \n",
    "    p1_vec_denom = 0.\n",
    "    p0_vec_denom = 0.\n",
    "\n",
    "    for index in range(num):\n",
    "        if train_label[index] == 1:\n",
    "            ## 单词出现的位置值为1，不出现值为0，因此可以直接相加，累计词频，train_matrix的元素为list，需要转换为ndarray，便于向量直接相加\n",
    "            p1_num = ______________\n",
    "            ## 统计垃圾邮件中的单词数\n",
    "            p1_vec_denom = ______________  \n",
    "        else:\n",
    "            ## 单词出现的位置值为1，不出现值为0，因此可以直接相加，累计词频，train_matrix的元素为list，需要转换为ndarray，便于向量直接相加\n",
    "            p0_num = ______________\n",
    "            ## 统计正常邮件中的单词数\n",
    "            p0_vec_denom = ______________\n",
    "\n",
    "    ## 根据从训练集统计的频次，计算[p(x_i|c=1), p(x_2|c=1)...] [p(x_i)|c=0), p(x_i|c=0),...]\n",
    "    ## 为了防止向下溢出，概率取对数；为了配合初始化值为1的频次，分母+2\n",
    "    p1_vec = ______________\n",
    "    p0_vec = ______________\n",
    "\n",
    "    ## 计算垃圾邮件出现的概率\n",
    "    pc1 = ______________\n",
    "\n",
    "    ## 计算正常邮件出现的概率\n",
    "    pc0 = ______________\n",
    "\n",
    "    ## 返回结果\n",
    "    return p1_vec, p0_vec, pc1, pc0\n",
    "\n",
    "## 使用自定义函数createNBClassifier返回结果p1_vec, p0_vec, pc1, pc0\n",
    "________________\n",
    "\n",
    "print('pc1=',pc1)\n",
    "print('pc0=',pc0)\n",
    "print('p1_vec')\n",
    "print(p1_vec)\n",
    "print('p0_vec')\n",
    "print(p0_vec)"
   ]
  },
  {
   "cell_type": "markdown",
   "metadata": {},
   "source": [
    "> 预期输出（部分截图）\n",
    "\n",
    "![](https://ai-studio-static-online.cdn.bcebos.com/48df39c8b80e4d33a61dd160efcf82e34ea06da2c0c34488ac3e2ed1ddf12558)\n"
   ]
  },
  {
   "cell_type": "markdown",
   "metadata": {},
   "source": [
    "## 任务4：贝叶斯估计用于分类预测"
   ]
  },
  {
   "cell_type": "markdown",
   "metadata": {},
   "source": [
    "将剩余的10封邮件内容进行文本向量化，组成测试集邮件内容列表test_matrix。给定训练集拟合生成的朴素贝叶斯分类模型，返回预测测试集所需要的概率p1_vec，p0_vec，pc1和pc0，以及测试集的真实标签列表test_label。\n",
    "- 自定义函数predict(test_data, p1_vec, p0_vec, pc1, pc0)函数，判断输入的邮件是否为垃圾邮件；\n",
    "- 使用自定义的预测函数predict()，对test_data进行预测，输出预测标签列表pred_label；\n",
    "- 根据pred_label和test_label计算朴素贝叶斯模型的错误率error_rate。\n",
    "\n",
    "给定的数据格式如下：\n",
    "\n",
    "> test_data = [[0,0,0,1,0,0,...], [1,0,0,0,1,0,...]]\n",
    "> \n",
    "> test_label = [0,0,1,1,...]\n",
    "> \n",
    "> p1_vec = np.array([-0.02, -0.003, ...])\n",
    "> \n",
    "> p0_vec = np.array([-0.02, -0.003, ...])\n",
    "> \n",
    "> pc1 = 0.5\n",
    "> \n",
    "> pc0 = 0.5"
   ]
  },
  {
   "cell_type": "markdown",
   "metadata": {},
   "source": [
    "> 前序依赖数据\n",
    "- 用于向量化邮件的词典数据vocab\n",
    "- 前序学习出的类条件分布概率 p1_vec，p0_vec，及类别分布先验 pc1，pc0\n",
    "\n",
    "> 前序代码操作步骤：\n",
    "- 运行任务2中的自定义函数 createVector()\n",
    "- 运行任务3中的自定义函数 createNBClassifier()，获得类条件分布概率 p1_vec，p0_vec，及类别分布先验 pc1，pc0\n"
   ]
  },
  {
   "cell_type": "markdown",
   "metadata": {},
   "source": [
    "> 待补全代码"
   ]
  },
  {
   "cell_type": "code",
   "execution_count": null,
   "metadata": {
    "collapsed": false,
    "jupyter": {
     "outputs_hidden": false
    },
    "scrolled": true
   },
   "outputs": [],
   "source": [
    "## 加载本次实验测试数据\n",
    "test_label = pd.read_csv('test_label.txt', header=None).values.tolist()\n",
    "li = []\n",
    "for i in test_label:\n",
    "    li.append(i[0])\n",
    "test_label = li\n",
    "\n",
    "test_data = pd.read_csv('test_data.txt', header=None).values.tolist()\n",
    "li = []\n",
    "for i in test_data:\n",
    "    li.append(i[0].split(\" \"))\n",
    "test_data = li\n",
    " \n",
    "# 使用createVector函数将test_data向量化，结果保存在test_matrix\n",
    "test_matrix = __________________________\n",
    "# 请在下方完成代码\n",
    "\n",
    "def predict(test_matrix, p1_vec, p0_vec, pc1, pc0):\n",
    "\n",
    "    ## 声明预测标签列表，初始值为0\n",
    "    pred_label = _______________\n",
    "    \n",
    "    ## 遍历测试机中的每一个样本\n",
    "    for index, record in enumerate(test_matrix):\n",
    "        ## 将list转换为ndarray\n",
    "        record_array = np.array(record)\n",
    "        \n",
    "        ## 根据公式 log(p(c|x))正比于 log(p(x_1|c)p(x_2|c)...p(x_k|c)p(c))\n",
    "        ## 计算测试样本属于垃圾邮件的概率\n",
    "        p1 = ________________\n",
    "    \n",
    "        ## 计算测试样本属于正常邮件的概率\n",
    "        p0 = _______________\n",
    "        \n",
    "        ## 确认预测标签\n",
    "        if p1 > p0:\n",
    "            ##将索引为index的测试标签值改为1\n",
    "            pred_label[index] = 1\n",
    "        else:\n",
    "            continue\n",
    "    \n",
    "    ## 返回结果\n",
    "    return pred_label\n",
    "\n",
    "## 使用自定义函数predict预测测试集的标签\n",
    "pred_label = _________________\n",
    "## 获取预测标签与真实标签的差，diff类型为ndarray\n",
    "diff = _______________\n",
    "\n",
    "## 计算错误率\n",
    "error_rate = _________________\n",
    "\n",
    "## 打印错误率\n",
    "print('预测错误率为')\n",
    "print(round(error_rate, 2))\n",
    "print('真实标签为')\n",
    "print(test_label)\n",
    "print('预测标签为')\n",
    "print(pred_label)\n",
    "print('预测标签是否不一致向量')\n",
    "print(diff)"
   ]
  },
  {
   "cell_type": "markdown",
   "metadata": {},
   "source": [
    "> 预期输出\n",
    "\n",
    "![](https://ai-studio-static-online.cdn.bcebos.com/d8343d3ae7a241d1ab842070c121f5ddc941362637e24512967d1edfc766e8a3)\n"
   ]
  }
 ],
 "metadata": {
  "kernelspec": {
   "display_name": "Python 3",
   "language": "python",
   "name": "py35-paddle1.2.0"
  },
  "language_info": {
   "codemirror_mode": {
    "name": "ipython",
    "version": 3
   },
   "file_extension": ".py",
   "mimetype": "text/x-python",
   "name": "python",
   "nbconvert_exporter": "python",
   "pygments_lexer": "ipython3",
   "version": "3.7.4"
  }
 },
 "nbformat": 4,
 "nbformat_minor": 4
}
