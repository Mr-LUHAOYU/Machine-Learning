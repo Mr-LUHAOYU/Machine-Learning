{
 "cells": [
  {
   "cell_type": "markdown",
   "metadata": {},
   "source": [
    "# 任务：构建GBDT与XGBoost回归模型预测波士顿房价"
   ]
  },
  {
   "cell_type": "code",
   "execution_count": 7,
   "metadata": {
    "ExecuteTime": {
     "end_time": "2024-05-20T12:10:26.876341Z",
     "start_time": "2024-05-20T12:10:14.640623100Z"
    },
    "execution": {
     "iopub.execute_input": "2024-05-20T12:29:04.807101Z",
     "iopub.status.busy": "2024-05-20T12:29:04.806445Z",
     "iopub.status.idle": "2024-05-20T12:29:04.818493Z",
     "shell.execute_reply": "2024-05-20T12:29:04.817175Z",
     "shell.execute_reply.started": "2024-05-20T12:29:04.807065Z"
    },
    "scrolled": true,
    "tags": []
   },
   "outputs": [],
   "source": [
    "\n",
    "from sklearn.datasets import load_boston\n",
    "from sklearn.model_selection import train_test_split\n",
    "from sklearn import ensemble\n",
    "from sklearn.metrics import mean_squared_error, r2_score\n",
    " \n",
    " \n",
    "# 加载sklearn自带的波士顿房价数据集\n",
    "dataset = load_boston()\n",
    " \n",
    "# 提取特征数据和目标数据\n",
    "X = dataset.data\n",
    "y = dataset.target\n",
    " \n",
    "# 将数据集以9:1的比例随机分为训练集和测试集，为了重现随机分配设置随机种子，即random_state参数\n",
    "# X_train, X_test, y_train, y_test = ____________________\n",
    "X_train, X_test, y_train, y_test = train_test_split(X, y, test_size=0.1, random_state=13)"
   ]
  },
  {
   "cell_type": "code",
   "execution_count": 8,
   "metadata": {
    "ExecuteTime": {
     "start_time": "2024-05-20T12:10:26.875336600Z"
    },
    "execution": {
     "iopub.execute_input": "2024-05-20T12:29:04.821379Z",
     "iopub.status.busy": "2024-05-20T12:29:04.820331Z",
     "iopub.status.idle": "2024-05-20T12:29:10.892133Z",
     "shell.execute_reply": "2024-05-20T12:29:10.890871Z",
     "shell.execute_reply.started": "2024-05-20T12:29:04.821307Z"
    },
    "scrolled": true,
    "tags": []
   },
   "outputs": [
    {
     "name": "stdout",
     "output_type": "stream",
     "text": [
      "[2.11994480e-02 2.30118138e-04 2.50900265e-03 3.76128570e-04\r\n",
      " 2.98635942e-02 4.75097945e-01 8.58320121e-03 8.62155693e-02\r\n",
      " 1.89694240e-03 1.69920928e-02 2.64336967e-02 1.54661921e-02\r\n",
      " 3.15136069e-01]\r\n",
      "Mean squared error: 11.55\r\n",
      "Coefficient of determination: 0.88\r\n",
      "[0.01858689 0.00333837 0.01090753 0.01258292 0.05032131 0.35306114\r\n",
      " 0.01207663 0.06285112 0.00809404 0.02334753 0.02701837 0.01622056\r\n",
      " 0.40159371]\r\n",
      "Mean squared error: 11.49\r\n",
      "Coefficient of determination: 0.88\r\n"
     ]
    }
   ],
   "source": [
    "# 实例化GBDT回归模型\n",
    "# 可以调整参数，比较模型\n",
    "params = {'n_estimators': 500, 'max_depth': 4, 'min_samples_split': 2,\n",
    "          'learning_rate': 0.01, 'loss': 'ls'}\n",
    "# gbr = ____________________\n",
    "gbr = ensemble.GradientBoostingRegressor(**params)\n",
    "# GBDT回归模型拟合训练数据\n",
    "# ____________________\n",
    "gbr.fit(X_train, y_train)\n",
    "# 训练好的GBDT回归模型对测试数据进行预测\n",
    "# y_pred = ____________________\n",
    "y_pred = gbr.predict(X_test)\n",
    "# 输出特征重要性列表\n",
    "print(gbr.feature_importances_)\n",
    "# 输出模型的均方误差与R方分数\n",
    "# ____________________\n",
    "# ____________________\n",
    "print('Mean squared error: %.2f' % mean_squared_error(y_test, y_pred))\n",
    "print('Coefficient of determination: %.2f' % r2_score(y_test, y_pred))\n",
    "# 利用Scikit中xgboost构建XGBoost回归模型预测波士顿房价，与GBDT比较性能\n",
    "# 请在下方补充\n",
    "# ____________________\n",
    "import xgboost as xgb\n",
    "# 实例化XGBoost回归模型\n",
    "xgb_reg = xgb.XGBRegressor(max_depth=4, n_estimators=500, learning_rate=0.01, n_jobs=10)\n",
    "xgb_reg.fit(X_train, y_train)\n",
    "y_pred = xgb_reg.predict(X_test)\n",
    "print(xgb_reg.feature_importances_)\n",
    "print('Mean squared error: %.2f' % mean_squared_error(y_test, y_pred))\n",
    "print('Coefficient of determination: %.2f' % r2_score(y_test, y_pred))"
   ]
  },
  {
   "cell_type": "code",
   "execution_count": null,
   "metadata": {
    "scrolled": true
   },
   "outputs": [],
   "source": []
  }
 ],
 "metadata": {
  "kernelspec": {
   "display_name": "Python 3",
   "language": "python",
   "name": "py35-paddle1.2.0"
  },
  "language_info": {
   "codemirror_mode": {
    "name": "ipython",
    "version": 3
   },
   "file_extension": ".py",
   "mimetype": "text/x-python",
   "name": "python",
   "nbconvert_exporter": "python",
   "pygments_lexer": "ipython3",
   "version": "3.7.4"
  }
 },
 "nbformat": 4,
 "nbformat_minor": 4
}
