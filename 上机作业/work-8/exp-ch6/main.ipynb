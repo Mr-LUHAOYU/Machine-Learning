{
 "cells": [
  {
   "cell_type": "markdown",
   "metadata": {},
   "source": [
    "# 上机实验10--支持向量机\n",
    "\n",
    "## 任务1：sklearn中的SVC与惩罚系数C\n",
    "\n",
    "- 提供一份糖尿病患者数据集diabetes.csv，该数据集有768个数据样本，9个特征(最后一列为目标特征数据)，并且已经存入变量data。特征的具体信息如下：\n",
    "\n",
    "| 特征名称| \t特征含义| \t取值举例| \n",
    "| -------- | -------- | -------- |\n",
    "| feature1| \t怀孕次数| \t6| \n",
    "| feature2| \t2小时口服葡萄糖耐受实验中的血浆葡萄浓度| \t148| \n",
    "| feature3| \t舒张压 (mm Hg)| \t72| \n",
    "| feature4| \t三头肌皮褶厚度(mm)| \t35| \n",
    "| feature5| \t2小时血清胰岛素浓度 (mu U/ml)| \t0| \n",
    "| feature6| \t体重指数(weight in kg/(height in m)^2)| \t33.6| \n",
    "| feature7| \t糖尿病谱系功能(Diabetes pedigree function)| \t0.627| \n",
    "| feature8| \t年龄| \t50| \n",
    "| class| \t是否患有糖尿病| \t1：阳性；0：阴性| "
   ]
  },
  {
   "cell_type": "markdown",
   "metadata": {},
   "source": [
    "主要任务如下：\n",
    "- 请先将数据使用sklearn中的StandardScaler进行标准化；\n",
    "- 然后使用sklearn中的svm.SVC支持向量分类器，构建支持向量机模型（所有参数使用默认参数），对测试集进行预测，将预测结果存为pred_y，并对模型进行评价；\n",
    "- 最后新建一个svm.SVC实例clf_new，并设置惩罚系数C=0.3，并利用该支持向量分类器对测试集进行预测，将预测结果存为pred_y_new，并比较两个模型的预测效果。"
   ]
  },
  {
   "cell_type": "markdown",
   "metadata": {},
   "source": [
    "> 待补全代码"
   ]
  },
  {
   "cell_type": "code",
   "execution_count": 1,
   "metadata": {
    "scrolled": true
   },
   "outputs": [
    {
     "name": "stdout",
     "output_type": "stream",
     "text": [
      "[187 180]\n",
      "              precision    recall  f1-score   support\n",
      "\n",
      "           0       0.82      0.90      0.86       107\n",
      "           1       0.70      0.55      0.62        47\n",
      "\n",
      "    accuracy                           0.79       154\n",
      "   macro avg       0.76      0.73      0.74       154\n",
      "weighted avg       0.78      0.79      0.78       154\n",
      "\n",
      "[197 196]\n",
      "              precision    recall  f1-score   support\n",
      "\n",
      "           0       0.83      0.92      0.87       107\n",
      "           1       0.75      0.57      0.65        47\n",
      "\n",
      "    accuracy                           0.81       154\n",
      "   macro avg       0.79      0.75      0.76       154\n",
      "weighted avg       0.81      0.81      0.80       154\n",
      "\n"
     ]
    }
   ],
   "source": [
    "import pandas as pd\n",
    "from sklearn.model_selection import train_test_split\n",
    "from sklearn.preprocessing import StandardScaler\n",
    "from sklearn.metrics import classification_report\n",
    "from sklearn.svm import SVC\n",
    "\n",
    "# 读取数据\n",
    "data = pd.read_csv('diabetes.csv')\n",
    "\n",
    "# 请在下方作答 #\n",
    "# 将目标特征与其他特征分离\n",
    "X = data.drop('class', axis = 1)\n",
    "y = data['class']\n",
    "\n",
    "# 划分训练集train_X, train_y和测试集train_X, train_y\n",
    "train_X, test_X, train_y, test_y = train_test_split(X, y, test_size = .2, random_state = 0)\n",
    "\n",
    "# 训练集标准化，返回结果为scaled_train_X\n",
    "scaler = StandardScaler()\n",
    "scaler.fit(train_X)\n",
    "scaled_train_X = scaler.transform(train_X)\n",
    "\n",
    "# 构建支持向量机模型\n",
    "clf = SVC(C = 1.0, kernel = 'rbf', gamma = 'auto', random_state = 0)\n",
    "\n",
    "# 模型训练\n",
    "clf.fit(scaled_train_X, train_y)\n",
    "\n",
    "# 测试集标准化\n",
    "scaled_test_X = scaler.transform(test_X)\n",
    "\n",
    "# 使用模型返回预测值\n",
    "pred_y = clf.predict(scaled_test_X)\n",
    "\n",
    "# 打印支持向量的个数，返回结果为列表，[-1标签的支持向量，+1标签的支持向量]\n",
    "print(clf.n_support_)\n",
    "\n",
    "# 使用classification_report函数进行模型评价\n",
    "print(classification_report(test_y, pred_y))\n",
    "\n",
    "# 构建惩罚系数C为0.3的模型，并与之前的模型做比较\n",
    "clf_new = SVC(C = 0.3, kernel = 'rbf', gamma = 'auto', random_state = 0)\n",
    "clf_new.fit(scaled_train_X, train_y)\n",
    "pred_y_new = clf_new.predict(scaled_test_X)\n",
    "\n",
    "print(clf_new.n_support_)\n",
    "print(classification_report(test_y, pred_y_new))\n",
    "\n",
    "#调整惩罚系数C寻优"
   ]
  },
  {
   "cell_type": "markdown",
   "metadata": {},
   "source": [
    "> 预期结果\n",
    "\n",
    "![demo](https://ai-studio-static-online.cdn.bcebos.com/0768604ae0644fcdb3edd584090f6af7fae81344e0b14da789ec1324ee81bcf0)\n"
   ]
  },
  {
   "cell_type": "markdown",
   "metadata": {},
   "source": [
    "## 任务2：SVC选定RBF核函数，并寻优核带宽参数gamma\n",
    "\n",
    "> 在支持向量分类器中，核函数对其性能有直接的影响。已知径向基函数 RBF 及核矩阵元素为：\n",
    "$$K(\\boldsymbol{x}_i, \\boldsymbol{x}_j)=\\exp(-\\gamma\\|\\boldsymbol{x}_i-\\boldsymbol{x}_j\\|^2)$$\n",
    "$$\\ \\ \\ \\ \\ \\ \\ \\ \\ \\ \\ \\ \\ \\ \\ \\ \\ \\ \\ \\ \\ \\ \\ \\ \\ \\ \\ \\ \\ \\ \\ \\ \\ \\ \\ \\ \\ \\ \\ =\\exp (\\gamma\\cdot(2\\boldsymbol{x}_i^{\\text{T}}  \\boldsymbol{x}_j- \\boldsymbol{x}_i^{\\text{T}}\\boldsymbol{x}_i - \\boldsymbol{x}_j^{\\text{T}}\\boldsymbol{x}_j),$$\n",
    "且对于核矩阵K，有$K_{ij}=K(\\boldsymbol{x}_i, \\boldsymbol{x}_j).$\n",
    "\n",
    "主要任务如下：\n",
    "- 自定义函数实现径向基函数 rbf_kernel，要求输入参数为两个矩阵 X、Y，以及 gamma；\n",
    "- 利用rbf_kernel核函数，计算标准化后的训练集scaled_train_X的核矩阵，并存为 rbf_matrix；\n",
    "- 利用rbf_kernel核函数，训练支持向量分类器 clf，并预测标准化后的测试数据 scaled_test_X 的标签，最后评价模型效果。\n",
    "> 提示：先计算各自的 Gram 矩阵，然后再使用 np.diag 提取对角线元素，使用 np.tile 将列表扩展成一个矩阵。"
   ]
  },
  {
   "cell_type": "markdown",
   "metadata": {},
   "source": [
    "> 待补全代码"
   ]
  },
  {
   "cell_type": "code",
   "execution_count": 2,
   "metadata": {
    "scrolled": true
   },
   "outputs": [
    {
     "name": "stdout",
     "output_type": "stream",
     "text": [
      "[220 214]\n",
      "              precision    recall  f1-score   support\n",
      "\n",
      "           0       0.81      0.91      0.85       107\n",
      "           1       0.71      0.51      0.59        47\n",
      "\n",
      "    accuracy                           0.79       154\n",
      "   macro avg       0.76      0.71      0.72       154\n",
      "weighted avg       0.78      0.79      0.77       154\n",
      "\n"
     ]
    }
   ],
   "source": [
    "# 请在下方作答 #\n",
    "\n",
    "import numpy as np\n",
    "\n",
    "def rbf_kernel(X, Y, gamma=0.24):\n",
    "    \n",
    "    # 获取X和Y的大小\n",
    "    num1 = X.shape[0]\n",
    "    num2 = Y.shape[0]\n",
    "    \n",
    "    # 计算X和X^T的矩阵乘积\n",
    "    gram_1 = np.dot(X, X.T)\n",
    "    \n",
    "    # 获取gram_1对角线位置的元素，组成大小(num1, 1)的列表，并将整个列表复制，扩展为(num1, num2)大小的矩阵component1\n",
    "    component1 = np.tile(np.diag(gram_1).reshape(-1, 1), (1, num2))\n",
    "    \n",
    "    # 计算Y和Y^T的乘积\n",
    "    gram_2 = np.dot(Y, Y.T)\n",
    "     \n",
    "    # 获取gram_2对角线位置的元素，组成(1, num2)的列表，并将整个列表复制，扩展为(num1, num2)大小的矩阵component2\n",
    "    component2 = np.tile(np.diag(gram_2).reshape(1, -1), (num1, 1))\n",
    "   \n",
    "    # 计算2X和Y^T的内积 \n",
    "    component3 = np.dot(X, Y.T)\n",
    "  \n",
    "    # 返回结果\n",
    "    result = np.exp(gamma*(component3 - component1 - component2))\n",
    "    return result\n",
    "\n",
    "# 计算糖尿病患者训练数据集的核矩阵\n",
    "rbf_matrix = rbf_kernel(scaled_train_X, scaled_train_X)\n",
    "\n",
    "# 训练一个支持向量分类器\n",
    "clf = SVC(kernel=rbf_kernel)\n",
    "clf.fit(scaled_train_X, train_y)\n",
    "pred_y = clf.predict(scaled_test_X)\n",
    "print (clf.n_support_)\n",
    "print (classification_report(test_y, pred_y))\n",
    "\n",
    "# 调整gamma值寻找最优"
   ]
  },
  {
   "cell_type": "markdown",
   "metadata": {},
   "source": [
    "> 预期结果\n",
    "\n",
    "![](https://ai-studio-static-online.cdn.bcebos.com/09cbd0f9a36e4802941289e87082169b6640e370714642d38606e76575bc5632)\n",
    "\n"
   ]
  },
  {
   "cell_type": "markdown",
   "metadata": {},
   "source": [
    "## 任务3：自定义函数实现SVM（选做）\n",
    "\n",
    "主要任务如下：\n",
    "- 读取sklearn中的iris数据集，提取特征与标记，并进行数据划分为训练与测试集；\n",
    "- 自定义函数实现SVM；\n",
    "- 调用SVM函数进行支持向量机训练，并对测试集进行测试。\n",
    "\n"
   ]
  },
  {
   "cell_type": "markdown",
   "metadata": {},
   "source": [
    "> 待补全代码"
   ]
  },
  {
   "cell_type": "code",
   "execution_count": 3,
   "metadata": {
    "scrolled": true
   },
   "outputs": [],
   "source": [
    "import numpy as np\n",
    "import pandas as pd\n",
    "from sklearn.model_selection import train_test_split\n",
    "from sklearn.preprocessing import StandardScaler\n",
    "from sklearn.metrics import classification_report\n",
    "from sklearn.svm import SVC\n",
    "from sklearn.datasets import load_iris\n",
    "from sklearn.model_selection import train_test_split\n",
    "import matplotlib.pyplot as plt\n",
    "\n",
    "def create_data():\n",
    "    iris = load_iris()\n",
    "    df = pd.DataFrame(iris.data, columns=iris.feature_names)\n",
    "    df['label'] = iris.target\n",
    "    df.columns = ['sepal length', 'sepal width', 'petal length', 'petal width', 'label']\n",
    "    data = np.array(df.iloc[:100, [0, 1, -1]])\n",
    "    for i in range(len(data)):\n",
    "        if data[i,-1] == 0:\n",
    "            data[i,-1] = -1\n",
    "    # print(data)\n",
    "    return data[:,:2], data[:,-1]\n",
    "\n",
    "# 读取数据，拆分数据，训练测试集划分\n",
    "X, y = create_data()\n",
    "X_train, X_test, y_train, y_test = train_test_split(X, y, test_size=0.25)"
   ]
  },
  {
   "cell_type": "code",
   "execution_count": 4,
   "metadata": {
    "scrolled": true,
    "tags": []
   },
   "outputs": [],
   "source": [
    "class SVM:\n",
    "    def __init__(self, max_iter=100, kernel='linear'):\n",
    "        self.max_iter = max_iter\n",
    "        self._kernel = kernel\n",
    "    \n",
    "    def init_args(self, features, labels):\n",
    "        self.m, self.n = features.shape\n",
    "        self.X = features\n",
    "        self.Y = labels\n",
    "        self.b = 0.0\n",
    "        \n",
    "        # 将Ei保存在一个列表里\n",
    "        self.alpha = np.ones(self.m)\n",
    "        self.E = [self._E(i) for i in range(self.m)]\n",
    "        # 松弛变量\n",
    "        self.C = 1.0\n",
    "        \n",
    "    def _KKT(self, i):\n",
    "        y_g = self._g(i)*self.Y[i]\n",
    "        if self.alpha[i] == 0:\n",
    "            return y_g >= 1\n",
    "        elif 0 < self.alpha[i] < self.C:\n",
    "            return y_g == 1\n",
    "        else:\n",
    "            return y_g <= 1\n",
    "    \n",
    "    # g(x)预测值，输入xi（X[i]）\n",
    "    def _g(self, i):\n",
    "        r = self.b\n",
    "        for j in range(self.m):\n",
    "            r += self.alpha[j] * self.Y[j] * self.kernel(self.X[i], self.X[j])\n",
    "        return r\n",
    "    \n",
    "    # 核函数\n",
    "    def kernel(self, x1, x2):\n",
    "        if self._kernel == 'linear':\n",
    "            return sum([x1[k] * x2[k] for k in range(self.n)])\n",
    "        elif self._kernel == 'poly':\n",
    "            return (sum([x1[k]*x2[k] for k in range(self.n)]) + 1)**2\n",
    "    \n",
    "        return 0\n",
    "    \n",
    "    # E（x）为g(x)对输入x的预测值和y的差\n",
    "    def _E(self, i):\n",
    "        return self._g(i) - self.Y[i]\n",
    "    \n",
    "    def _init_alpha(self):\n",
    "        # 外层循环首先遍历所有满足0<a<C的样本点，检验是否满足KKT\n",
    "        index_list = [i for i in range(self.m) if 0 < self.alpha[i] < self.C]\n",
    "        # 否则遍历整个训练集\n",
    "        non_satisfy_list = [i for i in range(self.m) if i not in index_list]\n",
    "        index_list.extend(non_satisfy_list)\n",
    "        \n",
    "        for i in index_list:\n",
    "            if self._KKT(i):\n",
    "                continue\n",
    "            \n",
    "            E1 = self.E[i]\n",
    "            # 如果E2是+，选择最小的；如果E2是负的，选择最大的\n",
    "            if E1 >= 0:\n",
    "                j = min(range(self.m), key=lambda x: self.E[x])\n",
    "            else:\n",
    "                j = max(range(self.m), key=lambda x: self.E[x])\n",
    "            return i, j\n",
    "        \n",
    "    def _compare(self, _alpha, L, H):\n",
    "        if _alpha > H:\n",
    "            return H\n",
    "        elif _alpha < L:\n",
    "            return L\n",
    "        else:\n",
    "            return _alpha      \n",
    "    \n",
    "    def fit(self, features, labels):\n",
    "        self.init_args(features, labels)\n",
    "        \n",
    "        for t in range(self.max_iter):\n",
    "            # train\n",
    "            i1, i2 = self._init_alpha()\n",
    "            \n",
    "            # 边界\n",
    "            if self.Y[i1] == self.Y[i2]:\n",
    "                L = max(0, self.alpha[i1]+self.alpha[i2]-self.C)\n",
    "                H = min(self.C, self.alpha[i1]+self.alpha[i2])\n",
    "            else:\n",
    "                L = max(0, self.alpha[i2]-self.alpha[i1])\n",
    "                H = min(self.C, self.C+self.alpha[i2]-self.alpha[i1])\n",
    "                \n",
    "            E1 = self.E[i1]\n",
    "            E2 = self.E[i2]\n",
    "            # eta=K11+K22-2K12\n",
    "            eta = self.kernel(self.X[i1], self.X[i1]) + self.kernel(self.X[i2], self.X[i2]) - 2*self.kernel(self.X[i1], self.X[i2])\n",
    "            if eta <= 0:\n",
    "                # print('eta <= 0')\n",
    "                continue\n",
    "                \n",
    "            alpha2_new_unc = self.alpha[i2] + self.Y[i2] * (E2 - E1) / eta\n",
    "            alpha2_new = self._compare(alpha2_new_unc, L, H)\n",
    "            \n",
    "            alpha1_new = self.alpha[i1] + self.Y[i1] * self.Y[i2] * (self.alpha[i2] - alpha2_new)\n",
    "            \n",
    "            b1_new = -E1 - self.Y[i1] * self.kernel(self.X[i1], self.X[i1]) * (alpha1_new-self.alpha[i1]) - self.Y[i2] * self.kernel(self.X[i2], self.X[i1]) * (alpha2_new-self.alpha[i2])+ self.b \n",
    "            b2_new = -E2 - self.Y[i1] * self.kernel(self.X[i1], self.X[i2]) * (alpha1_new-self.alpha[i1]) - self.Y[i2] * self.kernel(self.X[i2], self.X[i2]) * (alpha2_new-self.alpha[i2])+ self.b \n",
    "            \n",
    "            if 0 < alpha1_new < self.C:\n",
    "                b_new = b1_new\n",
    "            elif 0 < alpha2_new < self.C:\n",
    "                b_new = b2_new\n",
    "            else:\n",
    "                # 选择中点\n",
    "                b_new = (b1_new + b2_new) / 2\n",
    "                \n",
    "            # 更新参数\n",
    "            self.alpha[i1] = alpha1_new\n",
    "            self.alpha[i2] = alpha2_new\n",
    "            self.b = b_new\n",
    "            \n",
    "            self.E[i1] = self._E(i1)\n",
    "            self.E[i2] = self._E(i2)\n",
    "        return 'train done!'\n",
    "            \n",
    "    def predict(self, data):\n",
    "        r = self.b\n",
    "        for i in range(self.m):\n",
    "            r += self.alpha[i] * self.Y[i] * self.kernel(data, self.X[i])\n",
    "            \n",
    "        return 1 if r > 0 else -1\n",
    "    \n",
    "    def score(self, X_test, y_test):\n",
    "        right_count = 0\n",
    "        for i in range(len(X_test)):\n",
    "            result = self.predict(X_test[i])\n",
    "            if result == y_test[i]:\n",
    "                right_count += 1\n",
    "        return right_count / len(X_test)\n",
    "    \n",
    "    def _weight(self):\n",
    "        # linear model\n",
    "        yx = self.Y.reshape(-1, 1)*self.X\n",
    "        self.w = np.dot(yx.T, self.alpha)\n",
    "        return self.w"
   ]
  },
  {
   "cell_type": "code",
   "execution_count": 5,
   "metadata": {
    "scrolled": true,
    "tags": []
   },
   "outputs": [
    {
     "data": {
      "text/plain": [
       "0.92"
      ]
     },
     "execution_count": 5,
     "metadata": {},
     "output_type": "execute_result"
    }
   ],
   "source": [
    "# 调用SVM进行模型训练与测试评估\n",
    "svm = SVM(max_iter=100)\n",
    "svm.fit(X_train, y_train)\n",
    "svm.score(X_test, y_test)"
   ]
  }
 ],
 "metadata": {
  "kernelspec": {
   "display_name": "Python 3",
   "language": "python",
   "name": "python3"
  },
  "language_info": {
   "codemirror_mode": {
    "name": "ipython",
    "version": 3
   },
   "file_extension": ".py",
   "mimetype": "text/x-python",
   "name": "python",
   "nbconvert_exporter": "python",
   "pygments_lexer": "ipython3",
   "version": "3.11.1"
  },
  "toc-showmarkdowntxt": false,
  "toc-showtags": false
 },
 "nbformat": 4,
 "nbformat_minor": 4
}
