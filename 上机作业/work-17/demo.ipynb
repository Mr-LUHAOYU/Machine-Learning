{
 "cells": [
  {
   "cell_type": "markdown",
   "metadata": {},
   "source": [
    "# 任务：半监督学习算法进行数字识别"
   ]
  },
  {
   "cell_type": "markdown",
   "metadata": {},
   "source": [
    "## 1. 导入各种包"
   ]
  },
  {
   "cell_type": "code",
   "execution_count": null,
   "metadata": {
    "scrolled": true
   },
   "outputs": [],
   "source": [
    "import numpy as np\n",
    "import matplotlib.pyplot as plt\n",
    "from scipy import stats\n",
    "from sklearn import datasets\n",
    "from sklearn.semi_supervised import label_propagation\n",
    "from sklearn.metrics import classification_report,confusion_matrix"
   ]
  },
  {
   "cell_type": "markdown",
   "metadata": {},
   "source": [
    "## 2. 加载digits数据集，从中随机选取100个样本打类别标签"
   ]
  },
  {
   "cell_type": "code",
   "execution_count": null,
   "metadata": {
    "scrolled": true,
    "tags": []
   },
   "outputs": [],
   "source": [
    "digits = datasets.load_digits()\n",
    "# indices是随机产生的0-1796个数字，且打乱\n",
    "# _________________________\n",
    "indices = np.random.permutation(len(digits.data))[:100]\n",
    "\n",
    "X = digits.data[indices]\n",
    "y = digits.target[indices]\n",
    "images = digits.images[indices]\n",
    "\n",
    "n_total_samples = len(y) \n",
    "n_labeled_points = 100 # 标注好的数据共100条\n",
    "max_iterations = 10 # 迭代次数\n",
    "\n",
    "# unlabeled_indices = _________________________ # 未标注的数据索引\n",
    "unlabeled_indices = np.arange(n_labeled_points, n_total_samples)"
   ]
  },
  {
   "cell_type": "markdown",
   "metadata": {},
   "source": [
    "## 3. 运用sklearn包中label_propagation算法训练模型，对未标记样本进行预测"
   ]
  },
  {
   "cell_type": "code",
   "execution_count": null,
   "metadata": {
    "scrolled": true,
    "tags": []
   },
   "outputs": [],
   "source": [
    "for i in range(max_iterations):\n",
    "    if len(unlabeled_indices) == 0:\n",
    "        print(\"no unlabeled items left to label\") # 没有未标记的标签了，全部标注好了\n",
    "        break\n",
    "\n",
    "    y_train = np.copy(y)\n",
    "    y_train[unlabeled_indices] = -1 #把未标注的数据全部标记为-1\n",
    "    \n",
    "    # 请在下方补充训练模型与预测代码\n",
    "    lp_model = label_propagation.LabelSpreading()\n",
    "    lp_model.fit(X, y_train)\n",
    "    \n",
    "    predicted_labels = lp_model.transduction_[unlabeled_indices]\n",
    "    true_labels = y[unlabeled_indices] # 真实的标签\n",
    "    \n",
    "cm = confusion_matrix(true_labels,predicted_labels,labels = lp_model.classes_)\n",
    "print(cm)\n",
    "print(classification_report(true_labels,predicted_labels))"
   ]
  },
  {
   "cell_type": "markdown",
   "metadata": {},
   "source": [
    "## 4. 请根据cotraining算法自行编写代码，实现半监督学习数字识别任务，与上一个算法进行比较分析。（选做）"
   ]
  }
 ],
 "metadata": {
  "kernelspec": {
   "display_name": "Python 3",
   "language": "python",
   "name": "py35-paddle1.2.0"
  },
  "language_info": {
   "codemirror_mode": {
    "name": "ipython",
    "version": 3
   },
   "file_extension": ".py",
   "mimetype": "text/x-python",
   "name": "python",
   "nbconvert_exporter": "python",
   "pygments_lexer": "ipython3",
   "version": "3.7.4"
  }
 },
 "nbformat": 4,
 "nbformat_minor": 4
}
