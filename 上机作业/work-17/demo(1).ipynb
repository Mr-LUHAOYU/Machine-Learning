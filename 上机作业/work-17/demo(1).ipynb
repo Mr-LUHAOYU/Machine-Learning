{
 "cells": [
  {
   "cell_type": "markdown",
   "metadata": {},
   "source": [
    "# 任务：半监督学习算法进行数字识别"
   ]
  },
  {
   "cell_type": "markdown",
   "metadata": {},
   "source": [
    "## 1. 导入各种包"
   ]
  },
  {
   "cell_type": "code",
   "execution_count": 26,
   "metadata": {
    "execution": {
     "iopub.execute_input": "2024-06-10T09:29:33.819975Z",
     "iopub.status.busy": "2024-06-10T09:29:33.819313Z",
     "iopub.status.idle": "2024-06-10T09:29:33.825674Z",
     "shell.execute_reply": "2024-06-10T09:29:33.824550Z",
     "shell.execute_reply.started": "2024-06-10T09:29:33.819935Z"
    },
    "scrolled": true,
    "tags": []
   },
   "outputs": [],
   "source": [
    "import numpy as np\n",
    "import matplotlib.pyplot as plt\n",
    "from scipy import stats\n",
    "from sklearn import datasets\n",
    "from sklearn.semi_supervised import label_propagation\n",
    "from sklearn.metrics import classification_report,confusion_matrix"
   ]
  },
  {
   "cell_type": "markdown",
   "metadata": {},
   "source": [
    "## 2. 加载digits数据集，从中随机选取100个样本打类别标签"
   ]
  },
  {
   "cell_type": "code",
   "execution_count": 27,
   "metadata": {
    "execution": {
     "iopub.execute_input": "2024-06-10T09:29:33.827867Z",
     "iopub.status.busy": "2024-06-10T09:29:33.827567Z",
     "iopub.status.idle": "2024-06-10T09:29:36.275545Z",
     "shell.execute_reply": "2024-06-10T09:29:36.274052Z",
     "shell.execute_reply.started": "2024-06-10T09:29:33.827840Z"
    },
    "scrolled": true,
    "tags": []
   },
   "outputs": [],
   "source": [
    "digits = datasets.load_digits()\n",
    "# indices是随机产生的0-1796个数字，且打乱\n",
    "# _________________________\n",
    "indices = list(range(1797))\n",
    "np.random.shuffle(indices)\n",
    "\n",
    "X = digits.data[indices]\n",
    "y = digits.target[indices]\n",
    "images = digits.images[indices]\n",
    "\n",
    "n_total_samples = len(y) \n",
    "n_labeled_points = 100 # 标注好的数据共100条\n",
    "max_iterations = 10 # 迭代次数\n",
    "\n",
    "# unlabeled_indices = _________________________ # 未标注的数据索引\n",
    "unlabeled_indices = np.arange(n_labeled_points, n_total_samples)"
   ]
  },
  {
   "cell_type": "markdown",
   "metadata": {},
   "source": [
    "## 3. 运用sklearn包中label_propagation算法训练模型，对未标记样本进行预测"
   ]
  },
  {
   "cell_type": "code",
   "execution_count": 28,
   "metadata": {
    "execution": {
     "iopub.execute_input": "2024-06-10T09:29:36.277711Z",
     "iopub.status.busy": "2024-06-10T09:29:36.277161Z",
     "iopub.status.idle": "2024-06-10T09:30:01.133549Z",
     "shell.execute_reply": "2024-06-10T09:30:01.132342Z",
     "shell.execute_reply.started": "2024-06-10T09:29:36.277673Z"
    },
    "scrolled": true,
    "tags": []
   },
   "outputs": [
    {
     "name": "stdout",
     "output_type": "stream",
     "text": [
      "[[162   0   0   0   0   0   0   0   0   0]\r\n",
      " [  0 138  13   0   0   0  11   0   1  10]\r\n",
      " [  0   2 163   0   0   0   0   1   2   0]\r\n",
      " [  0   0   1 158   0   0   0   1  11   3]\r\n",
      " [  0   0   0   0 163   3   0   3   0   0]\r\n",
      " [  0   0   0   0   0 168   1   0   0   2]\r\n",
      " [  0   8   0   0   0   0 162   0   1   0]\r\n",
      " [  0   4   0   0   0   0   0 160   6   0]\r\n",
      " [  0   4   4   0   0   0   0   0 157   1]\r\n",
      " [  0   0   0   1   0   4   0   0  13 155]]\r\n",
      "              precision    recall  f1-score   support\r\n",
      "\r\n",
      "           0       1.00      1.00      1.00       162\r\n",
      "           1       0.88      0.80      0.84       173\r\n",
      "           2       0.90      0.97      0.93       168\r\n",
      "           3       0.99      0.91      0.95       174\r\n",
      "           4       1.00      0.96      0.98       169\r\n",
      "           5       0.96      0.98      0.97       171\r\n",
      "           6       0.93      0.95      0.94       171\r\n",
      "           7       0.97      0.94      0.96       170\r\n",
      "           8       0.82      0.95      0.88       166\r\n",
      "           9       0.91      0.90      0.90       173\r\n",
      "\r\n",
      "    accuracy                           0.93      1697\r\n",
      "   macro avg       0.94      0.94      0.94      1697\r\n",
      "weighted avg       0.94      0.93      0.93      1697\r\n",
      "\r\n"
     ]
    }
   ],
   "source": [
    "for i in range(max_iterations):\n",
    "    if len(unlabeled_indices) == 0:\n",
    "        print(\"no unlabeled items left to label\") # 没有未标记的标签了，全部标注好了\n",
    "        break\n",
    "\n",
    "    y_train = np.copy(y)\n",
    "    y_train[unlabeled_indices] = -1 #把未标注的数据全部标记为-1\n",
    "\n",
    "    # 请在下方补充训练模型与预测代码\n",
    "    lp_model = label_propagation.LabelSpreading(max_iter=max_iterations, gamma=0.25)\n",
    "    lp_model.fit(X, y_train)\n",
    "\n",
    "    predicted_labels = lp_model.transduction_[unlabeled_indices]\n",
    "    true_labels = y[unlabeled_indices] # 真实的标签\n",
    "\n",
    "cm = confusion_matrix(true_labels,predicted_labels,labels = lp_model.classes_)\n",
    "print(cm)\n",
    "print(classification_report(true_labels,predicted_labels))"
   ]
  },
  {
   "cell_type": "markdown",
   "metadata": {},
   "source": [
    "## 4. 请根据cotraining算法自行编写代码，实现半监督学习数字识别任务，与上一个算法进行比较分析。（选做）"
   ]
  },
  {
   "cell_type": "code",
   "execution_count": 31,
   "metadata": {
    "execution": {
     "iopub.execute_input": "2024-06-10T09:30:16.853532Z",
     "iopub.status.busy": "2024-06-10T09:30:16.852067Z",
     "iopub.status.idle": "2024-06-10T09:30:16.925408Z",
     "shell.execute_reply": "2024-06-10T09:30:16.924316Z",
     "shell.execute_reply.started": "2024-06-10T09:30:16.853474Z"
    },
    "scrolled": true,
    "tags": []
   },
   "outputs": [
    {
     "name": "stdout",
     "output_type": "stream",
     "text": [
      "[[159   2   0   0   0   0   0   0   0   1]\r\n",
      " [  0 129   1   0   0   0  36   0   7   0]\r\n",
      " [  4   9 101   6   0   0   2   1  45   0]\r\n",
      " [  0   3  24  52   0   0   1   6  88   0]\r\n",
      " [  5  29   0   0  95   0  10   1  18  11]\r\n",
      " [  2   4   3   0   0 102   7   1  49   3]\r\n",
      " [  4   1   0   0   5   0 150   0  10   1]\r\n",
      " [  0   8   5   4   0   0   0  55  46  52]\r\n",
      " [  0  20   8   1   0   0   0   0 132   5]\r\n",
      " [  0  16   4   0   0   0   0  10  78  65]]\r\n",
      "              precision    recall  f1-score   support\r\n",
      "\r\n",
      "           0       0.91      0.98      0.95       162\r\n",
      "           1       0.58      0.75      0.65       173\r\n",
      "           2       0.69      0.60      0.64       168\r\n",
      "           3       0.83      0.30      0.44       174\r\n",
      "           4       0.95      0.56      0.71       169\r\n",
      "           5       1.00      0.60      0.75       171\r\n",
      "           6       0.73      0.88      0.80       171\r\n",
      "           7       0.74      0.32      0.45       170\r\n",
      "           8       0.28      0.80      0.41       166\r\n",
      "           9       0.47      0.38      0.42       173\r\n",
      "\r\n",
      "    accuracy                           0.61      1697\r\n",
      "   macro avg       0.72      0.62      0.62      1697\r\n",
      "weighted avg       0.72      0.61      0.62      1697\r\n",
      "\r\n"
     ]
    }
   ],
   "source": [
    "from sklearn.naive_bayes import GaussianNB\r\n",
    "\r\n",
    "# 分割特征集为两部分\r\n",
    "X1, X2 = X[:, :32], X[:, 32:]\r\n",
    "\r\n",
    "# Co-training算法\r\n",
    "def cotraining(X1, X2, y, labeled_indices, unlabeled_indices, max_iter=10):\r\n",
    "    clf1 = GaussianNB()\r\n",
    "    clf2 = GaussianNB()\r\n",
    "\r\n",
    "    for _ in range(max_iter):\r\n",
    "        clf1.fit(X1[labeled_indices], y[labeled_indices])\r\n",
    "        clf2.fit(X2[labeled_indices], y[labeled_indices])\r\n",
    "        \r\n",
    "        y_pred1 = clf1.predict(X1[unlabeled_indices])\r\n",
    "        y_pred2 = clf2.predict(X2[unlabeled_indices])\r\n",
    "        \r\n",
    "        newly_labeled_indices = []\r\n",
    "        for i in range(len(unlabeled_indices)):\r\n",
    "            if y_pred1[i] == y_pred2[i]:\r\n",
    "                newly_labeled_indices.append(unlabeled_indices[i])\r\n",
    "        \r\n",
    "        if not newly_labeled_indices:\r\n",
    "            break\r\n",
    "        \r\n",
    "        labeled_indices = np.concatenate((labeled_indices, newly_labeled_indices))\r\n",
    "        unlabeled_indices = np.setdiff1d(unlabeled_indices, newly_labeled_indices)\r\n",
    "    \r\n",
    "    # 最终模型训练\r\n",
    "    clf1.fit(X1[labeled_indices], y[labeled_indices])\r\n",
    "    return clf1\r\n",
    "\r\n",
    "# 训练Co-training模型\r\n",
    "y_train = y.copy()\r\n",
    "labeled_indices = np.arange(0, n_labeled_points)\r\n",
    "cotrained_model = cotraining(X1, X2, y_train, labeled_indices, unlabeled_indices, max_iterations)\r\n",
    "\r\n",
    "# 预测并评估Co-training模型\r\n",
    "predicted_labels = cotrained_model.predict(X1[unlabeled_indices])\r\n",
    "true_labels = y[unlabeled_indices]\r\n",
    "cm = confusion_matrix(true_labels, predicted_labels, labels = lp_model.classes_)\r\n",
    "print(cm)\r\n",
    "print(classification_report(true_labels, predicted_labels))\r\n"
   ]
  },
  {
   "cell_type": "code",
   "execution_count": null,
   "metadata": {
    "scrolled": true
   },
   "outputs": [],
   "source": []
  }
 ],
 "metadata": {
  "kernelspec": {
   "display_name": "Python 3",
   "language": "python",
   "name": "py35-paddle1.2.0"
  },
  "language_info": {
   "codemirror_mode": {
    "name": "ipython",
    "version": 3
   },
   "file_extension": ".py",
   "mimetype": "text/x-python",
   "name": "python",
   "nbconvert_exporter": "python",
   "pygments_lexer": "ipython3",
   "version": "3.7.4"
  }
 },
 "nbformat": 4,
 "nbformat_minor": 4
}
