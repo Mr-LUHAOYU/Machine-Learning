{
 "cells": [
  {
   "cell_type": "markdown",
   "metadata": {},
   "source": [
    "# 广告点击率预测\n",
    "\n",
    "广告点击率(CTR)预测是广告行业的典型应用，是评估广告效果的一个非常重要的指标。通过历史数据训练预测模型，对于每天的增量数据进行预测，找出广告的CTR符合标准的样本进行投放。\n",
    "## 数据集介绍\n",
    "数据集来自于kaggle，数据包含了10天的Avazu的广告点击数据，训练集10000个，测试集1000个。每一条广告包含：广告id、时间、广告位置等属性。\n",
    "\n",
    "![](https://ai-studio-static-online.cdn.bcebos.com/1682d3186a5d4fedab10c4ad3a7f3656e3db56852e5c4fdbb4fb26005c0ba811)\n",
    "\n",
    "## 任务1：导入库和数据集与数据预处理\n",
    "- 读入训练数据和测试数据，划分data和label\n",
    "- 将string类型的特征转化为int型：1）进行 one-hot 编码处理，会得到高维稀疏的特征，增大内存开销；2）使用python内置的hash函数将那些类型为object的特征变量映射为一定范围内的整数(原来的string被映射成了integer)，可以大大降低内存的消耗。\n",
    "\n"
   ]
  },
  {
   "cell_type": "code",
   "execution_count": null,
   "metadata": {
    "scrolled": true,
    "is_executing": true,
    "ExecuteTime": {
     "start_time": "2024-03-26T02:41:43.654409Z"
    }
   },
   "outputs": [],
   "source": [
    "import gzip\n",
    "import pandas as pd\n",
    "import random\n",
    "import numpy as np\n",
    "import matplotlib.pyplot as plt\n",
    "import seaborn as sns\n",
    "from sklearn import linear_model\n",
    "\n",
    "types_train = {\n",
    "    'id': np.dtype(int),\n",
    "    'click': np.dtype(int),         #是否点击,1表示被点击,0表示没被点击\n",
    "    'hour': np.dtype(int),          #广告被展现的日期+时间\n",
    "    'C1': np.dtype(int),            #匿名分类变量\n",
    "    'banner_pos': np.dtype(int),    #广告位置\n",
    "    'site_id': np.dtype(str),       #站点Id\n",
    "    'site_domain': np.dtype(str),   #站点域名\n",
    "    'site_category': np.dtype(str), #站点分类\n",
    "    'app_id': np.dtype(str),        # appId\n",
    "    'app_domain': np.dtype(str),    # app域名\n",
    "    'app_category': np.dtype(str),  # app分类\n",
    "    'device_id': np.dtype(str),     #设备Id\n",
    "    'device_ip': np.dtype(str),     #设备Ip\n",
    "    'device_model': np.dtype(str),  #设备型号\n",
    "    'device_type': np.dtype(int),   #设备型号\n",
    "    'device_conn_type': np.dtype(int),\n",
    "    'C14': np.dtype(int),   #匿名分类变量\n",
    "    'C15': np.dtype(int),   #匿名分类变量\n",
    "    'C16': np.dtype(int),   #匿名分类变量\n",
    "    'C17': np.dtype(int),   #匿名分类变量\n",
    "    'C18': np.dtype(int),   #匿名分类变量\n",
    "    'C19': np.dtype(int),   #匿名分类变量\n",
    "    'C20': np.dtype(int),   #匿名分类变量\n",
    "    'C21':np.dtype(int)     #匿名分类变量\n",
    "}\n",
    "\n",
    "# 添加列名\n",
    "header_row = ['id', 'click', 'hour', 'C1', 'banner_pos', 'site_id', 'site_domain', 'site_category', \n",
    "              'app_id', 'app_domain', 'app_category', 'device_id', 'device_ip', 'device_model',\\\n",
    "              'device_type', 'device_conn_type', 'C14', 'C15', 'C16', 'C17', 'C18', 'C19',\\\n",
    "              'C20', 'C21']\n",
    "\n",
    "# 读入训练数据和测试数据\n",
    "train = pd.read_csv('train_data.csv', names=header_row, dtype=types_train)\n",
    "test = pd.read_csv('test_data.csv', names=header_row, dtype=types_train)\n",
    "# 去除第0行（表示列的编号，不是样本）\n",
    "train = train.drop(labels=train.index.values[0])\n",
    "test = test.drop(labels=test.index.values[0])\n",
    "print(test.shape)\n",
    "\n",
    "# 划分data和label\n",
    "train_data = ____________ #去除click 这一列\n",
    "print(train_data.shape)\n",
    "train_label = ____________ #提取click 这一列\n",
    "\n",
    "test_data = ___________ #去除click 这一列\n",
    "print(test_data.shape)\n",
    "test_label = ____________ #提取click 这一列\n",
    "\n",
    "\n",
    "# 数据预处理\n",
    "# 使用pd.get_dummies对非数值型特征进行 one-hot 编码处理，得到高维稀疏的特征\n",
    "train_data1 = ____________ \n",
    "print(train_data1.shape)\n",
    "\n",
    "# 编写convert_obj_to_int()函数将string类型的特征转换为int型\n",
    "def convert_obj_to_int(self):\n",
    "    object_list_columns = self.columns\n",
    "    object_list_dtypes = self.dtypes\n",
    "    new_col_suffix = '_int'\n",
    "    for index in range(0, len(object_list_columns)):\n",
    "        if object_list_dtypes[index] == object:\n",
    "            # 使用hash和map将string特征变量映射为一定范围内的整数\n",
    "            self[object_list_columns[index] + new_col_suffix] = self[object_list_columns[index]].map(____________)\n",
    "            self.drop([object_list_columns[index]], inplace=True, axis=1)\n",
    "    return self\n",
    "\n",
    "# 调用convert_obj_to_int()函数，将string类型转换为int型    \n",
    "train_data = ____________ \n",
    "print(train_data.shape)\n",
    "test_data = ____________ \n",
    "print(test_data.shape)"
   ]
  },
  {
   "cell_type": "markdown",
   "metadata": {},
   "source": [
    "## 任务2：特征分析\n",
    "以广告在网页中的位置(banner_pos)为例，查看banner_pos和最终类标(click)之间的关系。\n",
    "- 查看banner_pos在数据集中的取值分布；\n",
    "- 查看不同banner_pos对点击率click的贡献。"
   ]
  },
  {
   "cell_type": "code",
   "execution_count": null,
   "metadata": {
    "scrolled": true
   },
   "outputs": [],
   "source": [
    "# 查看banner_pos在数据集中的取值分布\n",
    "print(train.banner_pos.value_counts()/len(train))\n",
    "\n",
    "# 查看不同banner_pos对点击率click的贡献\n",
    "banner_pos_val = train.banner_pos.unique()\n",
    "banner_pos_val.sort()\n",
    "ctr_avg_list = []\n",
    "for i in banner_pos_val:\n",
    "    selected_data = train.loc[train.banner_pos == i]\n",
    "    ctr_avg = selected_data.click.mean()\n",
    "    ctr_avg_list.append(ctr_avg)\n",
    "    print(\" banner 位置: {},  点击率: {}\".format(i, ctr_avg))"
   ]
  },
  {
   "cell_type": "markdown",
   "metadata": {},
   "source": [
    "## 任务3：模型训练与评估\n",
    "- 调用sklearn的逻辑回归函数LogisticRegression()，进行模型训练\n",
    "- 对测试集test_data进行预测，计算预测结果的各项指标acc, pre, recall, auc\n",
    "- 绘制ROC曲线（使用预测的概率值而不是预测的类标）\n",
    "- **选做**：自定义逻辑回归函数MyLogisticRegression()，进行模型训练与预测，与上述结果比较。"
   ]
  },
  {
   "cell_type": "code",
   "execution_count": null,
   "metadata": {
    "scrolled": true
   },
   "outputs": [],
   "source": [
    "# 调用sklearn的逻辑回归函数LogisticRegression()\n",
    "clf = ____________ \n",
    "# 模型训练\n",
    "______________________  \n",
    "print(\"Finish Training!\")\n",
    "# 模型预测\n",
    "pred = ______________________ \n",
    "\n",
    "# 计算模型的acc, pre, recall, auc，并输出\n",
    "# 请在下方作答\n",
    "\n",
    "# 绘制roc曲线\n",
    "# 请在下方作答\n",
    "\n",
    "# 自定义实现逻辑回归函数MyLogisticRegression()\n",
    "# 请在下方作答"
   ]
  }
 ],
 "metadata": {
  "kernelspec": {
   "name": "python3",
   "language": "python",
   "display_name": "Python 3 (ipykernel)"
  },
  "language_info": {
   "codemirror_mode": {
    "name": "ipython",
    "version": 3
   },
   "file_extension": ".py",
   "mimetype": "text/x-python",
   "name": "python",
   "nbconvert_exporter": "python",
   "pygments_lexer": "ipython3",
   "version": "3.7.4"
  }
 },
 "nbformat": 4,
 "nbformat_minor": 4
}
